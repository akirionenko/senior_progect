{
 "cells": [
  {
   "cell_type": "markdown",
   "id": "6b503ace",
   "metadata": {},
   "source": [
    "# Ритейл — Анализ программы лояльности"
   ]
  },
  {
   "attachments": {},
   "cell_type": "markdown",
   "id": "d982e684",
   "metadata": {},
   "source": [
    "ОПИСАНИЕ ДАННЫХ:\\\n",
    "Датасет содержит данные о покупках в магазине строительных материалов «Строили, строили и наконец построили». \\\n",
    "Все покупатели могут получить доступ в магазин с использованием персональных карт. \\\n",
    "За 200 рублей в месяц они могут стать участниками программы лояльности. \\\n",
    "В программу включены скидки, специальные предложения, подарки.\n",
    "\n",
    "ЗАДАЧИ ПРОЕКТА:\\\n",
    "Провести исследовательский анализ данных;\\\n",
    "Провести анализ программы лояльности;\\\n",
    "Сформулировать и проверить статистические гипотезы.\\\n",
    "Оценить возможности развития программы лояльности."
   ]
  },
  {
   "attachments": {},
   "cell_type": "markdown",
   "id": "cc8bf047",
   "metadata": {},
   "source": [
    "## Загрузка данных.\n",
    "Загрузка и первичный осмотр, получение общей информации о наборах данных."
   ]
  },
  {
   "attachments": {},
   "cell_type": "markdown",
   "id": "830992ac",
   "metadata": {},
   "source": [
    "В нашем распоряжении два датасета:\\\n",
    "retail_dataset.csv - журнал продаж\\\n",
    "product_codes.csv - стоимость товара"
   ]
  },
  {
   "cell_type": "code",
   "execution_count": 848,
   "id": "ba1c23eb",
   "metadata": {},
   "outputs": [],
   "source": [
    "#загрузим нужные библиотеки\n",
    "import pandas as pd\n",
    "import numpy as np\n",
    "from numpy import mean\n",
    "import warnings\n",
    "import math as mth\n",
    "import datetime as dt\n",
    "import seaborn as sns\n",
    "import scipy.stats as st\n",
    "import plotly.express as px\n",
    "import matplotlib.pyplot as plt\n",
    "from plotly import graph_objects as go \n",
    "warnings.simplefilter(\"ignore\")"
   ]
  },
  {
   "cell_type": "code",
   "execution_count": 849,
   "id": "d8ed5277",
   "metadata": {},
   "outputs": [],
   "source": [
    "#загрузим данные\n",
    "try:\n",
    "   product, retail = (\n",
    "    pd.read_csv(\"C:\\\\Users\\\\kirio\\\\OneDrive\\\\Рабочий стол\\\\ЯПрактикум\\\\14_Выпускной Проект\\\\product_codes.csv\", sep=','), #стоимость товара\n",
    "    pd.read_csv('C:\\\\Users\\\\kirio\\\\OneDrive\\\\Рабочий стол\\\\ЯПрактикум\\\\14_Выпускной Проект\\\\retail_dataset.csv', sep=',') #журнал продаж\n",
    ")\n",
    "except:\n",
    "   product, retail = (\n",
    "    pd.read_csv('https://code.s3.yandex.net/datasets/product_codes.csv', sep=','), #стоимость товара\n",
    "    pd.read_csv('https://code.s3.yandex.net/datasets/product_codes.csv', sep=',') #журнал продаж\n",
    ")"
   ]
  },
  {
   "attachments": {},
   "cell_type": "markdown",
   "id": "c9cced77",
   "metadata": {},
   "source": [
    "### Изучение датасетов"
   ]
  },
  {
   "cell_type": "code",
   "execution_count": 850,
   "id": "fc2c0ce8",
   "metadata": {},
   "outputs": [],
   "source": [
    "# функция для вывода информации о датасетах\n",
    "def gen_info(data):\n",
    "    data.info()\n",
    "    display(data.head())"
   ]
  },
  {
   "attachments": {},
   "cell_type": "markdown",
   "id": "b6c356f7",
   "metadata": {},
   "source": [
    "retail_dataset.csv:\n",
    "\n",
    "- `purchaseId` — id чека;\n",
    "- `item_ID` — id товара;\n",
    "- `purchasedate` — дата покупки;\n",
    "- `Quantity` — количество товара;\n",
    "- `CustomerID` — id покупателя;\n",
    "- `ShopID` — id магазина;\n",
    "- `loyalty_program` — участвует ли покупатель в программе лояльности;"
   ]
  },
  {
   "cell_type": "code",
   "execution_count": 851,
   "id": "d16a4f92",
   "metadata": {},
   "outputs": [
    {
     "name": "stdout",
     "output_type": "stream",
     "text": [
      "<class 'pandas.core.frame.DataFrame'>\n",
      "RangeIndex: 105335 entries, 0 to 105334\n",
      "Data columns (total 7 columns):\n",
      " #   Column           Non-Null Count   Dtype  \n",
      "---  ------           --------------   -----  \n",
      " 0   purchaseid       105335 non-null  object \n",
      " 1   item_ID          105335 non-null  object \n",
      " 2   Quantity         105335 non-null  int64  \n",
      " 3   purchasedate     105335 non-null  object \n",
      " 4   CustomerID       69125 non-null   float64\n",
      " 5   ShopID           105335 non-null  object \n",
      " 6   loyalty_program  105335 non-null  float64\n",
      "dtypes: float64(2), int64(1), object(4)\n",
      "memory usage: 5.6+ MB\n"
     ]
    },
    {
     "data": {
      "text/html": [
       "<div>\n",
       "<style scoped>\n",
       "    .dataframe tbody tr th:only-of-type {\n",
       "        vertical-align: middle;\n",
       "    }\n",
       "\n",
       "    .dataframe tbody tr th {\n",
       "        vertical-align: top;\n",
       "    }\n",
       "\n",
       "    .dataframe thead th {\n",
       "        text-align: right;\n",
       "    }\n",
       "</style>\n",
       "<table border=\"1\" class=\"dataframe\">\n",
       "  <thead>\n",
       "    <tr style=\"text-align: right;\">\n",
       "      <th></th>\n",
       "      <th>purchaseid</th>\n",
       "      <th>item_ID</th>\n",
       "      <th>Quantity</th>\n",
       "      <th>purchasedate</th>\n",
       "      <th>CustomerID</th>\n",
       "      <th>ShopID</th>\n",
       "      <th>loyalty_program</th>\n",
       "    </tr>\n",
       "  </thead>\n",
       "  <tbody>\n",
       "    <tr>\n",
       "      <th>0</th>\n",
       "      <td>538280</td>\n",
       "      <td>21873</td>\n",
       "      <td>11</td>\n",
       "      <td>2016-12-10 12:50:00</td>\n",
       "      <td>18427.0</td>\n",
       "      <td>Shop 0</td>\n",
       "      <td>0.0</td>\n",
       "    </tr>\n",
       "    <tr>\n",
       "      <th>1</th>\n",
       "      <td>538862</td>\n",
       "      <td>22195</td>\n",
       "      <td>0</td>\n",
       "      <td>2016-12-14 14:11:00</td>\n",
       "      <td>22389.0</td>\n",
       "      <td>Shop 0</td>\n",
       "      <td>1.0</td>\n",
       "    </tr>\n",
       "    <tr>\n",
       "      <th>2</th>\n",
       "      <td>538855</td>\n",
       "      <td>21239</td>\n",
       "      <td>7</td>\n",
       "      <td>2016-12-14 13:50:00</td>\n",
       "      <td>22182.0</td>\n",
       "      <td>Shop 0</td>\n",
       "      <td>1.0</td>\n",
       "    </tr>\n",
       "    <tr>\n",
       "      <th>3</th>\n",
       "      <td>543543</td>\n",
       "      <td>22271</td>\n",
       "      <td>0</td>\n",
       "      <td>2017-02-09 15:33:00</td>\n",
       "      <td>23522.0</td>\n",
       "      <td>Shop 0</td>\n",
       "      <td>1.0</td>\n",
       "    </tr>\n",
       "    <tr>\n",
       "      <th>4</th>\n",
       "      <td>543812</td>\n",
       "      <td>79321</td>\n",
       "      <td>0</td>\n",
       "      <td>2017-02-13 14:40:00</td>\n",
       "      <td>23151.0</td>\n",
       "      <td>Shop 0</td>\n",
       "      <td>1.0</td>\n",
       "    </tr>\n",
       "  </tbody>\n",
       "</table>\n",
       "</div>"
      ],
      "text/plain": [
       "  purchaseid item_ID  Quantity         purchasedate  CustomerID  ShopID  \\\n",
       "0     538280   21873        11  2016-12-10 12:50:00     18427.0  Shop 0   \n",
       "1     538862   22195         0  2016-12-14 14:11:00     22389.0  Shop 0   \n",
       "2     538855   21239         7  2016-12-14 13:50:00     22182.0  Shop 0   \n",
       "3     543543   22271         0  2017-02-09 15:33:00     23522.0  Shop 0   \n",
       "4     543812   79321         0  2017-02-13 14:40:00     23151.0  Shop 0   \n",
       "\n",
       "   loyalty_program  \n",
       "0              0.0  \n",
       "1              1.0  \n",
       "2              1.0  \n",
       "3              1.0  \n",
       "4              1.0  "
      ]
     },
     "metadata": {},
     "output_type": "display_data"
    }
   ],
   "source": [
    "#журнал продаж\n",
    "gen_info(retail)"
   ]
  },
  {
   "attachments": {},
   "cell_type": "markdown",
   "id": "fccbb619",
   "metadata": {},
   "source": [
    "product_codes.csv:\n",
    "\n",
    "- `productID` — id товара;\n",
    "- `price_per_one` — стоимость одной единицы товара;"
   ]
  },
  {
   "cell_type": "code",
   "execution_count": 852,
   "id": "1b2fb9c6",
   "metadata": {},
   "outputs": [
    {
     "name": "stdout",
     "output_type": "stream",
     "text": [
      "<class 'pandas.core.frame.DataFrame'>\n",
      "RangeIndex: 9969 entries, 0 to 9968\n",
      "Data columns (total 2 columns):\n",
      " #   Column         Non-Null Count  Dtype  \n",
      "---  ------         --------------  -----  \n",
      " 0   productID      9969 non-null   object \n",
      " 1   price_per_one  9969 non-null   float64\n",
      "dtypes: float64(1), object(1)\n",
      "memory usage: 155.9+ KB\n"
     ]
    },
    {
     "data": {
      "text/html": [
       "<div>\n",
       "<style scoped>\n",
       "    .dataframe tbody tr th:only-of-type {\n",
       "        vertical-align: middle;\n",
       "    }\n",
       "\n",
       "    .dataframe tbody tr th {\n",
       "        vertical-align: top;\n",
       "    }\n",
       "\n",
       "    .dataframe thead th {\n",
       "        text-align: right;\n",
       "    }\n",
       "</style>\n",
       "<table border=\"1\" class=\"dataframe\">\n",
       "  <thead>\n",
       "    <tr style=\"text-align: right;\">\n",
       "      <th></th>\n",
       "      <th>productID</th>\n",
       "      <th>price_per_one</th>\n",
       "    </tr>\n",
       "  </thead>\n",
       "  <tbody>\n",
       "    <tr>\n",
       "      <th>0</th>\n",
       "      <td>85123A</td>\n",
       "      <td>2.55</td>\n",
       "    </tr>\n",
       "    <tr>\n",
       "      <th>1</th>\n",
       "      <td>71053</td>\n",
       "      <td>3.39</td>\n",
       "    </tr>\n",
       "    <tr>\n",
       "      <th>2</th>\n",
       "      <td>84406B</td>\n",
       "      <td>2.75</td>\n",
       "    </tr>\n",
       "    <tr>\n",
       "      <th>3</th>\n",
       "      <td>84029G</td>\n",
       "      <td>3.39</td>\n",
       "    </tr>\n",
       "    <tr>\n",
       "      <th>4</th>\n",
       "      <td>84029E</td>\n",
       "      <td>3.39</td>\n",
       "    </tr>\n",
       "  </tbody>\n",
       "</table>\n",
       "</div>"
      ],
      "text/plain": [
       "  productID  price_per_one\n",
       "0    85123A           2.55\n",
       "1     71053           3.39\n",
       "2    84406B           2.75\n",
       "3    84029G           3.39\n",
       "4    84029E           3.39"
      ]
     },
     "metadata": {},
     "output_type": "display_data"
    }
   ],
   "source": [
    "#стоимость товара\n",
    "gen_info(product)"
   ]
  },
  {
   "attachments": {},
   "cell_type": "markdown",
   "id": "69e76286",
   "metadata": {},
   "source": [
    "В датасете retail_dataset журнала продаж 105335 строк, 7 столбцов. Три типа данных: object, float64 и int64. В столбце 'CustomerID' есть пропущенные значения.\\\n",
    "В датасете product_codes стоимости товара 9969 строк, два столбца. Два типа данных: object и float64. Пропусков нет."
   ]
  },
  {
   "attachments": {},
   "cell_type": "markdown",
   "id": "7a80cd6e",
   "metadata": {},
   "source": [
    "Для выявления ошибок в данных посмотрим на категориальные и числовые значения. Для  числовых используем describe(), показывающий распределение величин,\\\n",
    "а для  категориальных  метод value_counts(), показывающий значения и их количество."
   ]
  },
  {
   "cell_type": "code",
   "execution_count": 853,
   "id": "b32c7c4c",
   "metadata": {},
   "outputs": [
    {
     "name": "stdout",
     "output_type": "stream",
     "text": [
      "purchaseid\n",
      "537434     675\n",
      "538071     652\n",
      "538349     620\n",
      "537638     601\n",
      "537237     597\n",
      "          ... \n",
      "C542260      1\n",
      "539495       1\n",
      "537450       1\n",
      "539611       1\n",
      "C543627      1\n",
      "Name: purchaseid, Length: 4894, dtype: int64\n",
      "\n",
      "\n",
      "item_ID\n",
      "85123A    565\n",
      "22423     499\n",
      "22469     414\n",
      "22720     377\n",
      "85099B    372\n",
      "         ... \n",
      "84907       1\n",
      "16162L      1\n",
      "90064B      1\n",
      "45013       1\n",
      "21461       1\n",
      "Name: item_ID, Length: 3159, dtype: int64\n",
      "\n",
      "\n",
      "CustomerID\n",
      "18427.0    796\n",
      "23520.0    757\n",
      "20285.0    751\n",
      "20990.0    718\n",
      "20590.0    549\n",
      "          ... \n",
      "23956.0      1\n",
      "18184.0      1\n",
      "21827.0      1\n",
      "20288.0      1\n",
      "18182.0      1\n",
      "Name: CustomerID, Length: 1749, dtype: int64\n",
      "\n",
      "\n",
      "ShopID\n",
      "Shop 0     97393\n",
      "Shop 4      1741\n",
      "Shop 1      1540\n",
      "Shop 6      1032\n",
      "Shop 8       560\n",
      "Shop 3       492\n",
      "Shop 7       312\n",
      "Shop 10      299\n",
      "Shop 12      278\n",
      "Shop 18      256\n",
      "Shop 2       253\n",
      "Shop 5       179\n",
      "Shop 11      169\n",
      "Shop 14      154\n",
      "Shop 19       74\n",
      "Shop 9        61\n",
      "Shop 15       60\n",
      "Shop 16       59\n",
      "Shop 25       57\n",
      "Shop 26       56\n",
      "Shop 27       45\n",
      "Shop 22       40\n",
      "Shop 17       40\n",
      "Shop 13       35\n",
      "Shop 24       32\n",
      "Shop 21       32\n",
      "Shop 20       30\n",
      "Shop 28       30\n",
      "Shop 30       15\n",
      "Shop 29        9\n",
      "Shop 23        2\n",
      "Name: ShopID, dtype: int64\n",
      "\n",
      "\n",
      "loyalty_program\n",
      "0.0    81493\n",
      "1.0    23842\n",
      "Name: loyalty_program, dtype: int64\n",
      "\n",
      "\n",
      "Quantity\n",
      "count    105335.000000\n",
      "mean          7.821218\n",
      "std         327.946695\n",
      "min      -74216.000000\n",
      "25%           0.000000\n",
      "50%           2.000000\n",
      "75%           7.000000\n",
      "max       74214.000000\n",
      "Name: Quantity, dtype: float64\n"
     ]
    }
   ],
   "source": [
    "# распределение велечин для retail\n",
    "for column in ['purchaseid', 'item_ID', 'CustomerID', 'ShopID', 'loyalty_program']:\n",
    "    print(column, retail[column].value_counts(), '\\n', sep='\\n')\n",
    "print('Quantity', retail['Quantity'].describe(), sep='\\n');"
   ]
  },
  {
   "cell_type": "code",
   "execution_count": 854,
   "id": "d203a810",
   "metadata": {},
   "outputs": [
    {
     "name": "stdout",
     "output_type": "stream",
     "text": [
      "\n",
      "productID\n",
      "DOT      174\n",
      "M         59\n",
      "S         29\n",
      "POST      15\n",
      "D         13\n",
      "        ... \n",
      "35443      1\n",
      "21293      1\n",
      "21282      1\n",
      "21473      1\n",
      "21495      1\n",
      "Name: productID, Length: 3159, dtype: int64\n",
      "\n",
      "price_per_one\n",
      "count     9969.000000\n",
      "mean        19.503697\n",
      "std        330.880754\n",
      "min          0.000000\n",
      "25%          1.250000\n",
      "50%          2.550000\n",
      "75%          5.510000\n",
      "max      16888.020000\n",
      "Name: price_per_one, dtype: float64\n"
     ]
    }
   ],
   "source": [
    "# распределение велечин для product\n",
    "print('\\nproductID', product['productID'].value_counts(), sep='\\n')\n",
    "print('\\nprice_per_one', product['price_per_one'].describe(), sep='\\n');"
   ]
  },
  {
   "attachments": {},
   "cell_type": "markdown",
   "id": "2cbae7e2",
   "metadata": {},
   "source": [
    "### Выводы по датасетам:\n",
    "Всего 4894 чеков purchaseid, самое большое количество товаров в чеке '537434' - 675.\\\n",
    "Уникальных товаров item_ID и productID всего 3159, это число в датасетах одинаково.\\\n",
    "Всего в сети 31 магазин, столбец ShopID, наибольшее количество покупок в Shop 0, возможно это онлайн магазин.\\\n",
    "Уникальных покупателей CustomerID - 1749, наибольшее количество товаров у одного покупателя - 796. \\\n",
    "Большинство покупок совершается без программы лояльности (ПЛ), по ПЛ куплено примерно 23% товаров.\\\n",
    "По распределению количества товаров Quantity среднее значение 7, есть отрицательные значения, возможно это возвраты.\\\n",
    "Максимальные и минимальные значения: 74214 и -74216, возможно это выбросы.\\\n",
    "Нулевое количество, возможно, при получении данных были ошибки.\\\n",
    "Цены товара price_per_one, распределение  выглядит нормально:\\\n",
    "среднее значение 19.5, медианное 2.55, минимальная цена - 0, возможно это товары по акции, которые идут в подарок или ошибки в данных.\\\n",
    "Максимальная цена - 16888, это либо дорогой товар либо выброс."
   ]
  },
  {
   "attachments": {},
   "cell_type": "markdown",
   "id": "eed8d492",
   "metadata": {},
   "source": [
    "## Предобработка данных.\n",
    "Переименование и добавление столбцов. Удаление дубликатов. Исследованее пропущенных значений.  Преобразование типов данных.   "
   ]
  },
  {
   "attachments": {},
   "cell_type": "markdown",
   "id": "044cd083",
   "metadata": {},
   "source": [
    "### Переименование столбцов."
   ]
  },
  {
   "cell_type": "code",
   "execution_count": 855,
   "id": "13227920",
   "metadata": {},
   "outputs": [],
   "source": [
    "#переименуем названия столбцов\n",
    "retail = retail.rename(\n",
    "   columns={\n",
    "       'purchaseid': 'purchase_id',\\\n",
    "       'item_ID': 'item_id',\\\n",
    "       'Quantity': 'quantity',\\\n",
    "       'purchasedate': 'purchase_date',\\\n",
    "       'CustomerID': 'customer_id',\\\n",
    "       'ShopID': 'shop_id'\\\n",
    "   }\n",
    ")\n",
    "product = product.rename(columns={'productID': 'item_id', 'price_per_one':'price'}).reset_index(drop=True)"
   ]
  },
  {
   "attachments": {},
   "cell_type": "markdown",
   "id": "aa570a52",
   "metadata": {},
   "source": [
    "### Удаление дубликатов."
   ]
  },
  {
   "cell_type": "code",
   "execution_count": 856,
   "id": "30d42965",
   "metadata": {},
   "outputs": [
    {
     "name": "stdout",
     "output_type": "stream",
     "text": [
      "Число дубликатов retail: 1033\n",
      "Число дубликатов product: 0\n"
     ]
    }
   ],
   "source": [
    "#количество явных дубликатов в датафреймах\n",
    "print('Число дубликатов retail:', retail.duplicated().sum())\n",
    "print('Число дубликатов product:', product.duplicated().sum())"
   ]
  },
  {
   "cell_type": "code",
   "execution_count": 857,
   "id": "48dc6cf4",
   "metadata": {},
   "outputs": [
    {
     "data": {
      "text/plain": [
       "(104302, 7)"
      ]
     },
     "execution_count": 857,
     "metadata": {},
     "output_type": "execute_result"
    }
   ],
   "source": [
    "#удалим из датафрейма строки с дубликатами, оставив только первые вхождения: будем считать, что верные идентификаторы встречаются первыми\n",
    "retail = retail.drop_duplicates(keep='first').reset_index(drop=True)\n",
    "#количество строк после удаления дубликатов\n",
    "retail.shape"
   ]
  },
  {
   "attachments": {},
   "cell_type": "markdown",
   "id": "059d0ba5",
   "metadata": {},
   "source": [
    "### Преобразование типов данных."
   ]
  },
  {
   "cell_type": "code",
   "execution_count": 858,
   "id": "1e121859",
   "metadata": {},
   "outputs": [],
   "source": [
    "#преобразуем типы данных в столбцах loyalty_program в целое и purchase_date к дате \n",
    "retail['loyalty_program'] = retail['loyalty_program'].astype('int')\n",
    "retail['purchase_date'] = pd.to_datetime(retail['purchase_date'])"
   ]
  },
  {
   "attachments": {},
   "cell_type": "markdown",
   "id": "c11e4f69",
   "metadata": {},
   "source": [
    "### Исследование пропущенных значений."
   ]
  },
  {
   "cell_type": "code",
   "execution_count": 859,
   "id": "ee9e7cca",
   "metadata": {},
   "outputs": [
    {
     "data": {
      "text/plain": [
       "36148"
      ]
     },
     "execution_count": 859,
     "metadata": {},
     "output_type": "execute_result"
    }
   ],
   "source": [
    "#количество пропусков в столбце customer_id\n",
    "retail['customer_id'].isna().sum()"
   ]
  },
  {
   "cell_type": "code",
   "execution_count": 860,
   "id": "b25659df",
   "metadata": {},
   "outputs": [
    {
     "data": {
      "text/html": [
       "<style  type=\"text/css\" >\n",
       "#T_33d3a_row0_col0,#T_33d3a_row1_col0,#T_33d3a_row2_col0,#T_33d3a_row3_col0,#T_33d3a_row5_col0,#T_33d3a_row6_col0{\n",
       "            background-color:  #3b4cc0;\n",
       "            color:  #f1f1f1;\n",
       "        }#T_33d3a_row4_col0{\n",
       "            background-color:  #b40426;\n",
       "            color:  #f1f1f1;\n",
       "        }</style><table id=\"T_33d3a_\" ><thead>    <tr>        <th class=\"blank level0\" ></th>        <th class=\"col_heading level0 col0\" >0</th>    </tr></thead><tbody>\n",
       "                <tr>\n",
       "                        <th id=\"T_33d3a_level0_row0\" class=\"row_heading level0 row0\" >purchase_id</th>\n",
       "                        <td id=\"T_33d3a_row0_col0\" class=\"data row0 col0\" >0.000000</td>\n",
       "            </tr>\n",
       "            <tr>\n",
       "                        <th id=\"T_33d3a_level0_row1\" class=\"row_heading level0 row1\" >item_id</th>\n",
       "                        <td id=\"T_33d3a_row1_col0\" class=\"data row1 col0\" >0.000000</td>\n",
       "            </tr>\n",
       "            <tr>\n",
       "                        <th id=\"T_33d3a_level0_row2\" class=\"row_heading level0 row2\" >quantity</th>\n",
       "                        <td id=\"T_33d3a_row2_col0\" class=\"data row2 col0\" >0.000000</td>\n",
       "            </tr>\n",
       "            <tr>\n",
       "                        <th id=\"T_33d3a_level0_row3\" class=\"row_heading level0 row3\" >purchase_date</th>\n",
       "                        <td id=\"T_33d3a_row3_col0\" class=\"data row3 col0\" >0.000000</td>\n",
       "            </tr>\n",
       "            <tr>\n",
       "                        <th id=\"T_33d3a_level0_row4\" class=\"row_heading level0 row4\" >customer_id</th>\n",
       "                        <td id=\"T_33d3a_row4_col0\" class=\"data row4 col0\" >35.000000</td>\n",
       "            </tr>\n",
       "            <tr>\n",
       "                        <th id=\"T_33d3a_level0_row5\" class=\"row_heading level0 row5\" >shop_id</th>\n",
       "                        <td id=\"T_33d3a_row5_col0\" class=\"data row5 col0\" >0.000000</td>\n",
       "            </tr>\n",
       "            <tr>\n",
       "                        <th id=\"T_33d3a_level0_row6\" class=\"row_heading level0 row6\" >loyalty_program</th>\n",
       "                        <td id=\"T_33d3a_row6_col0\" class=\"data row6 col0\" >0.000000</td>\n",
       "            </tr>\n",
       "    </tbody></table>"
      ],
      "text/plain": [
       "<pandas.io.formats.style.Styler at 0x1adcd05b940>"
      ]
     },
     "execution_count": 860,
     "metadata": {},
     "output_type": "execute_result"
    }
   ],
   "source": [
    "# % пропусков в столбце customer_id\n",
    "pd.DataFrame(round(retail.isna().mean()*100,)).style.background_gradient('coolwarm')"
   ]
  },
  {
   "cell_type": "code",
   "execution_count": 861,
   "id": "c2e1a1d8",
   "metadata": {},
   "outputs": [
    {
     "data": {
      "text/plain": [
       "36148"
      ]
     },
     "execution_count": 861,
     "metadata": {},
     "output_type": "execute_result"
    }
   ],
   "source": [
    "#срез по событиям незарегистрированных пользователей не участвующих в программе лояльности \n",
    "retail.query('loyalty_program == 0')['customer_id'].isna().sum()"
   ]
  },
  {
   "attachments": {},
   "cell_type": "markdown",
   "id": "18598246",
   "metadata": {},
   "source": [
    "Треть (35%) пользователей совершили покупки без регистрации (количество: 36148) и все они не участвуют в программе лояльности.\\\n",
    "В нашем исследовании гипотезы основаны на следующих метриках: средний чек, среднее количество покупок и выручка которую  клиент в среднем принёс компании.\\\n",
    "Все они рассчитываются на каждого клиента, в случае замены на \"заглушки\", отсутствующие значения могут быть интерпретированы как действия одного клиента с множеством покупок.\\\n",
    "Удалить или \"заглушить\" 35% датасета неприемлемо - исказятся данные клиентов не участвующих в программе лояльности.\\\n",
    "Присвоим идентификаторы customer_id, заменив пропуски на purchase_id, они уникальны как покупка."
   ]
  },
  {
   "cell_type": "code",
   "execution_count": 862,
   "id": "e8701d09",
   "metadata": {},
   "outputs": [
    {
     "data": {
      "text/html": [
       "<div>\n",
       "<style scoped>\n",
       "    .dataframe tbody tr th:only-of-type {\n",
       "        vertical-align: middle;\n",
       "    }\n",
       "\n",
       "    .dataframe tbody tr th {\n",
       "        vertical-align: top;\n",
       "    }\n",
       "\n",
       "    .dataframe thead th {\n",
       "        text-align: right;\n",
       "    }\n",
       "</style>\n",
       "<table border=\"1\" class=\"dataframe\">\n",
       "  <thead>\n",
       "    <tr style=\"text-align: right;\">\n",
       "      <th></th>\n",
       "      <th>customer_id</th>\n",
       "    </tr>\n",
       "    <tr>\n",
       "      <th>loyalty_program</th>\n",
       "      <th></th>\n",
       "    </tr>\n",
       "  </thead>\n",
       "  <tbody>\n",
       "    <tr>\n",
       "      <th>0</th>\n",
       "      <td>1910</td>\n",
       "    </tr>\n",
       "    <tr>\n",
       "      <th>1</th>\n",
       "      <td>587</td>\n",
       "    </tr>\n",
       "  </tbody>\n",
       "</table>\n",
       "</div>"
      ],
      "text/plain": [
       "                 customer_id\n",
       "loyalty_program             \n",
       "0                       1910\n",
       "1                        587"
      ]
     },
     "execution_count": 862,
     "metadata": {},
     "output_type": "execute_result"
    }
   ],
   "source": [
    "#заменим пропуски на уникальные purchase_id\n",
    "retail['customer_id'] = retail['customer_id'].fillna(retail['purchase_id'])\n",
    "#выведем количество уникальных пользователей по группе лояльности\n",
    "retail.groupby('loyalty_program').agg({'customer_id':'nunique'})"
   ]
  },
  {
   "attachments": {},
   "cell_type": "markdown",
   "id": "66b64230",
   "metadata": {},
   "source": [
    "### Добавление новых столбцов."
   ]
  },
  {
   "cell_type": "code",
   "execution_count": 863,
   "id": "1b0f16a1",
   "metadata": {},
   "outputs": [
    {
     "data": {
      "text/html": [
       "<div>\n",
       "<style scoped>\n",
       "    .dataframe tbody tr th:only-of-type {\n",
       "        vertical-align: middle;\n",
       "    }\n",
       "\n",
       "    .dataframe tbody tr th {\n",
       "        vertical-align: top;\n",
       "    }\n",
       "\n",
       "    .dataframe thead th {\n",
       "        text-align: right;\n",
       "    }\n",
       "</style>\n",
       "<table border=\"1\" class=\"dataframe\">\n",
       "  <thead>\n",
       "    <tr style=\"text-align: right;\">\n",
       "      <th></th>\n",
       "      <th>purchase_id</th>\n",
       "      <th>item_id</th>\n",
       "      <th>quantity</th>\n",
       "      <th>purchase_date</th>\n",
       "      <th>customer_id</th>\n",
       "      <th>shop_id</th>\n",
       "      <th>loyalty_program</th>\n",
       "      <th>weekday</th>\n",
       "      <th>week</th>\n",
       "    </tr>\n",
       "  </thead>\n",
       "  <tbody>\n",
       "    <tr>\n",
       "      <th>0</th>\n",
       "      <td>538280</td>\n",
       "      <td>21873</td>\n",
       "      <td>11</td>\n",
       "      <td>2016-12-10 12:50:00</td>\n",
       "      <td>18427.0</td>\n",
       "      <td>Shop 0</td>\n",
       "      <td>0</td>\n",
       "      <td>5</td>\n",
       "      <td>49</td>\n",
       "    </tr>\n",
       "    <tr>\n",
       "      <th>1</th>\n",
       "      <td>538862</td>\n",
       "      <td>22195</td>\n",
       "      <td>0</td>\n",
       "      <td>2016-12-14 14:11:00</td>\n",
       "      <td>22389.0</td>\n",
       "      <td>Shop 0</td>\n",
       "      <td>1</td>\n",
       "      <td>2</td>\n",
       "      <td>50</td>\n",
       "    </tr>\n",
       "    <tr>\n",
       "      <th>2</th>\n",
       "      <td>538855</td>\n",
       "      <td>21239</td>\n",
       "      <td>7</td>\n",
       "      <td>2016-12-14 13:50:00</td>\n",
       "      <td>22182.0</td>\n",
       "      <td>Shop 0</td>\n",
       "      <td>1</td>\n",
       "      <td>2</td>\n",
       "      <td>50</td>\n",
       "    </tr>\n",
       "    <tr>\n",
       "      <th>3</th>\n",
       "      <td>543543</td>\n",
       "      <td>22271</td>\n",
       "      <td>0</td>\n",
       "      <td>2017-02-09 15:33:00</td>\n",
       "      <td>23522.0</td>\n",
       "      <td>Shop 0</td>\n",
       "      <td>1</td>\n",
       "      <td>3</td>\n",
       "      <td>6</td>\n",
       "    </tr>\n",
       "    <tr>\n",
       "      <th>4</th>\n",
       "      <td>543812</td>\n",
       "      <td>79321</td>\n",
       "      <td>0</td>\n",
       "      <td>2017-02-13 14:40:00</td>\n",
       "      <td>23151.0</td>\n",
       "      <td>Shop 0</td>\n",
       "      <td>1</td>\n",
       "      <td>0</td>\n",
       "      <td>7</td>\n",
       "    </tr>\n",
       "  </tbody>\n",
       "</table>\n",
       "</div>"
      ],
      "text/plain": [
       "  purchase_id item_id  quantity       purchase_date customer_id shop_id  \\\n",
       "0      538280   21873        11 2016-12-10 12:50:00     18427.0  Shop 0   \n",
       "1      538862   22195         0 2016-12-14 14:11:00     22389.0  Shop 0   \n",
       "2      538855   21239         7 2016-12-14 13:50:00     22182.0  Shop 0   \n",
       "3      543543   22271         0 2017-02-09 15:33:00     23522.0  Shop 0   \n",
       "4      543812   79321         0 2017-02-13 14:40:00     23151.0  Shop 0   \n",
       "\n",
       "   loyalty_program  weekday  week  \n",
       "0                0        5    49  \n",
       "1                1        2    50  \n",
       "2                1        2    50  \n",
       "3                1        3     6  \n",
       "4                1        0     7  "
      ]
     },
     "execution_count": 863,
     "metadata": {},
     "output_type": "execute_result"
    }
   ],
   "source": [
    "#добавим новые столбцы в retail с днями недели и неделями\n",
    "retail['weekday'] = retail['purchase_date'].dt.weekday\n",
    "retail['week'] = retail['purchase_date'].dt.isocalendar().week\n",
    "retail.head()"
   ]
  },
  {
   "attachments": {},
   "cell_type": "markdown",
   "id": "dd07a265",
   "metadata": {},
   "source": [
    "### Вывод:\n",
    "На данном этапе мы привели к значения столбцов к нужному формату, проиндексировали датафремы и изменили названия столбцов для удобства работы.\\\n",
    "Также мы заполнили пропуски в столбце customer_id - присвоили идентификатор чека. Удалили явные дубликаты.\\\n",
    "Данные прошли предобработку и соответствуют необходимому уровню качества для дальнейшего интеллектуального анализа и проверке гипотез."
   ]
  },
  {
   "attachments": {},
   "cell_type": "markdown",
   "id": "dd801041",
   "metadata": {},
   "source": [
    "## Исследовательский анализ данных (EDA).\n",
    "Выявление аномалий и выбросов. Группировка по лояльности и значимым признакам. Расчет долей, среднего чека, кумулятивной средней выручки лояльных покупателей относительно остальных. Поиск корреляций и особенностей. Анализ категорий по дням недели и неделям, за весь период. Визуализация распределения данных и результатов исследований с помощью графиков и диаграмм. Промежуточные выводы."
   ]
  },
  {
   "attachments": {},
   "cell_type": "markdown",
   "id": "fd264da8",
   "metadata": {},
   "source": [
    "### Выявление аномалий и выбросов."
   ]
  },
  {
   "cell_type": "code",
   "execution_count": 864,
   "id": "33ef20ae",
   "metadata": {},
   "outputs": [
    {
     "data": {
      "text/plain": [
       "count     9969.000000\n",
       "mean        19.503697\n",
       "std        330.880754\n",
       "min          0.000000\n",
       "25%          1.250000\n",
       "50%          2.550000\n",
       "75%          5.510000\n",
       "max      16888.020000\n",
       "Name: price, dtype: float64"
      ]
     },
     "execution_count": 864,
     "metadata": {},
     "output_type": "execute_result"
    }
   ],
   "source": [
    "#посмотрим на рапределение цены price в таблице product\n",
    "product['price'].describe()\n"
   ]
  },
  {
   "cell_type": "code",
   "execution_count": 865,
   "id": "c6cb4da6",
   "metadata": {},
   "outputs": [
    {
     "data": {
      "image/png": "[encoded data removed]",
      "text/plain": [
       "<Figure size 500x500 with 1 Axes>"
      ]
     },
     "metadata": {},
     "output_type": "display_data"
    }
   ],
   "source": [
    "#построим боксплот\n",
    "product.boxplot(column='price', figsize=(5,5))\n",
    "plt.title('Распределение значений \"price\"')\n",
    "plt.show()"
   ]
  },
  {
   "attachments": {},
   "cell_type": "markdown",
   "id": "a70891b5",
   "metadata": {},
   "source": [
    "Диаграмма \"ящик с усами\" показывает, что почти все значения распологаются вблизи 0."
   ]
  },
  {
   "cell_type": "code",
   "execution_count": 866,
   "id": "0f61a1f1",
   "metadata": {},
   "outputs": [
    {
     "data": {
      "text/html": [
       "<div>\n",
       "<style scoped>\n",
       "    .dataframe tbody tr th:only-of-type {\n",
       "        vertical-align: middle;\n",
       "    }\n",
       "\n",
       "    .dataframe tbody tr th {\n",
       "        vertical-align: top;\n",
       "    }\n",
       "\n",
       "    .dataframe thead th {\n",
       "        text-align: right;\n",
       "    }\n",
       "</style>\n",
       "<table border=\"1\" class=\"dataframe\">\n",
       "  <thead>\n",
       "    <tr style=\"text-align: right;\">\n",
       "      <th></th>\n",
       "      <th>item_id</th>\n",
       "      <th>price</th>\n",
       "    </tr>\n",
       "  </thead>\n",
       "  <tbody>\n",
       "    <tr>\n",
       "      <th>6133</th>\n",
       "      <td>AMAZONFEE</td>\n",
       "      <td>16888.02</td>\n",
       "    </tr>\n",
       "  </tbody>\n",
       "</table>\n",
       "</div>"
      ],
      "text/plain": [
       "        item_id     price\n",
       "6133  AMAZONFEE  16888.02"
      ]
     },
     "execution_count": 866,
     "metadata": {},
     "output_type": "execute_result"
    }
   ],
   "source": [
    "#посмотрим на товар с самой высокой ценой\n",
    "max_price = product['price'].max()\n",
    "product.query('price == @max_price')"
   ]
  },
  {
   "cell_type": "code",
   "execution_count": 867,
   "id": "f83a6622",
   "metadata": {},
   "outputs": [
    {
     "data": {
      "text/html": [
       "<div>\n",
       "<style scoped>\n",
       "    .dataframe tbody tr th:only-of-type {\n",
       "        vertical-align: middle;\n",
       "    }\n",
       "\n",
       "    .dataframe tbody tr th {\n",
       "        vertical-align: top;\n",
       "    }\n",
       "\n",
       "    .dataframe thead th {\n",
       "        text-align: right;\n",
       "    }\n",
       "</style>\n",
       "<table border=\"1\" class=\"dataframe\">\n",
       "  <thead>\n",
       "    <tr style=\"text-align: right;\">\n",
       "      <th></th>\n",
       "      <th>item_id</th>\n",
       "      <th>price</th>\n",
       "    </tr>\n",
       "  </thead>\n",
       "  <tbody>\n",
       "    <tr>\n",
       "      <th>3891</th>\n",
       "      <td>AMAZONFEE</td>\n",
       "      <td>1.00</td>\n",
       "    </tr>\n",
       "    <tr>\n",
       "      <th>3931</th>\n",
       "      <td>AMAZONFEE</td>\n",
       "      <td>13541.33</td>\n",
       "    </tr>\n",
       "    <tr>\n",
       "      <th>4089</th>\n",
       "      <td>AMAZONFEE</td>\n",
       "      <td>13474.79</td>\n",
       "    </tr>\n",
       "    <tr>\n",
       "      <th>4094</th>\n",
       "      <td>AMAZONFEE</td>\n",
       "      <td>5519.25</td>\n",
       "    </tr>\n",
       "    <tr>\n",
       "      <th>4095</th>\n",
       "      <td>AMAZONFEE</td>\n",
       "      <td>6706.71</td>\n",
       "    </tr>\n",
       "    <tr>\n",
       "      <th>6133</th>\n",
       "      <td>AMAZONFEE</td>\n",
       "      <td>16888.02</td>\n",
       "    </tr>\n",
       "    <tr>\n",
       "      <th>6134</th>\n",
       "      <td>AMAZONFEE</td>\n",
       "      <td>16453.71</td>\n",
       "    </tr>\n",
       "    <tr>\n",
       "      <th>9732</th>\n",
       "      <td>AMAZONFEE</td>\n",
       "      <td>5575.28</td>\n",
       "    </tr>\n",
       "    <tr>\n",
       "      <th>9733</th>\n",
       "      <td>AMAZONFEE</td>\n",
       "      <td>5258.77</td>\n",
       "    </tr>\n",
       "  </tbody>\n",
       "</table>\n",
       "</div>"
      ],
      "text/plain": [
       "        item_id     price\n",
       "3891  AMAZONFEE      1.00\n",
       "3931  AMAZONFEE  13541.33\n",
       "4089  AMAZONFEE  13474.79\n",
       "4094  AMAZONFEE   5519.25\n",
       "4095  AMAZONFEE   6706.71\n",
       "6133  AMAZONFEE  16888.02\n",
       "6134  AMAZONFEE  16453.71\n",
       "9732  AMAZONFEE   5575.28\n",
       "9733  AMAZONFEE   5258.77"
      ]
     },
     "execution_count": 867,
     "metadata": {},
     "output_type": "execute_result"
    }
   ],
   "source": [
    "#выведем этот товар\n",
    "product.query('item_id == \"AMAZONFEE\"')"
   ]
  },
  {
   "attachments": {},
   "cell_type": "markdown",
   "id": "6e139afb",
   "metadata": {},
   "source": [
    "У AMAZONFEE 9 разных цен. Возможно, это разные товары с Амазона, но id у них одинаковый.\\\n",
    "Сгруппируем товары и посмотрим количество значений цен товара."
   ]
  },
  {
   "cell_type": "code",
   "execution_count": 868,
   "id": "c160ecc1",
   "metadata": {},
   "outputs": [
    {
     "data": {
      "text/html": [
       "<div>\n",
       "<style scoped>\n",
       "    .dataframe tbody tr th:only-of-type {\n",
       "        vertical-align: middle;\n",
       "    }\n",
       "\n",
       "    .dataframe tbody tr th {\n",
       "        vertical-align: top;\n",
       "    }\n",
       "\n",
       "    .dataframe thead th {\n",
       "        text-align: right;\n",
       "    }\n",
       "</style>\n",
       "<table border=\"1\" class=\"dataframe\">\n",
       "  <thead>\n",
       "    <tr style=\"text-align: right;\">\n",
       "      <th></th>\n",
       "      <th>price</th>\n",
       "    </tr>\n",
       "    <tr>\n",
       "      <th>item_id</th>\n",
       "      <th></th>\n",
       "    </tr>\n",
       "  </thead>\n",
       "  <tbody>\n",
       "    <tr>\n",
       "      <th>DOT</th>\n",
       "      <td>174</td>\n",
       "    </tr>\n",
       "    <tr>\n",
       "      <th>M</th>\n",
       "      <td>59</td>\n",
       "    </tr>\n",
       "    <tr>\n",
       "      <th>S</th>\n",
       "      <td>29</td>\n",
       "    </tr>\n",
       "    <tr>\n",
       "      <th>POST</th>\n",
       "      <td>15</td>\n",
       "    </tr>\n",
       "    <tr>\n",
       "      <th>D</th>\n",
       "      <td>13</td>\n",
       "    </tr>\n",
       "    <tr>\n",
       "      <th>...</th>\n",
       "      <td>...</td>\n",
       "    </tr>\n",
       "    <tr>\n",
       "      <th>85018C</th>\n",
       "      <td>1</td>\n",
       "    </tr>\n",
       "    <tr>\n",
       "      <th>85018D</th>\n",
       "      <td>1</td>\n",
       "    </tr>\n",
       "    <tr>\n",
       "      <th>85019B</th>\n",
       "      <td>1</td>\n",
       "    </tr>\n",
       "    <tr>\n",
       "      <th>47420</th>\n",
       "      <td>1</td>\n",
       "    </tr>\n",
       "    <tr>\n",
       "      <th>m</th>\n",
       "      <td>1</td>\n",
       "    </tr>\n",
       "  </tbody>\n",
       "</table>\n",
       "<p>3159 rows × 1 columns</p>\n",
       "</div>"
      ],
      "text/plain": [
       "         price\n",
       "item_id       \n",
       "DOT        174\n",
       "M           59\n",
       "S           29\n",
       "POST        15\n",
       "D           13\n",
       "...        ...\n",
       "85018C       1\n",
       "85018D       1\n",
       "85019B       1\n",
       "47420        1\n",
       "m            1\n",
       "\n",
       "[3159 rows x 1 columns]"
      ]
     },
     "execution_count": 868,
     "metadata": {},
     "output_type": "execute_result"
    }
   ],
   "source": [
    "#сгруппируем и отсортируем по убыванию\n",
    "product.groupby('item_id').agg({'price': 'nunique'}).sort_values(by='price', ascending=False)"
   ]
  },
  {
   "cell_type": "code",
   "execution_count": 869,
   "id": "ce0abc3d",
   "metadata": {},
   "outputs": [
    {
     "data": {
      "text/plain": [
       "382"
      ]
     },
     "execution_count": 869,
     "metadata": {},
     "output_type": "execute_result"
    }
   ],
   "source": [
    "#количество нулевых цен\n",
    "len(product.query('price == [0]'))"
   ]
  },
  {
   "attachments": {},
   "cell_type": "markdown",
   "id": "f0d6a254",
   "metadata": {},
   "source": [
    "У многих товаров несколько ценовых значений. Есть 382 нулевых, вероятно это акционный или подарочный товар. "
   ]
  },
  {
   "attachments": {},
   "cell_type": "markdown",
   "id": "0a96e561",
   "metadata": {},
   "source": [
    "Отфильтруем строки с нулевой ценой. Сгруппируем таблицу  по item_id и посчитаем среднюю цену.\\\n",
    "Очистим данные от выбросов, посчитав 99-й квантиль, отфильтруем по нему датасет."
   ]
  },
  {
   "cell_type": "code",
   "execution_count": 870,
   "id": "bdd4e463",
   "metadata": {},
   "outputs": [
    {
     "name": "stdout",
     "output_type": "stream",
     "text": [
      "Граница выбросов: 29.58974999999967\n",
      "Доля выбросов: 0.01\n"
     ]
    },
    {
     "data": {
      "text/html": [
       "<div>\n",
       "<style scoped>\n",
       "    .dataframe tbody tr th:only-of-type {\n",
       "        vertical-align: middle;\n",
       "    }\n",
       "\n",
       "    .dataframe tbody tr th {\n",
       "        vertical-align: top;\n",
       "    }\n",
       "\n",
       "    .dataframe thead th {\n",
       "        text-align: right;\n",
       "    }\n",
       "</style>\n",
       "<table border=\"1\" class=\"dataframe\">\n",
       "  <thead>\n",
       "    <tr style=\"text-align: right;\">\n",
       "      <th></th>\n",
       "      <th>item_id</th>\n",
       "      <th>price</th>\n",
       "    </tr>\n",
       "  </thead>\n",
       "  <tbody>\n",
       "    <tr>\n",
       "      <th>0</th>\n",
       "      <td>10002</td>\n",
       "      <td>1.380000</td>\n",
       "    </tr>\n",
       "    <tr>\n",
       "      <th>1</th>\n",
       "      <td>10080</td>\n",
       "      <td>0.850000</td>\n",
       "    </tr>\n",
       "    <tr>\n",
       "      <th>2</th>\n",
       "      <td>10120</td>\n",
       "      <td>0.210000</td>\n",
       "    </tr>\n",
       "    <tr>\n",
       "      <th>3</th>\n",
       "      <td>10123C</td>\n",
       "      <td>0.650000</td>\n",
       "    </tr>\n",
       "    <tr>\n",
       "      <th>4</th>\n",
       "      <td>10124A</td>\n",
       "      <td>0.420000</td>\n",
       "    </tr>\n",
       "    <tr>\n",
       "      <th>...</th>\n",
       "      <td>...</td>\n",
       "      <td>...</td>\n",
       "    </tr>\n",
       "    <tr>\n",
       "      <th>3092</th>\n",
       "      <td>DCGSSGIRL</td>\n",
       "      <td>3.290000</td>\n",
       "    </tr>\n",
       "    <tr>\n",
       "      <th>3095</th>\n",
       "      <td>POST</td>\n",
       "      <td>17.826429</td>\n",
       "    </tr>\n",
       "    <tr>\n",
       "      <th>3097</th>\n",
       "      <td>gift_0001_20</td>\n",
       "      <td>16.845000</td>\n",
       "    </tr>\n",
       "    <tr>\n",
       "      <th>3098</th>\n",
       "      <td>gift_0001_30</td>\n",
       "      <td>25.265000</td>\n",
       "    </tr>\n",
       "    <tr>\n",
       "      <th>3101</th>\n",
       "      <td>m</td>\n",
       "      <td>2.550000</td>\n",
       "    </tr>\n",
       "  </tbody>\n",
       "</table>\n",
       "<p>3070 rows × 2 columns</p>\n",
       "</div>"
      ],
      "text/plain": [
       "           item_id      price\n",
       "0            10002   1.380000\n",
       "1            10080   0.850000\n",
       "2            10120   0.210000\n",
       "3           10123C   0.650000\n",
       "4           10124A   0.420000\n",
       "...            ...        ...\n",
       "3092     DCGSSGIRL   3.290000\n",
       "3095          POST  17.826429\n",
       "3097  gift_0001_20  16.845000\n",
       "3098  gift_0001_30  25.265000\n",
       "3101             m   2.550000\n",
       "\n",
       "[3070 rows x 2 columns]"
      ]
     },
     "execution_count": 870,
     "metadata": {},
     "output_type": "execute_result"
    }
   ],
   "source": [
    "# удаление нулевых цен\n",
    "product = product.query('price != 0').pivot_table(\n",
    "    index='item_id', values='price', aggfunc='mean').reset_index()\n",
    "\n",
    "# расчет границы выбросов\n",
    "upper_border = product['price'].quantile(0.99)\n",
    "print('Граница выбросов:', upper_border)\n",
    "print('Доля выбросов:', round(\n",
    "    len(product.query('price > @upper_border'))/len(product), 2))\n",
    "\n",
    "# фильтрация выбросов\n",
    "product = product.query('price <= @upper_border')\n",
    "product"
   ]
  },
  {
   "attachments": {},
   "cell_type": "markdown",
   "id": "38457ffb",
   "metadata": {},
   "source": [
    "Датасет product отфильтрован от нулей и выбросов, граница выбросов 29.6, теперь в нем 3070 строк.\n",
    "\n",
    "Перейдем к обработке датасета retail. Еще раз выведем распределение значений quantity - количества товара."
   ]
  },
  {
   "cell_type": "code",
   "execution_count": 871,
   "id": "37d27efd",
   "metadata": {},
   "outputs": [
    {
     "data": {
      "text/plain": [
       "count    104302.000000\n",
       "mean          7.883003\n",
       "std         329.565540\n",
       "min      -74216.000000\n",
       "25%           0.000000\n",
       "50%           2.000000\n",
       "75%           7.000000\n",
       "max       74214.000000\n",
       "Name: quantity, dtype: float64"
      ]
     },
     "execution_count": 871,
     "metadata": {},
     "output_type": "execute_result"
    }
   ],
   "source": [
    "#распредиление числовых значений\n",
    "retail['quantity'].describe()"
   ]
  },
  {
   "cell_type": "code",
   "execution_count": 872,
   "id": "89b83581",
   "metadata": {},
   "outputs": [
    {
     "data": {
      "image/png": "[encoded data removed]",
      "text/plain": [
       "<Figure size 500x500 with 1 Axes>"
      ]
     },
     "metadata": {},
     "output_type": "display_data"
    }
   ],
   "source": [
    "#построим боксплот\n",
    "retail.boxplot(column='quantity', figsize=(5,5))\n",
    "plt.title('Распределение значений \"quantity\"')\n",
    "plt.show()"
   ]
  },
  {
   "attachments": {},
   "cell_type": "markdown",
   "id": "03e799c2",
   "metadata": {},
   "source": [
    "По диаграмме видно, что весь \"ящик с усами\" распологается около нуля. Нулевое количество товара возможно если это ошибка пробития в чеке, отмена покупки и товар не приобретен, или ошибка в сборе данных. Нет смысла работать со строками с нулевым количеством, стоимость у них будет тоже 0. Удалим эти значения."
   ]
  },
  {
   "cell_type": "code",
   "execution_count": 873,
   "id": "45a8bbd6",
   "metadata": {},
   "outputs": [
    {
     "name": "stdout",
     "output_type": "stream",
     "text": [
      "Число строк с нулевым количеством товара: 32362\n"
     ]
    }
   ],
   "source": [
    "#выведем количество 0 строк и отфильтруем датасет\n",
    "print('Число строк с нулевым количеством товара:', retail.query('quantity == 0').shape[0])\n",
    "retail = retail.query('quantity != 0')"
   ]
  },
  {
   "attachments": {},
   "cell_type": "markdown",
   "id": "49df7f7f",
   "metadata": {},
   "source": [
    "Удалили 32362 строки с 0 количеством товара. Это треть датасета. "
   ]
  },
  {
   "cell_type": "code",
   "execution_count": 889,
   "id": "a895eb19",
   "metadata": {},
   "outputs": [
    {
     "data": {
      "text/html": [
       "<div>\n",
       "<style scoped>\n",
       "    .dataframe tbody tr th:only-of-type {\n",
       "        vertical-align: middle;\n",
       "    }\n",
       "\n",
       "    .dataframe tbody tr th {\n",
       "        vertical-align: top;\n",
       "    }\n",
       "\n",
       "    .dataframe thead th {\n",
       "        text-align: right;\n",
       "    }\n",
       "</style>\n",
       "<table border=\"1\" class=\"dataframe\">\n",
       "  <thead>\n",
       "    <tr style=\"text-align: right;\">\n",
       "      <th></th>\n",
       "      <th>purchase_id</th>\n",
       "      <th>item_id</th>\n",
       "      <th>quantity</th>\n",
       "      <th>purchase_date</th>\n",
       "      <th>customer_id</th>\n",
       "      <th>shop_id</th>\n",
       "      <th>loyalty_program</th>\n",
       "      <th>weekday</th>\n",
       "      <th>week</th>\n",
       "    </tr>\n",
       "  </thead>\n",
       "  <tbody>\n",
       "    <tr>\n",
       "      <th>49166</th>\n",
       "      <td>C541433</td>\n",
       "      <td>23166</td>\n",
       "      <td>-74216</td>\n",
       "      <td>2017-01-18 10:17:00</td>\n",
       "      <td>18025.0</td>\n",
       "      <td>Shop 0</td>\n",
       "      <td>0</td>\n",
       "      <td>2</td>\n",
       "      <td>3</td>\n",
       "    </tr>\n",
       "    <tr>\n",
       "      <th>68612</th>\n",
       "      <td>541431</td>\n",
       "      <td>23166</td>\n",
       "      <td>74214</td>\n",
       "      <td>2017-01-18 10:01:00</td>\n",
       "      <td>18025.0</td>\n",
       "      <td>Shop 0</td>\n",
       "      <td>0</td>\n",
       "      <td>2</td>\n",
       "      <td>3</td>\n",
       "    </tr>\n",
       "  </tbody>\n",
       "</table>\n",
       "</div>"
      ],
      "text/plain": [
       "      purchase_id item_id  quantity       purchase_date customer_id shop_id  \\\n",
       "49166     C541433   23166    -74216 2017-01-18 10:17:00     18025.0  Shop 0   \n",
       "68612      541431   23166     74214 2017-01-18 10:01:00     18025.0  Shop 0   \n",
       "\n",
       "       loyalty_program  weekday  week  \n",
       "49166                0        2     3  \n",
       "68612                0        2     3  "
      ]
     },
     "execution_count": 889,
     "metadata": {},
     "output_type": "execute_result"
    }
   ],
   "source": [
    "#посмотрим на строки с максиамальным и минимальным количесвом товаров\n",
    "quantity_max = retail['quantity'].max()\n",
    "quantity_min = retail['quantity'].min()\n",
    "retail.query('quantity == @quantity_max or quantity == @quantity_min')"
   ]
  },
  {
   "attachments": {},
   "cell_type": "markdown",
   "id": "7c2e72d5",
   "metadata": {},
   "source": [
    "Это покупки одного покупателя '18025'. Сначала было куплено 74214 едениц товара '541431', а отрицательное значение это возврат 74216 товаров. Странно, что вернули, больше, чем купили."
   ]
  },
  {
   "attachments": {},
   "cell_type": "markdown",
   "id": "df25d9f4",
   "metadata": {},
   "source": [
    "Видим возвратный чек с литерой \"С\", выведем все подобные чеки."
   ]
  },
  {
   "cell_type": "code",
   "execution_count": 890,
   "id": "65134690",
   "metadata": {},
   "outputs": [
    {
     "data": {
      "text/html": [
       "<div>\n",
       "<style scoped>\n",
       "    .dataframe tbody tr th:only-of-type {\n",
       "        vertical-align: middle;\n",
       "    }\n",
       "\n",
       "    .dataframe tbody tr th {\n",
       "        vertical-align: top;\n",
       "    }\n",
       "\n",
       "    .dataframe thead th {\n",
       "        text-align: right;\n",
       "    }\n",
       "</style>\n",
       "<table border=\"1\" class=\"dataframe\">\n",
       "  <thead>\n",
       "    <tr style=\"text-align: right;\">\n",
       "      <th></th>\n",
       "      <th>purchase_id</th>\n",
       "      <th>item_id</th>\n",
       "      <th>quantity</th>\n",
       "      <th>purchase_date</th>\n",
       "      <th>customer_id</th>\n",
       "      <th>shop_id</th>\n",
       "      <th>loyalty_program</th>\n",
       "      <th>weekday</th>\n",
       "      <th>week</th>\n",
       "    </tr>\n",
       "  </thead>\n",
       "  <tbody>\n",
       "    <tr>\n",
       "      <th>64</th>\n",
       "      <td>C539944</td>\n",
       "      <td>22776</td>\n",
       "      <td>-2</td>\n",
       "      <td>2016-12-23 11:38:00</td>\n",
       "      <td>20239.0</td>\n",
       "      <td>Shop 0</td>\n",
       "      <td>0</td>\n",
       "      <td>4</td>\n",
       "      <td>51</td>\n",
       "    </tr>\n",
       "    <tr>\n",
       "      <th>109</th>\n",
       "      <td>C542910</td>\n",
       "      <td>20726</td>\n",
       "      <td>-2</td>\n",
       "      <td>2017-02-01 15:38:00</td>\n",
       "      <td>23190.0</td>\n",
       "      <td>Shop 0</td>\n",
       "      <td>1</td>\n",
       "      <td>2</td>\n",
       "      <td>5</td>\n",
       "    </tr>\n",
       "    <tr>\n",
       "      <th>112</th>\n",
       "      <td>C542426</td>\n",
       "      <td>22418</td>\n",
       "      <td>-25</td>\n",
       "      <td>2017-01-28 09:32:00</td>\n",
       "      <td>19825.0</td>\n",
       "      <td>Shop 0</td>\n",
       "      <td>0</td>\n",
       "      <td>5</td>\n",
       "      <td>4</td>\n",
       "    </tr>\n",
       "    <tr>\n",
       "      <th>253</th>\n",
       "      <td>C539726</td>\n",
       "      <td>22791</td>\n",
       "      <td>-11</td>\n",
       "      <td>2016-12-21 14:24:00</td>\n",
       "      <td>22686.0</td>\n",
       "      <td>Shop 0</td>\n",
       "      <td>1</td>\n",
       "      <td>2</td>\n",
       "      <td>51</td>\n",
       "    </tr>\n",
       "    <tr>\n",
       "      <th>344</th>\n",
       "      <td>C544034</td>\n",
       "      <td>21878</td>\n",
       "      <td>-2</td>\n",
       "      <td>2017-02-15 11:28:00</td>\n",
       "      <td>20380.0</td>\n",
       "      <td>Shop 0</td>\n",
       "      <td>0</td>\n",
       "      <td>2</td>\n",
       "      <td>7</td>\n",
       "    </tr>\n",
       "    <tr>\n",
       "      <th>...</th>\n",
       "      <td>...</td>\n",
       "      <td>...</td>\n",
       "      <td>...</td>\n",
       "      <td>...</td>\n",
       "      <td>...</td>\n",
       "      <td>...</td>\n",
       "      <td>...</td>\n",
       "      <td>...</td>\n",
       "      <td>...</td>\n",
       "    </tr>\n",
       "    <tr>\n",
       "      <th>104132</th>\n",
       "      <td>C541650</td>\n",
       "      <td>M</td>\n",
       "      <td>-2</td>\n",
       "      <td>2017-01-20 11:44:00</td>\n",
       "      <td>C541650</td>\n",
       "      <td>Shop 0</td>\n",
       "      <td>0</td>\n",
       "      <td>4</td>\n",
       "      <td>3</td>\n",
       "    </tr>\n",
       "    <tr>\n",
       "      <th>104143</th>\n",
       "      <td>C540246</td>\n",
       "      <td>79320</td>\n",
       "      <td>-2</td>\n",
       "      <td>2017-01-05 15:43:00</td>\n",
       "      <td>18760.0</td>\n",
       "      <td>Shop 0</td>\n",
       "      <td>0</td>\n",
       "      <td>3</td>\n",
       "      <td>1</td>\n",
       "    </tr>\n",
       "    <tr>\n",
       "      <th>104180</th>\n",
       "      <td>C539467</td>\n",
       "      <td>22801</td>\n",
       "      <td>-2</td>\n",
       "      <td>2016-12-19 12:46:00</td>\n",
       "      <td>20723.0</td>\n",
       "      <td>Shop 0</td>\n",
       "      <td>0</td>\n",
       "      <td>0</td>\n",
       "      <td>51</td>\n",
       "    </tr>\n",
       "    <tr>\n",
       "      <th>104217</th>\n",
       "      <td>C540847</td>\n",
       "      <td>22197</td>\n",
       "      <td>-3</td>\n",
       "      <td>2017-01-11 17:35:00</td>\n",
       "      <td>19137.0</td>\n",
       "      <td>Shop 0</td>\n",
       "      <td>0</td>\n",
       "      <td>2</td>\n",
       "      <td>2</td>\n",
       "    </tr>\n",
       "    <tr>\n",
       "      <th>104267</th>\n",
       "      <td>C540164</td>\n",
       "      <td>21144</td>\n",
       "      <td>-13</td>\n",
       "      <td>2017-01-05 12:02:00</td>\n",
       "      <td>20590.0</td>\n",
       "      <td>Shop 6</td>\n",
       "      <td>0</td>\n",
       "      <td>3</td>\n",
       "      <td>1</td>\n",
       "    </tr>\n",
       "  </tbody>\n",
       "</table>\n",
       "<p>2076 rows × 9 columns</p>\n",
       "</div>"
      ],
      "text/plain": [
       "       purchase_id item_id  quantity       purchase_date customer_id shop_id  \\\n",
       "64         C539944   22776        -2 2016-12-23 11:38:00     20239.0  Shop 0   \n",
       "109        C542910   20726        -2 2017-02-01 15:38:00     23190.0  Shop 0   \n",
       "112        C542426   22418       -25 2017-01-28 09:32:00     19825.0  Shop 0   \n",
       "253        C539726   22791       -11 2016-12-21 14:24:00     22686.0  Shop 0   \n",
       "344        C544034   21878        -2 2017-02-15 11:28:00     20380.0  Shop 0   \n",
       "...            ...     ...       ...                 ...         ...     ...   \n",
       "104132     C541650       M        -2 2017-01-20 11:44:00     C541650  Shop 0   \n",
       "104143     C540246   79320        -2 2017-01-05 15:43:00     18760.0  Shop 0   \n",
       "104180     C539467   22801        -2 2016-12-19 12:46:00     20723.0  Shop 0   \n",
       "104217     C540847   22197        -3 2017-01-11 17:35:00     19137.0  Shop 0   \n",
       "104267     C540164   21144       -13 2017-01-05 12:02:00     20590.0  Shop 6   \n",
       "\n",
       "        loyalty_program  weekday  week  \n",
       "64                    0        4    51  \n",
       "109                   1        2     5  \n",
       "112                   0        5     4  \n",
       "253                   1        2    51  \n",
       "344                   0        2     7  \n",
       "...                 ...      ...   ...  \n",
       "104132                0        4     3  \n",
       "104143                0        3     1  \n",
       "104180                0        0    51  \n",
       "104217                0        2     2  \n",
       "104267                0        3     1  \n",
       "\n",
       "[2076 rows x 9 columns]"
      ]
     },
     "execution_count": 890,
     "metadata": {},
     "output_type": "execute_result"
    }
   ],
   "source": [
    "#чеки с отрицательным количеством\n",
    "retail.query('quantity < 0')"
   ]
  },
  {
   "attachments": {},
   "cell_type": "markdown",
   "id": "8523a20d",
   "metadata": {},
   "source": [
    "Действительно, все чеки с возвратом, начинаются на букву \"C\", их 2 тысячи. Возвраты в данных оставим. Отфильтруем выбросы."
   ]
  },
  {
   "attachments": {},
   "cell_type": "markdown",
   "id": "f77f5231",
   "metadata": {},
   "source": [
    "Рассчитаем выбросы, используем межквартильный размах (IQR). Это разница между Q3 и Q1.\\\n",
    "Редкие значения будут меньше Q1 - 1.5 * IQR, а выбивающиеся значения больше Q3 + 1.5 * IQR.\\\n",
    "Для наших значений используем коэффицент 3."
   ]
  },
  {
   "cell_type": "code",
   "execution_count": 891,
   "id": "80a7b2b1",
   "metadata": {},
   "outputs": [
    {
     "name": "stdout",
     "output_type": "stream",
     "text": [
      "Границы выбросов: -29.0, 41.0\n",
      "Доля выбросов: 0.0487\n"
     ]
    }
   ],
   "source": [
    "q1 = retail['quantity'].quantile(0.25)\n",
    "q3 = retail['quantity'].quantile(0.75)\n",
    "iqr = q3 - q1\n",
    "# границы интервала наиболее вероятных значений\n",
    "lower_border = q1 - 3 * iqr\n",
    "upper_border = q3 + 3 * iqr\n",
    "# вывод границ и доли выбросов\n",
    "print(f'Границы выбросов: {lower_border}, {upper_border}')\n",
    "print('Доля выбросов:', round(\n",
    "    len(retail.query('quantity < @lower_border or quantity > @upper_border'))/len(retail), 4))"
   ]
  },
  {
   "attachments": {},
   "cell_type": "markdown",
   "id": "52b5f6ce",
   "metadata": {},
   "source": [
    "Границы выбросов quantity -29 и 41. Доля значений, которую мы удалим по этим границам, будет 4,87%."
   ]
  },
  {
   "cell_type": "code",
   "execution_count": 892,
   "id": "6289a35a",
   "metadata": {},
   "outputs": [
    {
     "data": {
      "text/html": [
       "<div>\n",
       "<style scoped>\n",
       "    .dataframe tbody tr th:only-of-type {\n",
       "        vertical-align: middle;\n",
       "    }\n",
       "\n",
       "    .dataframe tbody tr th {\n",
       "        vertical-align: top;\n",
       "    }\n",
       "\n",
       "    .dataframe thead th {\n",
       "        text-align: right;\n",
       "    }\n",
       "</style>\n",
       "<table border=\"1\" class=\"dataframe\">\n",
       "  <thead>\n",
       "    <tr style=\"text-align: right;\">\n",
       "      <th></th>\n",
       "      <th>purchase_id</th>\n",
       "      <th>item_id</th>\n",
       "      <th>quantity</th>\n",
       "      <th>purchase_date</th>\n",
       "      <th>customer_id</th>\n",
       "      <th>shop_id</th>\n",
       "      <th>loyalty_program</th>\n",
       "      <th>weekday</th>\n",
       "      <th>week</th>\n",
       "    </tr>\n",
       "  </thead>\n",
       "  <tbody>\n",
       "    <tr>\n",
       "      <th>0</th>\n",
       "      <td>538280</td>\n",
       "      <td>21873</td>\n",
       "      <td>11</td>\n",
       "      <td>2016-12-10 12:50:00</td>\n",
       "      <td>18427.0</td>\n",
       "      <td>Shop 0</td>\n",
       "      <td>0</td>\n",
       "      <td>5</td>\n",
       "      <td>49</td>\n",
       "    </tr>\n",
       "    <tr>\n",
       "      <th>2</th>\n",
       "      <td>538855</td>\n",
       "      <td>21239</td>\n",
       "      <td>7</td>\n",
       "      <td>2016-12-14 13:50:00</td>\n",
       "      <td>22182.0</td>\n",
       "      <td>Shop 0</td>\n",
       "      <td>1</td>\n",
       "      <td>2</td>\n",
       "      <td>50</td>\n",
       "    </tr>\n",
       "    <tr>\n",
       "      <th>7</th>\n",
       "      <td>541424</td>\n",
       "      <td>79321</td>\n",
       "      <td>1</td>\n",
       "      <td>2017-01-17 17:57:00</td>\n",
       "      <td>541424</td>\n",
       "      <td>Shop 0</td>\n",
       "      <td>0</td>\n",
       "      <td>1</td>\n",
       "      <td>3</td>\n",
       "    </tr>\n",
       "    <tr>\n",
       "      <th>10</th>\n",
       "      <td>537795</td>\n",
       "      <td>82494L</td>\n",
       "      <td>5</td>\n",
       "      <td>2016-12-08 13:03:00</td>\n",
       "      <td>22892.0</td>\n",
       "      <td>Shop 0</td>\n",
       "      <td>1</td>\n",
       "      <td>3</td>\n",
       "      <td>49</td>\n",
       "    </tr>\n",
       "    <tr>\n",
       "      <th>11</th>\n",
       "      <td>541696</td>\n",
       "      <td>22197</td>\n",
       "      <td>4</td>\n",
       "      <td>2017-01-20 18:08:00</td>\n",
       "      <td>541696</td>\n",
       "      <td>Shop 0</td>\n",
       "      <td>0</td>\n",
       "      <td>4</td>\n",
       "      <td>3</td>\n",
       "    </tr>\n",
       "    <tr>\n",
       "      <th>...</th>\n",
       "      <td>...</td>\n",
       "      <td>...</td>\n",
       "      <td>...</td>\n",
       "      <td>...</td>\n",
       "      <td>...</td>\n",
       "      <td>...</td>\n",
       "      <td>...</td>\n",
       "      <td>...</td>\n",
       "      <td>...</td>\n",
       "    </tr>\n",
       "    <tr>\n",
       "      <th>104296</th>\n",
       "      <td>540154</td>\n",
       "      <td>22134</td>\n",
       "      <td>3</td>\n",
       "      <td>2017-01-05 11:30:00</td>\n",
       "      <td>540154</td>\n",
       "      <td>Shop 0</td>\n",
       "      <td>0</td>\n",
       "      <td>3</td>\n",
       "      <td>1</td>\n",
       "    </tr>\n",
       "    <tr>\n",
       "      <th>104297</th>\n",
       "      <td>538566</td>\n",
       "      <td>21826</td>\n",
       "      <td>1</td>\n",
       "      <td>2016-12-13 11:21:00</td>\n",
       "      <td>538566</td>\n",
       "      <td>Shop 0</td>\n",
       "      <td>0</td>\n",
       "      <td>1</td>\n",
       "      <td>50</td>\n",
       "    </tr>\n",
       "    <tr>\n",
       "      <th>104299</th>\n",
       "      <td>538068</td>\n",
       "      <td>85048</td>\n",
       "      <td>1</td>\n",
       "      <td>2016-12-09 14:05:00</td>\n",
       "      <td>23657.0</td>\n",
       "      <td>Shop 0</td>\n",
       "      <td>1</td>\n",
       "      <td>4</td>\n",
       "      <td>49</td>\n",
       "    </tr>\n",
       "    <tr>\n",
       "      <th>104300</th>\n",
       "      <td>538207</td>\n",
       "      <td>22818</td>\n",
       "      <td>11</td>\n",
       "      <td>2016-12-10 11:33:00</td>\n",
       "      <td>18427.0</td>\n",
       "      <td>Shop 0</td>\n",
       "      <td>0</td>\n",
       "      <td>5</td>\n",
       "      <td>49</td>\n",
       "    </tr>\n",
       "    <tr>\n",
       "      <th>104301</th>\n",
       "      <td>543977</td>\n",
       "      <td>22384</td>\n",
       "      <td>9</td>\n",
       "      <td>2017-02-14 15:35:00</td>\n",
       "      <td>21294.0</td>\n",
       "      <td>Shop 0</td>\n",
       "      <td>0</td>\n",
       "      <td>1</td>\n",
       "      <td>7</td>\n",
       "    </tr>\n",
       "  </tbody>\n",
       "</table>\n",
       "<p>68434 rows × 9 columns</p>\n",
       "</div>"
      ],
      "text/plain": [
       "       purchase_id item_id  quantity       purchase_date customer_id shop_id  \\\n",
       "0           538280   21873        11 2016-12-10 12:50:00     18427.0  Shop 0   \n",
       "2           538855   21239         7 2016-12-14 13:50:00     22182.0  Shop 0   \n",
       "7           541424   79321         1 2017-01-17 17:57:00      541424  Shop 0   \n",
       "10          537795  82494L         5 2016-12-08 13:03:00     22892.0  Shop 0   \n",
       "11          541696   22197         4 2017-01-20 18:08:00      541696  Shop 0   \n",
       "...            ...     ...       ...                 ...         ...     ...   \n",
       "104296      540154   22134         3 2017-01-05 11:30:00      540154  Shop 0   \n",
       "104297      538566   21826         1 2016-12-13 11:21:00      538566  Shop 0   \n",
       "104299      538068   85048         1 2016-12-09 14:05:00     23657.0  Shop 0   \n",
       "104300      538207   22818        11 2016-12-10 11:33:00     18427.0  Shop 0   \n",
       "104301      543977   22384         9 2017-02-14 15:35:00     21294.0  Shop 0   \n",
       "\n",
       "        loyalty_program  weekday  week  \n",
       "0                     0        5    49  \n",
       "2                     1        2    50  \n",
       "7                     0        1     3  \n",
       "10                    1        3    49  \n",
       "11                    0        4     3  \n",
       "...                 ...      ...   ...  \n",
       "104296                0        3     1  \n",
       "104297                0        1    50  \n",
       "104299                1        4    49  \n",
       "104300                0        5    49  \n",
       "104301                0        1     7  \n",
       "\n",
       "[68434 rows x 9 columns]"
      ]
     },
     "execution_count": 892,
     "metadata": {},
     "output_type": "execute_result"
    }
   ],
   "source": [
    "# фильтрация выбросов\n",
    "retail = retail.query('quantity >= @lower_border and quantity <= @upper_border')\n",
    "retail"
   ]
  },
  {
   "attachments": {},
   "cell_type": "markdown",
   "id": "6a864705",
   "metadata": {},
   "source": [
    "Обработанный от пропусков и выбросов датасет retail содержит 68434 строки. Отфильтровано много, зато теперь, данные чистые."
   ]
  },
  {
   "cell_type": "code",
   "execution_count": 895,
   "id": "71647b24",
   "metadata": {},
   "outputs": [
    {
     "data": {
      "image/png": "[encoded data removed]",
      "text/plain": [
       "<Figure size 1200x600 with 2 Axes>"
      ]
     },
     "metadata": {},
     "output_type": "display_data"
    }
   ],
   "source": [
    "#Построим боксплоты для product 'price' и retail 'quantity'\n",
    "fig, axes = plt.subplots(1, 2, figsize=(12,6))\n",
    "\n",
    "product.boxplot(column='price', ax=axes[0])\n",
    "axes[0].set_title('Распределение значений цены')\n",
    "\n",
    "retail.boxplot(column='quantity',ax=axes[1])\n",
    "axes[1].set_title('Распределение значений количества')\n",
    "\n",
    "plt.show()"
   ]
  },
  {
   "attachments": {},
   "cell_type": "markdown",
   "id": "7b390c9a",
   "metadata": {},
   "source": [
    "Без нулей и выбросов значения читаемы. Теперь можно объеденить данные в одну таблицу."
   ]
  },
  {
   "attachments": {},
   "cell_type": "markdown",
   "id": "5cc79164",
   "metadata": {},
   "source": [
    "### Объединение журнала продаж и стоимости товара."
   ]
  },
  {
   "attachments": {},
   "cell_type": "markdown",
   "id": "623c4537",
   "metadata": {},
   "source": [
    "Объеденим таблицы по id товара. Итоговую цену чека, посчитаем в столбце total, помноженную на количество из столбца quantity."
   ]
  },
  {
   "cell_type": "code",
   "execution_count": 896,
   "id": "84196870",
   "metadata": {},
   "outputs": [
    {
     "data": {
      "text/html": [
       "<div>\n",
       "<style scoped>\n",
       "    .dataframe tbody tr th:only-of-type {\n",
       "        vertical-align: middle;\n",
       "    }\n",
       "\n",
       "    .dataframe tbody tr th {\n",
       "        vertical-align: top;\n",
       "    }\n",
       "\n",
       "    .dataframe thead th {\n",
       "        text-align: right;\n",
       "    }\n",
       "</style>\n",
       "<table border=\"1\" class=\"dataframe\">\n",
       "  <thead>\n",
       "    <tr style=\"text-align: right;\">\n",
       "      <th></th>\n",
       "      <th>purchase_id</th>\n",
       "      <th>item_id</th>\n",
       "      <th>quantity</th>\n",
       "      <th>purchase_date</th>\n",
       "      <th>customer_id</th>\n",
       "      <th>shop_id</th>\n",
       "      <th>loyalty_program</th>\n",
       "      <th>weekday</th>\n",
       "      <th>week</th>\n",
       "      <th>price</th>\n",
       "      <th>total</th>\n",
       "    </tr>\n",
       "  </thead>\n",
       "  <tbody>\n",
       "    <tr>\n",
       "      <th>0</th>\n",
       "      <td>538280</td>\n",
       "      <td>21873</td>\n",
       "      <td>11</td>\n",
       "      <td>2016-12-10 12:50:00</td>\n",
       "      <td>18427.0</td>\n",
       "      <td>Shop 0</td>\n",
       "      <td>0</td>\n",
       "      <td>5</td>\n",
       "      <td>49</td>\n",
       "      <td>1.810000</td>\n",
       "      <td>19.910000</td>\n",
       "    </tr>\n",
       "    <tr>\n",
       "      <th>1</th>\n",
       "      <td>538855</td>\n",
       "      <td>21239</td>\n",
       "      <td>7</td>\n",
       "      <td>2016-12-14 13:50:00</td>\n",
       "      <td>22182.0</td>\n",
       "      <td>Shop 0</td>\n",
       "      <td>1</td>\n",
       "      <td>2</td>\n",
       "      <td>50</td>\n",
       "      <td>1.474000</td>\n",
       "      <td>10.318000</td>\n",
       "    </tr>\n",
       "    <tr>\n",
       "      <th>2</th>\n",
       "      <td>541424</td>\n",
       "      <td>79321</td>\n",
       "      <td>1</td>\n",
       "      <td>2017-01-17 17:57:00</td>\n",
       "      <td>541424</td>\n",
       "      <td>Shop 0</td>\n",
       "      <td>0</td>\n",
       "      <td>1</td>\n",
       "      <td>3</td>\n",
       "      <td>7.715000</td>\n",
       "      <td>7.715000</td>\n",
       "    </tr>\n",
       "    <tr>\n",
       "      <th>3</th>\n",
       "      <td>537795</td>\n",
       "      <td>82494L</td>\n",
       "      <td>5</td>\n",
       "      <td>2016-12-08 13:03:00</td>\n",
       "      <td>22892.0</td>\n",
       "      <td>Shop 0</td>\n",
       "      <td>1</td>\n",
       "      <td>3</td>\n",
       "      <td>49</td>\n",
       "      <td>5.145000</td>\n",
       "      <td>25.725000</td>\n",
       "    </tr>\n",
       "    <tr>\n",
       "      <th>4</th>\n",
       "      <td>541696</td>\n",
       "      <td>22197</td>\n",
       "      <td>4</td>\n",
       "      <td>2017-01-20 18:08:00</td>\n",
       "      <td>541696</td>\n",
       "      <td>Shop 0</td>\n",
       "      <td>0</td>\n",
       "      <td>4</td>\n",
       "      <td>3</td>\n",
       "      <td>1.215000</td>\n",
       "      <td>4.860000</td>\n",
       "    </tr>\n",
       "    <tr>\n",
       "      <th>...</th>\n",
       "      <td>...</td>\n",
       "      <td>...</td>\n",
       "      <td>...</td>\n",
       "      <td>...</td>\n",
       "      <td>...</td>\n",
       "      <td>...</td>\n",
       "      <td>...</td>\n",
       "      <td>...</td>\n",
       "      <td>...</td>\n",
       "      <td>...</td>\n",
       "      <td>...</td>\n",
       "    </tr>\n",
       "    <tr>\n",
       "      <th>68429</th>\n",
       "      <td>540154</td>\n",
       "      <td>22134</td>\n",
       "      <td>3</td>\n",
       "      <td>2017-01-05 11:30:00</td>\n",
       "      <td>540154</td>\n",
       "      <td>Shop 0</td>\n",
       "      <td>0</td>\n",
       "      <td>3</td>\n",
       "      <td>1</td>\n",
       "      <td>0.632500</td>\n",
       "      <td>1.897500</td>\n",
       "    </tr>\n",
       "    <tr>\n",
       "      <th>68430</th>\n",
       "      <td>538566</td>\n",
       "      <td>21826</td>\n",
       "      <td>1</td>\n",
       "      <td>2016-12-13 11:21:00</td>\n",
       "      <td>538566</td>\n",
       "      <td>Shop 0</td>\n",
       "      <td>0</td>\n",
       "      <td>1</td>\n",
       "      <td>50</td>\n",
       "      <td>2.073333</td>\n",
       "      <td>2.073333</td>\n",
       "    </tr>\n",
       "    <tr>\n",
       "      <th>68431</th>\n",
       "      <td>538068</td>\n",
       "      <td>85048</td>\n",
       "      <td>1</td>\n",
       "      <td>2016-12-09 14:05:00</td>\n",
       "      <td>23657.0</td>\n",
       "      <td>Shop 0</td>\n",
       "      <td>1</td>\n",
       "      <td>4</td>\n",
       "      <td>49</td>\n",
       "      <td>11.368000</td>\n",
       "      <td>11.368000</td>\n",
       "    </tr>\n",
       "    <tr>\n",
       "      <th>68432</th>\n",
       "      <td>538207</td>\n",
       "      <td>22818</td>\n",
       "      <td>11</td>\n",
       "      <td>2016-12-10 11:33:00</td>\n",
       "      <td>18427.0</td>\n",
       "      <td>Shop 0</td>\n",
       "      <td>0</td>\n",
       "      <td>5</td>\n",
       "      <td>49</td>\n",
       "      <td>0.700000</td>\n",
       "      <td>7.700000</td>\n",
       "    </tr>\n",
       "    <tr>\n",
       "      <th>68433</th>\n",
       "      <td>543977</td>\n",
       "      <td>22384</td>\n",
       "      <td>9</td>\n",
       "      <td>2017-02-14 15:35:00</td>\n",
       "      <td>21294.0</td>\n",
       "      <td>Shop 0</td>\n",
       "      <td>0</td>\n",
       "      <td>1</td>\n",
       "      <td>7</td>\n",
       "      <td>3.417143</td>\n",
       "      <td>30.754286</td>\n",
       "    </tr>\n",
       "  </tbody>\n",
       "</table>\n",
       "<p>68434 rows × 11 columns</p>\n",
       "</div>"
      ],
      "text/plain": [
       "      purchase_id item_id  quantity       purchase_date customer_id shop_id  \\\n",
       "0          538280   21873        11 2016-12-10 12:50:00     18427.0  Shop 0   \n",
       "1          538855   21239         7 2016-12-14 13:50:00     22182.0  Shop 0   \n",
       "2          541424   79321         1 2017-01-17 17:57:00      541424  Shop 0   \n",
       "3          537795  82494L         5 2016-12-08 13:03:00     22892.0  Shop 0   \n",
       "4          541696   22197         4 2017-01-20 18:08:00      541696  Shop 0   \n",
       "...           ...     ...       ...                 ...         ...     ...   \n",
       "68429      540154   22134         3 2017-01-05 11:30:00      540154  Shop 0   \n",
       "68430      538566   21826         1 2016-12-13 11:21:00      538566  Shop 0   \n",
       "68431      538068   85048         1 2016-12-09 14:05:00     23657.0  Shop 0   \n",
       "68432      538207   22818        11 2016-12-10 11:33:00     18427.0  Shop 0   \n",
       "68433      543977   22384         9 2017-02-14 15:35:00     21294.0  Shop 0   \n",
       "\n",
       "       loyalty_program  weekday  week      price      total  \n",
       "0                    0        5    49   1.810000  19.910000  \n",
       "1                    1        2    50   1.474000  10.318000  \n",
       "2                    0        1     3   7.715000   7.715000  \n",
       "3                    1        3    49   5.145000  25.725000  \n",
       "4                    0        4     3   1.215000   4.860000  \n",
       "...                ...      ...   ...        ...        ...  \n",
       "68429                0        3     1   0.632500   1.897500  \n",
       "68430                0        1    50   2.073333   2.073333  \n",
       "68431                1        4    49  11.368000  11.368000  \n",
       "68432                0        5    49   0.700000   7.700000  \n",
       "68433                0        1     7   3.417143  30.754286  \n",
       "\n",
       "[68434 rows x 11 columns]"
      ]
     },
     "execution_count": 896,
     "metadata": {},
     "output_type": "execute_result"
    }
   ],
   "source": [
    "#объединение таблиц\n",
    "data = retail.merge(product, on='item_id', how='left')\n",
    "# расчет стоимости\n",
    "data['total'] = data['price'] * data['quantity']\n",
    "data"
   ]
  },
  {
   "cell_type": "code",
   "execution_count": 899,
   "id": "8787bb7d",
   "metadata": {},
   "outputs": [
    {
     "data": {
      "text/plain": [
       "208"
      ]
     },
     "execution_count": 899,
     "metadata": {},
     "output_type": "execute_result"
    }
   ],
   "source": [
    "#посчитаем товары без цены\n",
    "data['total'].isna().sum()"
   ]
  },
  {
   "cell_type": "code",
   "execution_count": 901,
   "id": "3007eb25",
   "metadata": {},
   "outputs": [
    {
     "name": "stdout",
     "output_type": "stream",
     "text": [
      "<class 'pandas.core.frame.DataFrame'>\n",
      "Int64Index: 68226 entries, 0 to 68433\n",
      "Data columns (total 11 columns):\n",
      " #   Column           Non-Null Count  Dtype         \n",
      "---  ------           --------------  -----         \n",
      " 0   purchase_id      68226 non-null  object        \n",
      " 1   item_id          68226 non-null  object        \n",
      " 2   quantity         68226 non-null  int64         \n",
      " 3   purchase_date    68226 non-null  datetime64[ns]\n",
      " 4   customer_id      68226 non-null  object        \n",
      " 5   shop_id          68226 non-null  object        \n",
      " 6   loyalty_program  68226 non-null  int32         \n",
      " 7   weekday          68226 non-null  int64         \n",
      " 8   week             68226 non-null  UInt32        \n",
      " 9   price            68226 non-null  float64       \n",
      " 10  total            68226 non-null  float64       \n",
      "dtypes: UInt32(1), datetime64[ns](1), float64(2), int32(1), int64(2), object(4)\n",
      "memory usage: 5.8+ MB\n"
     ]
    }
   ],
   "source": [
    "# удаляем строки без total\n",
    "data = data.query('not price.isna()')\n",
    "data.info()"
   ]
  },
  {
   "attachments": {},
   "cell_type": "markdown",
   "id": "2fddf234",
   "metadata": {},
   "source": [
    "### Вывод:\n",
    "Строки с нулями в количестве товаров quantity и цены price были удалены, что составило треть от данных.\\\n",
    "Эти же переменные были почищенны от выбросов, в таблице retail отфильтровано 4,9%, в таблице product 1%.\\\n",
    "Два датасета были объединены в data. В столбце total расчитана общая стоимость (цена * количество).\\\n",
    "Отфильтровано 208 строк, для которых цена неизвестна.\\\n",
    "В таблице data 68226 строк, 11 столбцов."
   ]
  },
  {
   "cell_type": "code",
   "execution_count": 874,
   "id": "d852810e",
   "metadata": {},
   "outputs": [
    {
     "data": {
      "text/plain": [
       "Timestamp('2016-12-01 08:26:00')"
      ]
     },
     "execution_count": 874,
     "metadata": {},
     "output_type": "execute_result"
    }
   ],
   "source": [
    "#минимальная дата\n",
    "retail['purchase_date'].min()"
   ]
  },
  {
   "cell_type": "code",
   "execution_count": 875,
   "id": "53bc0da8",
   "metadata": {},
   "outputs": [
    {
     "data": {
      "text/plain": [
       "Timestamp('2017-02-28 17:04:00')"
      ]
     },
     "execution_count": 875,
     "metadata": {},
     "output_type": "execute_result"
    }
   ],
   "source": [
    "#максимальная дата\n",
    "retail['purchase_date'].max()"
   ]
  },
  {
   "attachments": {},
   "cell_type": "markdown",
   "id": "636fe08d",
   "metadata": {},
   "source": [
    "Набор данных за три месяца: с 2016-12-01 по 2017-02-28"
   ]
  },
  {
   "cell_type": "code",
   "execution_count": 876,
   "id": "02fef3b0",
   "metadata": {},
   "outputs": [
    {
     "data": {
      "text/plain": [
       "31"
      ]
     },
     "execution_count": 876,
     "metadata": {},
     "output_type": "execute_result"
    }
   ],
   "source": [
    "#количество магазинов\n",
    "retail['shop_id'].nunique()"
   ]
  },
  {
   "cell_type": "code",
   "execution_count": 877,
   "id": "0f12001e",
   "metadata": {},
   "outputs": [
    {
     "data": {
      "image/png": "[encoded data removed]",
      "text/plain": [
       "<Figure size 1200x600 with 1 Axes>"
      ]
     },
     "metadata": {},
     "output_type": "display_data"
    }
   ],
   "source": [
    "#для оценки характеристик распределения продаж по магазинам построим гистограмму\n",
    "retail['shop_id'].hist(bins=31, figsize=(12, 6)).set(title='Распределение продаж по магазинам')\n",
    "plt.xticks(rotation=45);"
   ]
  },
  {
   "attachments": {},
   "cell_type": "markdown",
   "id": "685cf46e",
   "metadata": {},
   "source": [
    "Доминирующее количество продаж в магазине Shop 0 указывает что данный объект, скорее всего, является онлайн-площадкой ритейла. "
   ]
  },
  {
   "cell_type": "code",
   "execution_count": 878,
   "id": "0a320ce4",
   "metadata": {},
   "outputs": [
    {
     "data": {
      "text/html": [
       "<div>\n",
       "<style scoped>\n",
       "    .dataframe tbody tr th:only-of-type {\n",
       "        vertical-align: middle;\n",
       "    }\n",
       "\n",
       "    .dataframe tbody tr th {\n",
       "        vertical-align: top;\n",
       "    }\n",
       "\n",
       "    .dataframe thead th {\n",
       "        text-align: right;\n",
       "    }\n",
       "</style>\n",
       "<table border=\"1\" class=\"dataframe\">\n",
       "  <thead>\n",
       "    <tr style=\"text-align: right;\">\n",
       "      <th></th>\n",
       "      <th></th>\n",
       "      <th>purchase_id</th>\n",
       "    </tr>\n",
       "    <tr>\n",
       "      <th>shop_id</th>\n",
       "      <th>loyalty_program</th>\n",
       "      <th></th>\n",
       "    </tr>\n",
       "  </thead>\n",
       "  <tbody>\n",
       "    <tr>\n",
       "      <th rowspan=\"2\" valign=\"top\">Shop 0</th>\n",
       "      <th>0</th>\n",
       "      <td>46614</td>\n",
       "    </tr>\n",
       "    <tr>\n",
       "      <th>1</th>\n",
       "      <td>17714</td>\n",
       "    </tr>\n",
       "    <tr>\n",
       "      <th>Shop 4</th>\n",
       "      <th>0</th>\n",
       "      <td>1692</td>\n",
       "    </tr>\n",
       "    <tr>\n",
       "      <th>Shop 1</th>\n",
       "      <th>0</th>\n",
       "      <td>1462</td>\n",
       "    </tr>\n",
       "    <tr>\n",
       "      <th>Shop 6</th>\n",
       "      <th>0</th>\n",
       "      <td>997</td>\n",
       "    </tr>\n",
       "  </tbody>\n",
       "</table>\n",
       "</div>"
      ],
      "text/plain": [
       "                         purchase_id\n",
       "shop_id loyalty_program             \n",
       "Shop 0  0                      46614\n",
       "        1                      17714\n",
       "Shop 4  0                       1692\n",
       "Shop 1  0                       1462\n",
       "Shop 6  0                        997"
      ]
     },
     "execution_count": 878,
     "metadata": {},
     "output_type": "execute_result"
    }
   ],
   "source": [
    "#проверим пристствие обоих групп лояльности\n",
    "retail.groupby(['shop_id','loyalty_program']).agg({'purchase_id':'count'}).sort_values(by='purchase_id', ascending=False).head()"
   ]
  },
  {
   "cell_type": "code",
   "execution_count": 879,
   "id": "48f8dae7",
   "metadata": {},
   "outputs": [
    {
     "data": {
      "text/html": [
       "<div>\n",
       "<style scoped>\n",
       "    .dataframe tbody tr th:only-of-type {\n",
       "        vertical-align: middle;\n",
       "    }\n",
       "\n",
       "    .dataframe tbody tr th {\n",
       "        vertical-align: top;\n",
       "    }\n",
       "\n",
       "    .dataframe thead th {\n",
       "        text-align: right;\n",
       "    }\n",
       "</style>\n",
       "<table border=\"1\" class=\"dataframe\">\n",
       "  <thead>\n",
       "    <tr style=\"text-align: right;\">\n",
       "      <th></th>\n",
       "      <th></th>\n",
       "      <th>customer_id</th>\n",
       "    </tr>\n",
       "    <tr>\n",
       "      <th>shop_id</th>\n",
       "      <th>loyalty_program</th>\n",
       "      <th></th>\n",
       "    </tr>\n",
       "  </thead>\n",
       "  <tbody>\n",
       "    <tr>\n",
       "      <th rowspan=\"2\" valign=\"top\">Shop 0</th>\n",
       "      <th>0</th>\n",
       "      <td>1610</td>\n",
       "    </tr>\n",
       "    <tr>\n",
       "      <th>1</th>\n",
       "      <td>581</td>\n",
       "    </tr>\n",
       "    <tr>\n",
       "      <th>Shop 4</th>\n",
       "      <th>0</th>\n",
       "      <td>43</td>\n",
       "    </tr>\n",
       "    <tr>\n",
       "      <th>Shop 1</th>\n",
       "      <th>0</th>\n",
       "      <td>38</td>\n",
       "    </tr>\n",
       "    <tr>\n",
       "      <th>Shop 8</th>\n",
       "      <th>0</th>\n",
       "      <td>11</td>\n",
       "    </tr>\n",
       "  </tbody>\n",
       "</table>\n",
       "</div>"
      ],
      "text/plain": [
       "                         customer_id\n",
       "shop_id loyalty_program             \n",
       "Shop 0  0                       1610\n",
       "        1                        581\n",
       "Shop 4  0                         43\n",
       "Shop 1  0                         38\n",
       "Shop 8  0                         11"
      ]
     },
     "execution_count": 879,
     "metadata": {},
     "output_type": "execute_result"
    }
   ],
   "source": [
    "#\n",
    "retail.groupby(['shop_id', 'loyalty_program']).agg({'customer_id':'nunique'}).sort_values(by='customer_id', ascending=False).head()"
   ]
  },
  {
   "cell_type": "code",
   "execution_count": 880,
   "id": "df464570",
   "metadata": {},
   "outputs": [
    {
     "data": {
      "text/html": [
       "<div>\n",
       "<style scoped>\n",
       "    .dataframe tbody tr th:only-of-type {\n",
       "        vertical-align: middle;\n",
       "    }\n",
       "\n",
       "    .dataframe tbody tr th {\n",
       "        vertical-align: top;\n",
       "    }\n",
       "\n",
       "    .dataframe thead th {\n",
       "        text-align: right;\n",
       "    }\n",
       "</style>\n",
       "<table border=\"1\" class=\"dataframe\">\n",
       "  <thead>\n",
       "    <tr style=\"text-align: right;\">\n",
       "      <th></th>\n",
       "      <th>item_id</th>\n",
       "      <th>price</th>\n",
       "    </tr>\n",
       "  </thead>\n",
       "  <tbody>\n",
       "    <tr>\n",
       "      <th>0</th>\n",
       "      <td>10002</td>\n",
       "      <td>1.380000</td>\n",
       "    </tr>\n",
       "    <tr>\n",
       "      <th>1</th>\n",
       "      <td>10080</td>\n",
       "      <td>0.850000</td>\n",
       "    </tr>\n",
       "    <tr>\n",
       "      <th>2</th>\n",
       "      <td>10120</td>\n",
       "      <td>0.210000</td>\n",
       "    </tr>\n",
       "    <tr>\n",
       "      <th>3</th>\n",
       "      <td>10123C</td>\n",
       "      <td>0.650000</td>\n",
       "    </tr>\n",
       "    <tr>\n",
       "      <th>4</th>\n",
       "      <td>10124A</td>\n",
       "      <td>0.420000</td>\n",
       "    </tr>\n",
       "    <tr>\n",
       "      <th>...</th>\n",
       "      <td>...</td>\n",
       "      <td>...</td>\n",
       "    </tr>\n",
       "    <tr>\n",
       "      <th>3092</th>\n",
       "      <td>DCGSSGIRL</td>\n",
       "      <td>3.290000</td>\n",
       "    </tr>\n",
       "    <tr>\n",
       "      <th>3095</th>\n",
       "      <td>POST</td>\n",
       "      <td>17.826429</td>\n",
       "    </tr>\n",
       "    <tr>\n",
       "      <th>3097</th>\n",
       "      <td>gift_0001_20</td>\n",
       "      <td>16.845000</td>\n",
       "    </tr>\n",
       "    <tr>\n",
       "      <th>3098</th>\n",
       "      <td>gift_0001_30</td>\n",
       "      <td>25.265000</td>\n",
       "    </tr>\n",
       "    <tr>\n",
       "      <th>3101</th>\n",
       "      <td>m</td>\n",
       "      <td>2.550000</td>\n",
       "    </tr>\n",
       "  </tbody>\n",
       "</table>\n",
       "<p>3070 rows × 2 columns</p>\n",
       "</div>"
      ],
      "text/plain": [
       "           item_id      price\n",
       "0            10002   1.380000\n",
       "1            10080   0.850000\n",
       "2            10120   0.210000\n",
       "3           10123C   0.650000\n",
       "4           10124A   0.420000\n",
       "...            ...        ...\n",
       "3092     DCGSSGIRL   3.290000\n",
       "3095          POST  17.826429\n",
       "3097  gift_0001_20  16.845000\n",
       "3098  gift_0001_30  25.265000\n",
       "3101             m   2.550000\n",
       "\n",
       "[3070 rows x 2 columns]"
      ]
     },
     "execution_count": 880,
     "metadata": {},
     "output_type": "execute_result"
    }
   ],
   "source": [
    "product"
   ]
  },
  {
   "cell_type": "code",
   "execution_count": 881,
   "id": "937e1c9e",
   "metadata": {},
   "outputs": [
    {
     "data": {
      "text/plain": [
       "item_id\n",
       "10002     1\n",
       "71495A    1\n",
       "71101E    1\n",
       "71143     1\n",
       "71215     1\n",
       "         ..\n",
       "22150     1\n",
       "22151     1\n",
       "22152     1\n",
       "22153     1\n",
       "m         1\n",
       "Name: price, Length: 3070, dtype: int64"
      ]
     },
     "execution_count": 881,
     "metadata": {},
     "output_type": "execute_result"
    }
   ],
   "source": [
    "product.groupby('item_id')['price'].count().sort_values(ascending=False)"
   ]
  },
  {
   "cell_type": "code",
   "execution_count": 882,
   "id": "092d447b",
   "metadata": {},
   "outputs": [
    {
     "data": {
      "image/png": "[encoded data removed]",
      "text/plain": [
       "<Figure size 640x480 with 1 Axes>"
      ]
     },
     "metadata": {},
     "output_type": "display_data"
    }
   ],
   "source": [
    "product['price'].hist();"
   ]
  },
  {
   "cell_type": "code",
   "execution_count": 883,
   "id": "27313907",
   "metadata": {},
   "outputs": [],
   "source": [
    "#построим столбчатую диаграмму\n",
    "#plt.figure(figsize=(14, 7))\n",
    "#ax = sns.barplot(x='shop_id', y='purchase_id', data=retail_cut, estimator=count).set(title='Категориальное количество объектов общественного питания Москвы')\n",
    "#plt.xticks(rotation=45);\n"
   ]
  },
  {
   "cell_type": "code",
   "execution_count": 884,
   "id": "d11067a6",
   "metadata": {},
   "outputs": [],
   "source": [
    "#минимальная дата привлечения\n",
    "#profiles['dt'].min()\n",
    "\n",
    "#retail['customer_id'].unique().sum()\n",
    "\n",
    "# преобразование данных о времени\n",
    "#costs['dt'] = pd.to_datetime(costs['dt']).dt.date\n",
    "\n",
    "#Год выхода игр 'year_of_release' и оценки критиков 'critic_score' переведем из вещественного типа в целочисленный\n",
    "#data['year_of_release'] = data['year_of_release'].astype('int')\n",
    "#data['critic_score'] = data['critic_score'].astype('int')\n",
    "\n",
    "#и приведем к вещественному типу 'object'\n",
    "#data['user_score'] = data['user_score'].astype('float')\n",
    "\n",
    "#удалим из самого датафрейма строки с явными дубликатами, оставив только первые вхождения: будем считать, что верные идентификаторы встречаются первыми\n",
    "#data = data.drop_duplicates(subset=['name','platform'], keep='first')"
   ]
  },
  {
   "cell_type": "code",
   "execution_count": 885,
   "id": "3b67031e",
   "metadata": {},
   "outputs": [
    {
     "data": {
      "text/html": [
       "<div>\n",
       "<style scoped>\n",
       "    .dataframe tbody tr th:only-of-type {\n",
       "        vertical-align: middle;\n",
       "    }\n",
       "\n",
       "    .dataframe tbody tr th {\n",
       "        vertical-align: top;\n",
       "    }\n",
       "\n",
       "    .dataframe thead th {\n",
       "        text-align: right;\n",
       "    }\n",
       "</style>\n",
       "<table border=\"1\" class=\"dataframe\">\n",
       "  <thead>\n",
       "    <tr style=\"text-align: right;\">\n",
       "      <th></th>\n",
       "      <th>purchase_id</th>\n",
       "      <th>item_id</th>\n",
       "      <th>quantity</th>\n",
       "      <th>purchase_date</th>\n",
       "      <th>customer_id</th>\n",
       "      <th>shop_id</th>\n",
       "      <th>loyalty_program</th>\n",
       "      <th>weekday</th>\n",
       "      <th>week</th>\n",
       "    </tr>\n",
       "  </thead>\n",
       "  <tbody>\n",
       "    <tr>\n",
       "      <th>0</th>\n",
       "      <td>538280</td>\n",
       "      <td>21873</td>\n",
       "      <td>11</td>\n",
       "      <td>2016-12-10 12:50:00</td>\n",
       "      <td>18427.0</td>\n",
       "      <td>Shop 0</td>\n",
       "      <td>0</td>\n",
       "      <td>5</td>\n",
       "      <td>49</td>\n",
       "    </tr>\n",
       "    <tr>\n",
       "      <th>8572</th>\n",
       "      <td>540418</td>\n",
       "      <td>21873</td>\n",
       "      <td>1</td>\n",
       "      <td>2017-01-07 11:04:00</td>\n",
       "      <td>540418</td>\n",
       "      <td>Shop 0</td>\n",
       "      <td>0</td>\n",
       "      <td>5</td>\n",
       "      <td>1</td>\n",
       "    </tr>\n",
       "    <tr>\n",
       "      <th>13667</th>\n",
       "      <td>541516</td>\n",
       "      <td>21873</td>\n",
       "      <td>2</td>\n",
       "      <td>2017-01-18 17:34:00</td>\n",
       "      <td>541516</td>\n",
       "      <td>Shop 0</td>\n",
       "      <td>0</td>\n",
       "      <td>2</td>\n",
       "      <td>3</td>\n",
       "    </tr>\n",
       "    <tr>\n",
       "      <th>15301</th>\n",
       "      <td>541566</td>\n",
       "      <td>21873</td>\n",
       "      <td>35</td>\n",
       "      <td>2017-01-19 11:50:00</td>\n",
       "      <td>23401.0</td>\n",
       "      <td>Shop 0</td>\n",
       "      <td>1</td>\n",
       "      <td>3</td>\n",
       "      <td>3</td>\n",
       "    </tr>\n",
       "    <tr>\n",
       "      <th>18565</th>\n",
       "      <td>538843</td>\n",
       "      <td>21873</td>\n",
       "      <td>1</td>\n",
       "      <td>2016-12-14 13:18:00</td>\n",
       "      <td>21712.0</td>\n",
       "      <td>Shop 0</td>\n",
       "      <td>0</td>\n",
       "      <td>2</td>\n",
       "      <td>50</td>\n",
       "    </tr>\n",
       "  </tbody>\n",
       "</table>\n",
       "</div>"
      ],
      "text/plain": [
       "      purchase_id item_id  quantity       purchase_date customer_id shop_id  \\\n",
       "0          538280   21873        11 2016-12-10 12:50:00     18427.0  Shop 0   \n",
       "8572       540418   21873         1 2017-01-07 11:04:00      540418  Shop 0   \n",
       "13667      541516   21873         2 2017-01-18 17:34:00      541516  Shop 0   \n",
       "15301      541566   21873        35 2017-01-19 11:50:00     23401.0  Shop 0   \n",
       "18565      538843   21873         1 2016-12-14 13:18:00     21712.0  Shop 0   \n",
       "\n",
       "       loyalty_program  weekday  week  \n",
       "0                    0        5    49  \n",
       "8572                 0        5     1  \n",
       "13667                0        2     3  \n",
       "15301                1        3     3  \n",
       "18565                0        2    50  "
      ]
     },
     "execution_count": 885,
     "metadata": {},
     "output_type": "execute_result"
    }
   ],
   "source": [
    "retail.query('item_id == \"21873\"').head()"
   ]
  },
  {
   "cell_type": "code",
   "execution_count": 886,
   "id": "6bb15d38",
   "metadata": {},
   "outputs": [
    {
     "data": {
      "text/plain": [
       "2379"
      ]
     },
     "execution_count": 886,
     "metadata": {},
     "output_type": "execute_result"
    }
   ],
   "source": [
    "retail['customer_id'].nunique()"
   ]
  },
  {
   "cell_type": "code",
   "execution_count": 887,
   "id": "5ce0d652",
   "metadata": {},
   "outputs": [
    {
     "data": {
      "text/html": [
       "<div>\n",
       "<style scoped>\n",
       "    .dataframe tbody tr th:only-of-type {\n",
       "        vertical-align: middle;\n",
       "    }\n",
       "\n",
       "    .dataframe tbody tr th {\n",
       "        vertical-align: top;\n",
       "    }\n",
       "\n",
       "    .dataframe thead th {\n",
       "        text-align: right;\n",
       "    }\n",
       "</style>\n",
       "<table border=\"1\" class=\"dataframe\">\n",
       "  <thead>\n",
       "    <tr style=\"text-align: right;\">\n",
       "      <th></th>\n",
       "      <th>purchase_id</th>\n",
       "    </tr>\n",
       "    <tr>\n",
       "      <th>shop_id</th>\n",
       "      <th></th>\n",
       "    </tr>\n",
       "  </thead>\n",
       "  <tbody>\n",
       "    <tr>\n",
       "      <th>Shop 0</th>\n",
       "      <td>64328</td>\n",
       "    </tr>\n",
       "    <tr>\n",
       "      <th>Shop 4</th>\n",
       "      <td>1692</td>\n",
       "    </tr>\n",
       "    <tr>\n",
       "      <th>Shop 1</th>\n",
       "      <td>1462</td>\n",
       "    </tr>\n",
       "    <tr>\n",
       "      <th>Shop 6</th>\n",
       "      <td>997</td>\n",
       "    </tr>\n",
       "    <tr>\n",
       "      <th>Shop 8</th>\n",
       "      <td>510</td>\n",
       "    </tr>\n",
       "  </tbody>\n",
       "</table>\n",
       "</div>"
      ],
      "text/plain": [
       "         purchase_id\n",
       "shop_id             \n",
       "Shop 0         64328\n",
       "Shop 4          1692\n",
       "Shop 1          1462\n",
       "Shop 6           997\n",
       "Shop 8           510"
      ]
     },
     "execution_count": 887,
     "metadata": {},
     "output_type": "execute_result"
    }
   ],
   "source": [
    "#\n",
    "retail.groupby('shop_id').agg({'purchase_id':'count'}).sort_values(by='purchase_id', ascending=False).head()\n"
   ]
  },
  {
   "cell_type": "code",
   "execution_count": 888,
   "id": "ddc874f5",
   "metadata": {},
   "outputs": [
    {
     "data": {
      "text/html": [
       "<div>\n",
       "<style scoped>\n",
       "    .dataframe tbody tr th:only-of-type {\n",
       "        vertical-align: middle;\n",
       "    }\n",
       "\n",
       "    .dataframe tbody tr th {\n",
       "        vertical-align: top;\n",
       "    }\n",
       "\n",
       "    .dataframe thead th {\n",
       "        text-align: right;\n",
       "    }\n",
       "</style>\n",
       "<table border=\"1\" class=\"dataframe\">\n",
       "  <thead>\n",
       "    <tr style=\"text-align: right;\">\n",
       "      <th></th>\n",
       "      <th>item_id</th>\n",
       "      <th>price</th>\n",
       "    </tr>\n",
       "  </thead>\n",
       "  <tbody>\n",
       "    <tr>\n",
       "      <th>826</th>\n",
       "      <td>21873</td>\n",
       "      <td>1.81</td>\n",
       "    </tr>\n",
       "  </tbody>\n",
       "</table>\n",
       "</div>"
      ],
      "text/plain": [
       "    item_id  price\n",
       "826   21873   1.81"
      ]
     },
     "execution_count": 888,
     "metadata": {},
     "output_type": "execute_result"
    }
   ],
   "source": [
    "product.query('item_id == \"21873\"')"
   ]
  }
 ],
 "metadata": {
  "kernelspec": {
   "display_name": "Python 3 (ipykernel)",
   "language": "python",
   "name": "python3"
  },
  "language_info": {
   "codemirror_mode": {
    "name": "ipython",
    "version": 3
   },
   "file_extension": ".py",
   "mimetype": "text/x-python",
   "name": "python",
   "nbconvert_exporter": "python",
   "pygments_lexer": "ipython3",
   "version": "3.9.13"
  }
 },
 "nbformat": 4,
 "nbformat_minor": 5
}
