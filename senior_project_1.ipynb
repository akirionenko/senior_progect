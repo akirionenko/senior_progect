{
 "cells": [
  {
   "cell_type": "markdown",
   "id": "6b503ace",
   "metadata": {},
   "source": [
    "# Ритейл — Анализ программы лояльности"
   ]
  },
  {
   "attachments": {},
   "cell_type": "markdown",
   "id": "def79c32",
   "metadata": {},
   "source": [
    "## Задачи проекта:\n",
    "\n",
    "Проанализировать программу лояльности магазина.\n",
    "\n",
    "Провести исследовательский анализ данных;\\\n",
    "Провести анализ программы лояльности;\\\n",
    "Сформулировать и проверить статистические гипотезы.\\\n",
    "Проверить гипотезу: средний чек участников программы лояльности выше, чем у остальных покупателей.\\\n",
    "Сформулировать собственную ретроспективную статистическую гипотезу. Дополнить ее нулевой и альтернативной гипотезами.\\\n",
    "Проверить гипотезы с помощью статистического теста."
   ]
  },
  {
   "attachments": {},
   "cell_type": "markdown",
   "id": "ffb00a98",
   "metadata": {},
   "source": [
    "## Описание данных:\n",
    "Датасет содержит данные о покупках в магазине строительных материалов «Строили, строили и наконец построили». \\\n",
    "Все покупатели могут получить доступ в магазин с использованием персональных карт. \\\n",
    "За 200 рублей в месяц они могут стать участниками программы лояльности. \\\n",
    "В программу включены скидки, специальные предложения, подарки."
   ]
  },
  {
   "attachments": {},
   "cell_type": "markdown",
   "id": "830992ac",
   "metadata": {},
   "source": [
    "В нашем распоряжении два датасета:\\\n",
    "retail_dataset.csv - журнал продаж\\\n",
    "product_codes.csv - стоимость товара"
   ]
  },
  {
   "attachments": {},
   "cell_type": "markdown",
   "id": "b6c356f7",
   "metadata": {},
   "source": [
    "retail_dataset.csv:\n",
    "\n",
    "- `purchaseId` — id чека;\n",
    "- `item_ID` — id товара;\n",
    "- `purchasedate` — дата покупки;\n",
    "- `Quantity` — количество товара;\n",
    "- `CustomerID` — id покупателя;\n",
    "- `ShopID` — id магазина;\n",
    "- `loyalty_program` — участвует ли покупатель в программе лояльности;"
   ]
  },
  {
   "attachments": {},
   "cell_type": "markdown",
   "id": "fccbb619",
   "metadata": {},
   "source": [
    "product_codes.csv:\n",
    "\n",
    "- `productID` — id товара;\n",
    "- `price_per_one` — стоимость одной единицы товара;"
   ]
  },
  {
   "attachments": {},
   "cell_type": "markdown",
   "id": "5c4bbdf0",
   "metadata": {},
   "source": [
    "### Стадии проекта:\n",
    "предобработка данных;\\\n",
    "исследовательский анализ данных;\\\n",
    "проверка гипотез;\\\n",
    "работа с метриками и бизнес-показателями;\\\n",
    "подготовка презентации."
   ]
  },
  {
   "attachments": {},
   "cell_type": "markdown",
   "id": "e39db74b",
   "metadata": {},
   "source": [
    "### Поведенческие алгоритмы\n",
    "прояснение запроса;\\\n",
    "декомпозиция задачи;\\\n",
    "работа с документацией,\\\n",
    "презентация результатов,\\\n",
    "и другие."
   ]
  },
  {
   "cell_type": "code",
   "execution_count": 34,
   "id": "ba1c23eb",
   "metadata": {},
   "outputs": [],
   "source": [
    "#загрузим нужные библиотеки\n",
    "import pandas as pd\n",
    "import numpy as np\n",
    "from numpy import mean\n",
    "import math as mth\n",
    "import datetime as dt\n",
    "import seaborn as sns\n",
    "import scipy.stats as st\n",
    "import plotly.express as px\n",
    "import matplotlib.pyplot as plt\n",
    "from plotly import graph_objects as go"
   ]
  },
  {
   "cell_type": "code",
   "execution_count": 48,
   "id": "d8ed5277",
   "metadata": {},
   "outputs": [],
   "source": [
    "#загрузим данные\n",
    "product, retail = (\n",
    "pd.read_csv(\"C:\\\\Users\\\\kirio\\\\OneDrive\\\\Рабочий стол\\\\ЯПрактикум\\\\14_Выпускной Проект\\\\product_codes.csv\", sep=','), #стоимость товара\n",
    "pd.read_csv('C:\\\\Users\\\\kirio\\\\OneDrive\\\\Рабочий стол\\\\ЯПрактикум\\\\14_Выпускной Проект\\\\retail_dataset.csv', sep=',') #журнал продаж\n",
    ")\n",
    "  "
   ]
  },
  {
   "cell_type": "code",
   "execution_count": 36,
   "id": "f2480066",
   "metadata": {},
   "outputs": [
    {
     "name": "stdout",
     "output_type": "stream",
     "text": [
      "<class 'pandas.core.frame.DataFrame'>\n",
      "RangeIndex: 105335 entries, 0 to 105334\n",
      "Data columns (total 7 columns):\n",
      " #   Column           Non-Null Count   Dtype  \n",
      "---  ------           --------------   -----  \n",
      " 0   purchaseid       105335 non-null  object \n",
      " 1   item_ID          105335 non-null  object \n",
      " 2   Quantity         105335 non-null  int64  \n",
      " 3   purchasedate     105335 non-null  object \n",
      " 4   CustomerID       69125 non-null   float64\n",
      " 5   ShopID           105335 non-null  object \n",
      " 6   loyalty_program  105335 non-null  float64\n",
      "dtypes: float64(2), int64(1), object(4)\n",
      "memory usage: 5.6+ MB\n"
     ]
    }
   ],
   "source": [
    "#общая информация о наборе данных в журнале продаж\n",
    "retail.info()"
   ]
  },
  {
   "attachments": {},
   "cell_type": "markdown",
   "id": "69e76286",
   "metadata": {},
   "source": [
    "В датасете  105335 записей, 7 столбцов. Три типа данных: object, float64 и int64. В столбце 'CustomerID' есть пропущенные значения. "
   ]
  },
  {
   "cell_type": "code",
   "execution_count": 50,
   "id": "ee9e7cca",
   "metadata": {},
   "outputs": [
    {
     "data": {
      "text/plain": [
       "36210"
      ]
     },
     "execution_count": 50,
     "metadata": {},
     "output_type": "execute_result"
    }
   ],
   "source": [
    "#количество пропусков в столбце CustomerID\n",
    "retail['CustomerID'].isna().sum()"
   ]
  },
  {
   "cell_type": "code",
   "execution_count": 51,
   "id": "13227920",
   "metadata": {},
   "outputs": [],
   "source": [
    "#переименуем названия столбцов\n",
    "retail = retail.rename(\n",
    "   columns={\n",
    "       'purchaseid': 'purchase_id',\\\n",
    "       'item_ID': 'item_id',\\\n",
    "       'Quantity': 'quantity',\\\n",
    "       'purchasedate': 'purchase_date',\\\n",
    "       'CustomerID': 'customer_id',\\\n",
    "       'ShopID': 'shop_id'\\\n",
    "   }\n",
    ")"
   ]
  },
  {
   "cell_type": "code",
   "execution_count": 52,
   "id": "d8d4462f",
   "metadata": {},
   "outputs": [
    {
     "data": {
      "text/html": [
       "<div>\n",
       "<style scoped>\n",
       "    .dataframe tbody tr th:only-of-type {\n",
       "        vertical-align: middle;\n",
       "    }\n",
       "\n",
       "    .dataframe tbody tr th {\n",
       "        vertical-align: top;\n",
       "    }\n",
       "\n",
       "    .dataframe thead th {\n",
       "        text-align: right;\n",
       "    }\n",
       "</style>\n",
       "<table border=\"1\" class=\"dataframe\">\n",
       "  <thead>\n",
       "    <tr style=\"text-align: right;\">\n",
       "      <th></th>\n",
       "      <th>purchase_id</th>\n",
       "      <th>item_id</th>\n",
       "      <th>quantity</th>\n",
       "      <th>purchase_date</th>\n",
       "      <th>customer_id</th>\n",
       "      <th>shop_id</th>\n",
       "      <th>loyalty_program</th>\n",
       "    </tr>\n",
       "  </thead>\n",
       "  <tbody>\n",
       "    <tr>\n",
       "      <th>0</th>\n",
       "      <td>538280</td>\n",
       "      <td>21873</td>\n",
       "      <td>11</td>\n",
       "      <td>2016-12-10 12:50:00</td>\n",
       "      <td>18427.0</td>\n",
       "      <td>Shop 0</td>\n",
       "      <td>0.0</td>\n",
       "    </tr>\n",
       "    <tr>\n",
       "      <th>1</th>\n",
       "      <td>538862</td>\n",
       "      <td>22195</td>\n",
       "      <td>0</td>\n",
       "      <td>2016-12-14 14:11:00</td>\n",
       "      <td>22389.0</td>\n",
       "      <td>Shop 0</td>\n",
       "      <td>1.0</td>\n",
       "    </tr>\n",
       "    <tr>\n",
       "      <th>2</th>\n",
       "      <td>538855</td>\n",
       "      <td>21239</td>\n",
       "      <td>7</td>\n",
       "      <td>2016-12-14 13:50:00</td>\n",
       "      <td>22182.0</td>\n",
       "      <td>Shop 0</td>\n",
       "      <td>1.0</td>\n",
       "    </tr>\n",
       "    <tr>\n",
       "      <th>3</th>\n",
       "      <td>543543</td>\n",
       "      <td>22271</td>\n",
       "      <td>0</td>\n",
       "      <td>2017-02-09 15:33:00</td>\n",
       "      <td>23522.0</td>\n",
       "      <td>Shop 0</td>\n",
       "      <td>1.0</td>\n",
       "    </tr>\n",
       "    <tr>\n",
       "      <th>4</th>\n",
       "      <td>543812</td>\n",
       "      <td>79321</td>\n",
       "      <td>0</td>\n",
       "      <td>2017-02-13 14:40:00</td>\n",
       "      <td>23151.0</td>\n",
       "      <td>Shop 0</td>\n",
       "      <td>1.0</td>\n",
       "    </tr>\n",
       "    <tr>\n",
       "      <th>...</th>\n",
       "      <td>...</td>\n",
       "      <td>...</td>\n",
       "      <td>...</td>\n",
       "      <td>...</td>\n",
       "      <td>...</td>\n",
       "      <td>...</td>\n",
       "      <td>...</td>\n",
       "    </tr>\n",
       "    <tr>\n",
       "      <th>105330</th>\n",
       "      <td>538566</td>\n",
       "      <td>21826</td>\n",
       "      <td>1</td>\n",
       "      <td>2016-12-13 11:21:00</td>\n",
       "      <td>NaN</td>\n",
       "      <td>Shop 0</td>\n",
       "      <td>0.0</td>\n",
       "    </tr>\n",
       "    <tr>\n",
       "      <th>105331</th>\n",
       "      <td>540247</td>\n",
       "      <td>21742</td>\n",
       "      <td>0</td>\n",
       "      <td>2017-01-05 15:56:00</td>\n",
       "      <td>21143.0</td>\n",
       "      <td>Shop 0</td>\n",
       "      <td>0.0</td>\n",
       "    </tr>\n",
       "    <tr>\n",
       "      <th>105332</th>\n",
       "      <td>538068</td>\n",
       "      <td>85048</td>\n",
       "      <td>1</td>\n",
       "      <td>2016-12-09 14:05:00</td>\n",
       "      <td>23657.0</td>\n",
       "      <td>Shop 0</td>\n",
       "      <td>1.0</td>\n",
       "    </tr>\n",
       "    <tr>\n",
       "      <th>105333</th>\n",
       "      <td>538207</td>\n",
       "      <td>22818</td>\n",
       "      <td>11</td>\n",
       "      <td>2016-12-10 11:33:00</td>\n",
       "      <td>18427.0</td>\n",
       "      <td>Shop 0</td>\n",
       "      <td>0.0</td>\n",
       "    </tr>\n",
       "    <tr>\n",
       "      <th>105334</th>\n",
       "      <td>543977</td>\n",
       "      <td>22384</td>\n",
       "      <td>9</td>\n",
       "      <td>2017-02-14 15:35:00</td>\n",
       "      <td>21294.0</td>\n",
       "      <td>Shop 0</td>\n",
       "      <td>0.0</td>\n",
       "    </tr>\n",
       "  </tbody>\n",
       "</table>\n",
       "<p>105335 rows × 7 columns</p>\n",
       "</div>"
      ],
      "text/plain": [
       "       purchase_id item_id  quantity        purchase_date  customer_id  \\\n",
       "0           538280   21873        11  2016-12-10 12:50:00      18427.0   \n",
       "1           538862   22195         0  2016-12-14 14:11:00      22389.0   \n",
       "2           538855   21239         7  2016-12-14 13:50:00      22182.0   \n",
       "3           543543   22271         0  2017-02-09 15:33:00      23522.0   \n",
       "4           543812   79321         0  2017-02-13 14:40:00      23151.0   \n",
       "...            ...     ...       ...                  ...          ...   \n",
       "105330      538566   21826         1  2016-12-13 11:21:00          NaN   \n",
       "105331      540247   21742         0  2017-01-05 15:56:00      21143.0   \n",
       "105332      538068   85048         1  2016-12-09 14:05:00      23657.0   \n",
       "105333      538207   22818        11  2016-12-10 11:33:00      18427.0   \n",
       "105334      543977   22384         9  2017-02-14 15:35:00      21294.0   \n",
       "\n",
       "       shop_id  loyalty_program  \n",
       "0       Shop 0              0.0  \n",
       "1       Shop 0              1.0  \n",
       "2       Shop 0              1.0  \n",
       "3       Shop 0              1.0  \n",
       "4       Shop 0              1.0  \n",
       "...        ...              ...  \n",
       "105330  Shop 0              0.0  \n",
       "105331  Shop 0              0.0  \n",
       "105332  Shop 0              1.0  \n",
       "105333  Shop 0              0.0  \n",
       "105334  Shop 0              0.0  \n",
       "\n",
       "[105335 rows x 7 columns]"
      ]
     },
     "execution_count": 52,
     "metadata": {},
     "output_type": "execute_result"
    }
   ],
   "source": [
    "retail"
   ]
  },
  {
   "cell_type": "code",
   "execution_count": null,
   "id": "d11067a6",
   "metadata": {},
   "outputs": [],
   "source": [
    "# преобразование данных о времени\n",
    "#costs['dt'] = pd.to_datetime(costs['dt']).dt.date\n",
    "\n",
    "#Год выхода игр 'year_of_release' и оценки критиков 'critic_score' переведем из вещественного типа в целочисленный\n",
    "#data['year_of_release'] = data['year_of_release'].astype('int')\n",
    "#data['critic_score'] = data['critic_score'].astype('int')\n",
    "\n",
    "#и приведем к вещественному типу 'object'\n",
    "#data['user_score'] = data['user_score'].astype('float')\n",
    "\n",
    "#удалим из самого датафрейма строки с явными дубликатами, оставив только первые вхождения: будем считать, что верные идентификаторы встречаются первыми\n",
    "#data = data.drop_duplicates(subset=['name','platform'], keep='first')"
   ]
  },
  {
   "cell_type": "code",
   "execution_count": 54,
   "id": "35fe07e3",
   "metadata": {},
   "outputs": [
    {
     "data": {
      "text/plain": [
       "1033"
      ]
     },
     "execution_count": 54,
     "metadata": {},
     "output_type": "execute_result"
    }
   ],
   "source": [
    "#проверим на явные дубликаты\n",
    "retail.duplicated().sum()\n"
   ]
  },
  {
   "cell_type": "code",
   "execution_count": 65,
   "id": "6a4024b3",
   "metadata": {},
   "outputs": [
    {
     "data": {
      "text/plain": [
       "0.0    81493\n",
       "1.0    23842\n",
       "Name: loyalty_program, dtype: int64"
      ]
     },
     "execution_count": 65,
     "metadata": {},
     "output_type": "execute_result"
    }
   ],
   "source": [
    "#количество клиентов участвующих в программе лояльности(1.0)\n",
    "retail['loyalty_program'].value_counts()"
   ]
  },
  {
   "cell_type": "code",
   "execution_count": 66,
   "id": "59f91e52",
   "metadata": {},
   "outputs": [
    {
     "data": {
      "text/html": [
       "<div>\n",
       "<style scoped>\n",
       "    .dataframe tbody tr th:only-of-type {\n",
       "        vertical-align: middle;\n",
       "    }\n",
       "\n",
       "    .dataframe tbody tr th {\n",
       "        vertical-align: top;\n",
       "    }\n",
       "\n",
       "    .dataframe thead th {\n",
       "        text-align: right;\n",
       "    }\n",
       "</style>\n",
       "<table border=\"1\" class=\"dataframe\">\n",
       "  <thead>\n",
       "    <tr style=\"text-align: right;\">\n",
       "      <th></th>\n",
       "      <th>customer_id</th>\n",
       "    </tr>\n",
       "    <tr>\n",
       "      <th>loyalty_program</th>\n",
       "      <th></th>\n",
       "    </tr>\n",
       "  </thead>\n",
       "  <tbody>\n",
       "    <tr>\n",
       "      <th>0.0</th>\n",
       "      <td>1162</td>\n",
       "    </tr>\n",
       "    <tr>\n",
       "      <th>1.0</th>\n",
       "      <td>587</td>\n",
       "    </tr>\n",
       "  </tbody>\n",
       "</table>\n",
       "</div>"
      ],
      "text/plain": [
       "                 customer_id\n",
       "loyalty_program             \n",
       "0.0                     1162\n",
       "1.0                      587"
      ]
     },
     "execution_count": 66,
     "metadata": {},
     "output_type": "execute_result"
    }
   ],
   "source": [
    "#выведем количество уникальных пользователей по группе лояльности\n",
    "retail.groupby('loyalty_program').agg({'customer_id':'nunique'})"
   ]
  },
  {
   "cell_type": "code",
   "execution_count": 68,
   "id": "6bb15d38",
   "metadata": {},
   "outputs": [
    {
     "data": {
      "text/plain": [
       "nan"
      ]
     },
     "execution_count": 68,
     "metadata": {},
     "output_type": "execute_result"
    }
   ],
   "source": [
    "retail['customer_id'].unique().sum()"
   ]
  },
  {
   "cell_type": "code",
   "execution_count": 57,
   "id": "5ce0d652",
   "metadata": {},
   "outputs": [
    {
     "data": {
      "text/html": [
       "<div>\n",
       "<style scoped>\n",
       "    .dataframe tbody tr th:only-of-type {\n",
       "        vertical-align: middle;\n",
       "    }\n",
       "\n",
       "    .dataframe tbody tr th {\n",
       "        vertical-align: top;\n",
       "    }\n",
       "\n",
       "    .dataframe thead th {\n",
       "        text-align: right;\n",
       "    }\n",
       "</style>\n",
       "<table border=\"1\" class=\"dataframe\">\n",
       "  <thead>\n",
       "    <tr style=\"text-align: right;\">\n",
       "      <th></th>\n",
       "      <th>purchase_id</th>\n",
       "    </tr>\n",
       "    <tr>\n",
       "      <th>shop_id</th>\n",
       "      <th></th>\n",
       "    </tr>\n",
       "  </thead>\n",
       "  <tbody>\n",
       "    <tr>\n",
       "      <th>Shop 0</th>\n",
       "      <td>97393</td>\n",
       "    </tr>\n",
       "    <tr>\n",
       "      <th>Shop 4</th>\n",
       "      <td>1741</td>\n",
       "    </tr>\n",
       "    <tr>\n",
       "      <th>Shop 1</th>\n",
       "      <td>1540</td>\n",
       "    </tr>\n",
       "    <tr>\n",
       "      <th>Shop 6</th>\n",
       "      <td>1032</td>\n",
       "    </tr>\n",
       "    <tr>\n",
       "      <th>Shop 8</th>\n",
       "      <td>560</td>\n",
       "    </tr>\n",
       "  </tbody>\n",
       "</table>\n",
       "</div>"
      ],
      "text/plain": [
       "         purchase_id\n",
       "shop_id             \n",
       "Shop 0         97393\n",
       "Shop 4          1741\n",
       "Shop 1          1540\n",
       "Shop 6          1032\n",
       "Shop 8           560"
      ]
     },
     "execution_count": 57,
     "metadata": {},
     "output_type": "execute_result"
    }
   ],
   "source": [
    "#\n",
    "retail.groupby('shop_id').agg({'purchase_id':'count'}).sort_values(by='purchase_id', ascending=False).head()\n"
   ]
  },
  {
   "cell_type": "code",
   "execution_count": 70,
   "id": "48f8dae7",
   "metadata": {},
   "outputs": [
    {
     "data": {
      "text/html": [
       "<div>\n",
       "<style scoped>\n",
       "    .dataframe tbody tr th:only-of-type {\n",
       "        vertical-align: middle;\n",
       "    }\n",
       "\n",
       "    .dataframe tbody tr th {\n",
       "        vertical-align: top;\n",
       "    }\n",
       "\n",
       "    .dataframe thead th {\n",
       "        text-align: right;\n",
       "    }\n",
       "</style>\n",
       "<table border=\"1\" class=\"dataframe\">\n",
       "  <thead>\n",
       "    <tr style=\"text-align: right;\">\n",
       "      <th></th>\n",
       "      <th>customer_id</th>\n",
       "    </tr>\n",
       "    <tr>\n",
       "      <th>shop_id</th>\n",
       "      <th></th>\n",
       "    </tr>\n",
       "  </thead>\n",
       "  <tbody>\n",
       "    <tr>\n",
       "      <th>Shop 0</th>\n",
       "      <td>1572</td>\n",
       "    </tr>\n",
       "    <tr>\n",
       "      <th>Shop 4</th>\n",
       "      <td>43</td>\n",
       "    </tr>\n",
       "    <tr>\n",
       "      <th>Shop 1</th>\n",
       "      <td>38</td>\n",
       "    </tr>\n",
       "    <tr>\n",
       "      <th>Shop 8</th>\n",
       "      <td>12</td>\n",
       "    </tr>\n",
       "    <tr>\n",
       "      <th>Shop 12</th>\n",
       "      <td>10</td>\n",
       "    </tr>\n",
       "  </tbody>\n",
       "</table>\n",
       "</div>"
      ],
      "text/plain": [
       "         customer_id\n",
       "shop_id             \n",
       "Shop 0          1572\n",
       "Shop 4            43\n",
       "Shop 1            38\n",
       "Shop 8            12\n",
       "Shop 12           10"
      ]
     },
     "execution_count": 70,
     "metadata": {},
     "output_type": "execute_result"
    }
   ],
   "source": [
    "#\n",
    "retail.groupby('shop_id').agg({'customer_id':'nunique'}).sort_values(by='customer_id', ascending=False).head()"
   ]
  },
  {
   "cell_type": "code",
   "execution_count": 42,
   "id": "eb4bd9f0",
   "metadata": {},
   "outputs": [
    {
     "name": "stdout",
     "output_type": "stream",
     "text": [
      "<class 'pandas.core.frame.DataFrame'>\n",
      "RangeIndex: 9969 entries, 0 to 9968\n",
      "Data columns (total 2 columns):\n",
      " #   Column         Non-Null Count  Dtype  \n",
      "---  ------         --------------  -----  \n",
      " 0   productID      9969 non-null   object \n",
      " 1   price_per_one  9969 non-null   float64\n",
      "dtypes: float64(1), object(1)\n",
      "memory usage: 155.9+ KB\n"
     ]
    }
   ],
   "source": [
    "#общая информация о наборе данных\n",
    "product.info()"
   ]
  },
  {
   "cell_type": "code",
   "execution_count": 43,
   "id": "2f24da3b",
   "metadata": {},
   "outputs": [],
   "source": [
    "#переименуем название столбца\n",
    "product = product.rename(columns={'productID': 'product_id'})"
   ]
  },
  {
   "cell_type": "code",
   "execution_count": 44,
   "id": "f03e397f",
   "metadata": {},
   "outputs": [
    {
     "data": {
      "text/html": [
       "<div>\n",
       "<style scoped>\n",
       "    .dataframe tbody tr th:only-of-type {\n",
       "        vertical-align: middle;\n",
       "    }\n",
       "\n",
       "    .dataframe tbody tr th {\n",
       "        vertical-align: top;\n",
       "    }\n",
       "\n",
       "    .dataframe thead th {\n",
       "        text-align: right;\n",
       "    }\n",
       "</style>\n",
       "<table border=\"1\" class=\"dataframe\">\n",
       "  <thead>\n",
       "    <tr style=\"text-align: right;\">\n",
       "      <th></th>\n",
       "      <th>product_id</th>\n",
       "      <th>price_per_one</th>\n",
       "    </tr>\n",
       "  </thead>\n",
       "  <tbody>\n",
       "    <tr>\n",
       "      <th>0</th>\n",
       "      <td>85123A</td>\n",
       "      <td>2.55</td>\n",
       "    </tr>\n",
       "    <tr>\n",
       "      <th>1</th>\n",
       "      <td>71053</td>\n",
       "      <td>3.39</td>\n",
       "    </tr>\n",
       "    <tr>\n",
       "      <th>2</th>\n",
       "      <td>84406B</td>\n",
       "      <td>2.75</td>\n",
       "    </tr>\n",
       "    <tr>\n",
       "      <th>3</th>\n",
       "      <td>84029G</td>\n",
       "      <td>3.39</td>\n",
       "    </tr>\n",
       "    <tr>\n",
       "      <th>4</th>\n",
       "      <td>84029E</td>\n",
       "      <td>3.39</td>\n",
       "    </tr>\n",
       "    <tr>\n",
       "      <th>...</th>\n",
       "      <td>...</td>\n",
       "      <td>...</td>\n",
       "    </tr>\n",
       "    <tr>\n",
       "      <th>9964</th>\n",
       "      <td>84306</td>\n",
       "      <td>8.29</td>\n",
       "    </tr>\n",
       "    <tr>\n",
       "      <th>9965</th>\n",
       "      <td>90001A</td>\n",
       "      <td>4.15</td>\n",
       "    </tr>\n",
       "    <tr>\n",
       "      <th>9966</th>\n",
       "      <td>90118</td>\n",
       "      <td>2.46</td>\n",
       "    </tr>\n",
       "    <tr>\n",
       "      <th>9967</th>\n",
       "      <td>DOT</td>\n",
       "      <td>172.62</td>\n",
       "    </tr>\n",
       "    <tr>\n",
       "      <th>9968</th>\n",
       "      <td>20738</td>\n",
       "      <td>0.00</td>\n",
       "    </tr>\n",
       "  </tbody>\n",
       "</table>\n",
       "<p>9969 rows × 2 columns</p>\n",
       "</div>"
      ],
      "text/plain": [
       "     product_id  price_per_one\n",
       "0        85123A           2.55\n",
       "1         71053           3.39\n",
       "2        84406B           2.75\n",
       "3        84029G           3.39\n",
       "4        84029E           3.39\n",
       "...         ...            ...\n",
       "9964      84306           8.29\n",
       "9965     90001A           4.15\n",
       "9966      90118           2.46\n",
       "9967        DOT         172.62\n",
       "9968      20738           0.00\n",
       "\n",
       "[9969 rows x 2 columns]"
      ]
     },
     "execution_count": 44,
     "metadata": {},
     "output_type": "execute_result"
    }
   ],
   "source": [
    "product"
   ]
  },
  {
   "attachments": {},
   "cell_type": "markdown",
   "id": "951bce89",
   "metadata": {},
   "source": [
    "# Предобработка данных"
   ]
  },
  {
   "attachments": {},
   "cell_type": "markdown",
   "id": "8c9332e7",
   "metadata": {},
   "source": [
    "Исследовать пропущенные значения;\\\n",
    "Исследовать соответствие типов;\\\n",
    "Исследовать дубликаты;\\\n",
    "Проверить корректность наименований колонок;\\\n",
    "Переименовать колонки;\\\n",
    "Удалить дубликаты;\\\n",
    "Привести типы;\\\n",
    "Заменить пропущенные значения."
   ]
  },
  {
   "attachments": {},
   "cell_type": "markdown",
   "id": "946c4a29",
   "metadata": {},
   "source": [
    "### Исследуем пропущенные значения"
   ]
  },
  {
   "attachments": {},
   "cell_type": "markdown",
   "id": "f85eb4cc",
   "metadata": {},
   "source": [
    "# Исследовательский анализ данных"
   ]
  }
 ],
 "metadata": {
  "kernelspec": {
   "display_name": "Python 3 (ipykernel)",
   "language": "python",
   "name": "python3"
  },
  "language_info": {
   "codemirror_mode": {
    "name": "ipython",
    "version": 3
   },
   "file_extension": ".py",
   "mimetype": "text/x-python",
   "name": "python",
   "nbconvert_exporter": "python",
   "pygments_lexer": "ipython3",
   "version": "3.9.13"
  }
 },
 "nbformat": 4,
 "nbformat_minor": 5
}
