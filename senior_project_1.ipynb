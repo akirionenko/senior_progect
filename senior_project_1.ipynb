{
 "cells": [
  {
   "cell_type": "markdown",
   "id": "6b503ace",
   "metadata": {},
   "source": [
    "# Ритейл — Анализ программы лояльности"
   ]
  },
  {
   "attachments": {},
   "cell_type": "markdown",
   "id": "d982e684",
   "metadata": {},
   "source": [
    "ОПИСАНИЕ ДАННЫХ:\\\n",
    "Датасет содержит данные о покупках в магазине строительных материалов «Строили, строили и наконец построили». \\\n",
    "Все покупатели могут получить доступ в магазин с использованием персональных карт. \\\n",
    "За 200 рублей в месяц они могут стать участниками программы лояльности. \\\n",
    "В программу включены скидки, специальные предложения, подарки.\n",
    "\n",
    "ЗАДАЧИ ПРОЕКТА:\\\n",
    "Провести исследовательский анализ данных;\\\n",
    "Провести анализ программы лояльности;\\\n",
    "Сформулировать и проверить статистические гипотезы.\\\n",
    "Оценить возможности развития программы лояльности."
   ]
  },
  {
   "attachments": {},
   "cell_type": "markdown",
   "id": "cc8bf047",
   "metadata": {},
   "source": [
    "## Загрузка данных.\n",
    "Загрузка и первичный осмотр, получение общей информации о наборах данных."
   ]
  },
  {
   "attachments": {},
   "cell_type": "markdown",
   "id": "830992ac",
   "metadata": {},
   "source": [
    "В нашем распоряжении два датасета:\\\n",
    "retail_dataset.csv - журнал продаж\\\n",
    "product_codes.csv - стоимость товара"
   ]
  },
  {
   "attachments": {},
   "cell_type": "markdown",
   "id": "b6c356f7",
   "metadata": {},
   "source": [
    "retail_dataset.csv:\n",
    "\n",
    "- `purchaseId` — id чека;\n",
    "- `item_ID` — id товара;\n",
    "- `purchasedate` — дата покупки;\n",
    "- `Quantity` — количество товара;\n",
    "- `CustomerID` — id покупателя;\n",
    "- `ShopID` — id магазина;\n",
    "- `loyalty_program` — участвует ли покупатель в программе лояльности;"
   ]
  },
  {
   "attachments": {},
   "cell_type": "markdown",
   "id": "fccbb619",
   "metadata": {},
   "source": [
    "product_codes.csv:\n",
    "\n",
    "- `productID` — id товара;\n",
    "- `price_per_one` — стоимость одной единицы товара;"
   ]
  },
  {
   "cell_type": "code",
   "execution_count": 246,
   "id": "ba1c23eb",
   "metadata": {},
   "outputs": [],
   "source": [
    "#загрузим нужные библиотеки\n",
    "import pandas as pd\n",
    "import numpy as np\n",
    "from numpy import mean\n",
    "import math as mth\n",
    "import datetime as dt\n",
    "import seaborn as sns\n",
    "import scipy.stats as st\n",
    "import plotly.express as px\n",
    "import matplotlib.pyplot as plt\n",
    "from plotly import graph_objects as go"
   ]
  },
  {
   "cell_type": "code",
   "execution_count": 247,
   "id": "d8ed5277",
   "metadata": {},
   "outputs": [],
   "source": [
    "#загрузим данные\n",
    "product, retail = (\n",
    "pd.read_csv(\"C:\\\\Users\\\\kirio\\\\OneDrive\\\\Рабочий стол\\\\ЯПрактикум\\\\14_Выпускной Проект\\\\product_codes.csv\", sep=','), #стоимость товара\n",
    "pd.read_csv('C:\\\\Users\\\\kirio\\\\OneDrive\\\\Рабочий стол\\\\ЯПрактикум\\\\14_Выпускной Проект\\\\retail_dataset.csv', sep=',') #журнал продаж\n",
    ")\n",
    "  "
   ]
  },
  {
   "cell_type": "code",
   "execution_count": 248,
   "id": "f2480066",
   "metadata": {},
   "outputs": [
    {
     "name": "stdout",
     "output_type": "stream",
     "text": [
      "<class 'pandas.core.frame.DataFrame'>\n",
      "RangeIndex: 105335 entries, 0 to 105334\n",
      "Data columns (total 7 columns):\n",
      " #   Column           Non-Null Count   Dtype  \n",
      "---  ------           --------------   -----  \n",
      " 0   purchaseid       105335 non-null  object \n",
      " 1   item_ID          105335 non-null  object \n",
      " 2   Quantity         105335 non-null  int64  \n",
      " 3   purchasedate     105335 non-null  object \n",
      " 4   CustomerID       69125 non-null   float64\n",
      " 5   ShopID           105335 non-null  object \n",
      " 6   loyalty_program  105335 non-null  float64\n",
      "dtypes: float64(2), int64(1), object(4)\n",
      "memory usage: 5.6+ MB\n"
     ]
    }
   ],
   "source": [
    "#общая информация о наборе данных в журнале продаж\n",
    "retail.info()"
   ]
  },
  {
   "attachments": {},
   "cell_type": "markdown",
   "id": "69e76286",
   "metadata": {},
   "source": [
    "В датасете журнала продаж 105335 строк, 7 столбцов. Три типа данных: object, float64 и int64. В столбце 'CustomerID' есть пропущенные значения. "
   ]
  },
  {
   "cell_type": "code",
   "execution_count": 249,
   "id": "eb4bd9f0",
   "metadata": {},
   "outputs": [
    {
     "name": "stdout",
     "output_type": "stream",
     "text": [
      "<class 'pandas.core.frame.DataFrame'>\n",
      "RangeIndex: 9969 entries, 0 to 9968\n",
      "Data columns (total 2 columns):\n",
      " #   Column         Non-Null Count  Dtype  \n",
      "---  ------         --------------  -----  \n",
      " 0   productID      9969 non-null   object \n",
      " 1   price_per_one  9969 non-null   float64\n",
      "dtypes: float64(1), object(1)\n",
      "memory usage: 155.9+ KB\n"
     ]
    }
   ],
   "source": [
    "#общая информация о наборе данных стоимости товара\n",
    "product.info()"
   ]
  },
  {
   "attachments": {},
   "cell_type": "markdown",
   "id": "0f24be70",
   "metadata": {},
   "source": [
    "В датасете стоимости товара 9969 строк, два столбца. Два типа данных: object и float64. Пропусков нет."
   ]
  },
  {
   "attachments": {},
   "cell_type": "markdown",
   "id": "eed8d492",
   "metadata": {},
   "source": [
    "## Предобработка данных.\n",
    "Преобразование типов данных. Переименование и добавление столбцов. Работа с пропусками и дубликатами в данных.  "
   ]
  },
  {
   "attachments": {},
   "cell_type": "markdown",
   "id": "8c9332e7",
   "metadata": {},
   "source": [
    "Исследовать пропущенные значения;\\\n",
    "Исследовать соответствие типов;\\\n",
    "Исследовать дубликаты;\\\n",
    "Проверить корректность наименований колонок;\\\n",
    "Переименовать колонки;\\\n",
    "Удалить дубликаты;\\\n",
    "Привести типы;\\\n",
    "Заменить пропущенные значения."
   ]
  },
  {
   "cell_type": "code",
   "execution_count": 250,
   "id": "13227920",
   "metadata": {},
   "outputs": [],
   "source": [
    "#переименуем названия столбцов\n",
    "retail = retail.rename(\n",
    "   columns={\n",
    "       'purchaseid': 'purchase_id',\\\n",
    "       'item_ID': 'item_id',\\\n",
    "       'Quantity': 'quantity',\\\n",
    "       'purchasedate': 'purchase_date',\\\n",
    "       'CustomerID': 'customer_id',\\\n",
    "       'ShopID': 'shop_id'\\\n",
    "   }\n",
    ")"
   ]
  },
  {
   "cell_type": "code",
   "execution_count": 251,
   "id": "ee9e7cca",
   "metadata": {},
   "outputs": [
    {
     "data": {
      "text/plain": [
       "36210"
      ]
     },
     "execution_count": 251,
     "metadata": {},
     "output_type": "execute_result"
    }
   ],
   "source": [
    "#количество пропусков в столбце customer_id\n",
    "retail['customer_id'].isna().sum()"
   ]
  },
  {
   "cell_type": "code",
   "execution_count": 252,
   "id": "b25659df",
   "metadata": {},
   "outputs": [
    {
     "data": {
      "text/html": [
       "<style  type=\"text/css\" >\n",
       "#T_f5060_row0_col0,#T_f5060_row1_col0,#T_f5060_row2_col0,#T_f5060_row3_col0,#T_f5060_row5_col0,#T_f5060_row6_col0{\n",
       "            background-color:  #3b4cc0;\n",
       "            color:  #f1f1f1;\n",
       "        }#T_f5060_row4_col0{\n",
       "            background-color:  #b40426;\n",
       "            color:  #f1f1f1;\n",
       "        }</style><table id=\"T_f5060_\" ><thead>    <tr>        <th class=\"blank level0\" ></th>        <th class=\"col_heading level0 col0\" >0</th>    </tr></thead><tbody>\n",
       "                <tr>\n",
       "                        <th id=\"T_f5060_level0_row0\" class=\"row_heading level0 row0\" >purchase_id</th>\n",
       "                        <td id=\"T_f5060_row0_col0\" class=\"data row0 col0\" >0.000000</td>\n",
       "            </tr>\n",
       "            <tr>\n",
       "                        <th id=\"T_f5060_level0_row1\" class=\"row_heading level0 row1\" >item_id</th>\n",
       "                        <td id=\"T_f5060_row1_col0\" class=\"data row1 col0\" >0.000000</td>\n",
       "            </tr>\n",
       "            <tr>\n",
       "                        <th id=\"T_f5060_level0_row2\" class=\"row_heading level0 row2\" >quantity</th>\n",
       "                        <td id=\"T_f5060_row2_col0\" class=\"data row2 col0\" >0.000000</td>\n",
       "            </tr>\n",
       "            <tr>\n",
       "                        <th id=\"T_f5060_level0_row3\" class=\"row_heading level0 row3\" >purchase_date</th>\n",
       "                        <td id=\"T_f5060_row3_col0\" class=\"data row3 col0\" >0.000000</td>\n",
       "            </tr>\n",
       "            <tr>\n",
       "                        <th id=\"T_f5060_level0_row4\" class=\"row_heading level0 row4\" >customer_id</th>\n",
       "                        <td id=\"T_f5060_row4_col0\" class=\"data row4 col0\" >34.000000</td>\n",
       "            </tr>\n",
       "            <tr>\n",
       "                        <th id=\"T_f5060_level0_row5\" class=\"row_heading level0 row5\" >shop_id</th>\n",
       "                        <td id=\"T_f5060_row5_col0\" class=\"data row5 col0\" >0.000000</td>\n",
       "            </tr>\n",
       "            <tr>\n",
       "                        <th id=\"T_f5060_level0_row6\" class=\"row_heading level0 row6\" >loyalty_program</th>\n",
       "                        <td id=\"T_f5060_row6_col0\" class=\"data row6 col0\" >0.000000</td>\n",
       "            </tr>\n",
       "    </tbody></table>"
      ],
      "text/plain": [
       "<pandas.io.formats.style.Styler at 0x270764f9970>"
      ]
     },
     "execution_count": 252,
     "metadata": {},
     "output_type": "execute_result"
    }
   ],
   "source": [
    "# % пропусков\n",
    "pd.DataFrame(round(retail.isna().mean()*100,)).style.background_gradient('coolwarm')"
   ]
  },
  {
   "cell_type": "code",
   "execution_count": 253,
   "id": "c2e1a1d8",
   "metadata": {},
   "outputs": [
    {
     "data": {
      "text/plain": [
       "36210"
      ]
     },
     "execution_count": 253,
     "metadata": {},
     "output_type": "execute_result"
    }
   ],
   "source": [
    "#срез по незарегистрированным пользователям не участвующих в программе лояльности \n",
    "retail.query('loyalty_program == 0.0')['customer_id'].isna().sum()"
   ]
  },
  {
   "attachments": {},
   "cell_type": "markdown",
   "id": "18598246",
   "metadata": {},
   "source": [
    "Треть (34%) пользователей совершили покупки без регистрации (количество: 36210) и все они не участвуют в программе лояльности. На данном этапе эти данные оставим."
   ]
  },
  {
   "cell_type": "code",
   "execution_count": 254,
   "id": "6a4024b3",
   "metadata": {},
   "outputs": [
    {
     "data": {
      "text/plain": [
       "0.0    81493\n",
       "1.0    23842\n",
       "Name: loyalty_program, dtype: int64"
      ]
     },
     "execution_count": 254,
     "metadata": {},
     "output_type": "execute_result"
    }
   ],
   "source": [
    "#количество событий в разрезе программы лояльности\n",
    "retail['loyalty_program'].value_counts()"
   ]
  },
  {
   "cell_type": "code",
   "execution_count": 255,
   "id": "59f91e52",
   "metadata": {},
   "outputs": [
    {
     "data": {
      "text/html": [
       "<div>\n",
       "<style scoped>\n",
       "    .dataframe tbody tr th:only-of-type {\n",
       "        vertical-align: middle;\n",
       "    }\n",
       "\n",
       "    .dataframe tbody tr th {\n",
       "        vertical-align: top;\n",
       "    }\n",
       "\n",
       "    .dataframe thead th {\n",
       "        text-align: right;\n",
       "    }\n",
       "</style>\n",
       "<table border=\"1\" class=\"dataframe\">\n",
       "  <thead>\n",
       "    <tr style=\"text-align: right;\">\n",
       "      <th></th>\n",
       "      <th>customer_id</th>\n",
       "    </tr>\n",
       "    <tr>\n",
       "      <th>loyalty_program</th>\n",
       "      <th></th>\n",
       "    </tr>\n",
       "  </thead>\n",
       "  <tbody>\n",
       "    <tr>\n",
       "      <th>0.0</th>\n",
       "      <td>1162</td>\n",
       "    </tr>\n",
       "    <tr>\n",
       "      <th>1.0</th>\n",
       "      <td>587</td>\n",
       "    </tr>\n",
       "  </tbody>\n",
       "</table>\n",
       "</div>"
      ],
      "text/plain": [
       "                 customer_id\n",
       "loyalty_program             \n",
       "0.0                     1162\n",
       "1.0                      587"
      ]
     },
     "execution_count": 255,
     "metadata": {},
     "output_type": "execute_result"
    }
   ],
   "source": [
    "#выведем количество уникальных пользователей по группе лояльности\n",
    "retail.groupby('loyalty_program').agg({'customer_id':'nunique'})"
   ]
  },
  {
   "attachments": {},
   "cell_type": "markdown",
   "id": "4419e314",
   "metadata": {},
   "source": [
    "Гипотезы основаны на следующих метриках: средний чек, среднее количество покупок и кумулятивная сумма денег которую  клиент в среднем принёс компании.\\\n",
    "Все они основаны на расчетах на каждого клиента, в этом случае отсутствующие значения могут быть интерпретированы как действия одного клиента с множеством покупок.\\\n",
    "Учитывая 4х кратное превосходство количества событий не участвующих в программе лояльности и двукратное уникальных пользователей, мы удалим строки с отсутствующими значениями.\\\n",
    "Несмотря на значительную потерю данных, датасет будет более релевантен нашим исследованиям."
   ]
  },
  {
   "cell_type": "code",
   "execution_count": 256,
   "id": "089d39f5",
   "metadata": {},
   "outputs": [
    {
     "data": {
      "text/html": [
       "<div>\n",
       "<style scoped>\n",
       "    .dataframe tbody tr th:only-of-type {\n",
       "        vertical-align: middle;\n",
       "    }\n",
       "\n",
       "    .dataframe tbody tr th {\n",
       "        vertical-align: top;\n",
       "    }\n",
       "\n",
       "    .dataframe thead th {\n",
       "        text-align: right;\n",
       "    }\n",
       "</style>\n",
       "<table border=\"1\" class=\"dataframe\">\n",
       "  <thead>\n",
       "    <tr style=\"text-align: right;\">\n",
       "      <th></th>\n",
       "      <th>purchase_id</th>\n",
       "      <th>item_id</th>\n",
       "      <th>quantity</th>\n",
       "      <th>purchase_date</th>\n",
       "      <th>customer_id</th>\n",
       "      <th>shop_id</th>\n",
       "      <th>loyalty_program</th>\n",
       "    </tr>\n",
       "  </thead>\n",
       "  <tbody>\n",
       "    <tr>\n",
       "      <th>0</th>\n",
       "      <td>538280</td>\n",
       "      <td>21873</td>\n",
       "      <td>11</td>\n",
       "      <td>2016-12-10 12:50:00</td>\n",
       "      <td>18427.0</td>\n",
       "      <td>Shop 0</td>\n",
       "      <td>0.0</td>\n",
       "    </tr>\n",
       "    <tr>\n",
       "      <th>1</th>\n",
       "      <td>538862</td>\n",
       "      <td>22195</td>\n",
       "      <td>0</td>\n",
       "      <td>2016-12-14 14:11:00</td>\n",
       "      <td>22389.0</td>\n",
       "      <td>Shop 0</td>\n",
       "      <td>1.0</td>\n",
       "    </tr>\n",
       "    <tr>\n",
       "      <th>2</th>\n",
       "      <td>538855</td>\n",
       "      <td>21239</td>\n",
       "      <td>7</td>\n",
       "      <td>2016-12-14 13:50:00</td>\n",
       "      <td>22182.0</td>\n",
       "      <td>Shop 0</td>\n",
       "      <td>1.0</td>\n",
       "    </tr>\n",
       "    <tr>\n",
       "      <th>3</th>\n",
       "      <td>543543</td>\n",
       "      <td>22271</td>\n",
       "      <td>0</td>\n",
       "      <td>2017-02-09 15:33:00</td>\n",
       "      <td>23522.0</td>\n",
       "      <td>Shop 0</td>\n",
       "      <td>1.0</td>\n",
       "    </tr>\n",
       "    <tr>\n",
       "      <th>4</th>\n",
       "      <td>543812</td>\n",
       "      <td>79321</td>\n",
       "      <td>0</td>\n",
       "      <td>2017-02-13 14:40:00</td>\n",
       "      <td>23151.0</td>\n",
       "      <td>Shop 0</td>\n",
       "      <td>1.0</td>\n",
       "    </tr>\n",
       "    <tr>\n",
       "      <th>...</th>\n",
       "      <td>...</td>\n",
       "      <td>...</td>\n",
       "      <td>...</td>\n",
       "      <td>...</td>\n",
       "      <td>...</td>\n",
       "      <td>...</td>\n",
       "      <td>...</td>\n",
       "    </tr>\n",
       "    <tr>\n",
       "      <th>105330</th>\n",
       "      <td>538566</td>\n",
       "      <td>21826</td>\n",
       "      <td>1</td>\n",
       "      <td>2016-12-13 11:21:00</td>\n",
       "      <td>NaN</td>\n",
       "      <td>Shop 0</td>\n",
       "      <td>0.0</td>\n",
       "    </tr>\n",
       "    <tr>\n",
       "      <th>105331</th>\n",
       "      <td>540247</td>\n",
       "      <td>21742</td>\n",
       "      <td>0</td>\n",
       "      <td>2017-01-05 15:56:00</td>\n",
       "      <td>21143.0</td>\n",
       "      <td>Shop 0</td>\n",
       "      <td>0.0</td>\n",
       "    </tr>\n",
       "    <tr>\n",
       "      <th>105332</th>\n",
       "      <td>538068</td>\n",
       "      <td>85048</td>\n",
       "      <td>1</td>\n",
       "      <td>2016-12-09 14:05:00</td>\n",
       "      <td>23657.0</td>\n",
       "      <td>Shop 0</td>\n",
       "      <td>1.0</td>\n",
       "    </tr>\n",
       "    <tr>\n",
       "      <th>105333</th>\n",
       "      <td>538207</td>\n",
       "      <td>22818</td>\n",
       "      <td>11</td>\n",
       "      <td>2016-12-10 11:33:00</td>\n",
       "      <td>18427.0</td>\n",
       "      <td>Shop 0</td>\n",
       "      <td>0.0</td>\n",
       "    </tr>\n",
       "    <tr>\n",
       "      <th>105334</th>\n",
       "      <td>543977</td>\n",
       "      <td>22384</td>\n",
       "      <td>9</td>\n",
       "      <td>2017-02-14 15:35:00</td>\n",
       "      <td>21294.0</td>\n",
       "      <td>Shop 0</td>\n",
       "      <td>0.0</td>\n",
       "    </tr>\n",
       "  </tbody>\n",
       "</table>\n",
       "<p>105335 rows × 7 columns</p>\n",
       "</div>"
      ],
      "text/plain": [
       "       purchase_id item_id  quantity        purchase_date  customer_id  \\\n",
       "0           538280   21873        11  2016-12-10 12:50:00      18427.0   \n",
       "1           538862   22195         0  2016-12-14 14:11:00      22389.0   \n",
       "2           538855   21239         7  2016-12-14 13:50:00      22182.0   \n",
       "3           543543   22271         0  2017-02-09 15:33:00      23522.0   \n",
       "4           543812   79321         0  2017-02-13 14:40:00      23151.0   \n",
       "...            ...     ...       ...                  ...          ...   \n",
       "105330      538566   21826         1  2016-12-13 11:21:00          NaN   \n",
       "105331      540247   21742         0  2017-01-05 15:56:00      21143.0   \n",
       "105332      538068   85048         1  2016-12-09 14:05:00      23657.0   \n",
       "105333      538207   22818        11  2016-12-10 11:33:00      18427.0   \n",
       "105334      543977   22384         9  2017-02-14 15:35:00      21294.0   \n",
       "\n",
       "       shop_id  loyalty_program  \n",
       "0       Shop 0              0.0  \n",
       "1       Shop 0              1.0  \n",
       "2       Shop 0              1.0  \n",
       "3       Shop 0              1.0  \n",
       "4       Shop 0              1.0  \n",
       "...        ...              ...  \n",
       "105330  Shop 0              0.0  \n",
       "105331  Shop 0              0.0  \n",
       "105332  Shop 0              1.0  \n",
       "105333  Shop 0              0.0  \n",
       "105334  Shop 0              0.0  \n",
       "\n",
       "[105335 rows x 7 columns]"
      ]
     },
     "execution_count": 256,
     "metadata": {},
     "output_type": "execute_result"
    }
   ],
   "source": [
    "retail"
   ]
  },
  {
   "cell_type": "code",
   "execution_count": 257,
   "id": "1e121859",
   "metadata": {},
   "outputs": [],
   "source": [
    "#преобразуем типы данных в столбцах customer_id и purchase_date, отсутствующие зачения customer_id \n",
    "retail['customer_id'] = retail['customer_id'].fillna(0).astype('int')\n",
    "#loyalty_program\n",
    "retail['purchase_date'] = pd.to_datetime(retail['purchase_date']).dt.date"
   ]
  },
  {
   "cell_type": "code",
   "execution_count": 258,
   "id": "d11067a6",
   "metadata": {},
   "outputs": [],
   "source": [
    "#минимальная дата привлечения\n",
    "#profiles['dt'].min()\n",
    "\n",
    "\n",
    "# преобразование данных о времени\n",
    "#costs['dt'] = pd.to_datetime(costs['dt']).dt.date\n",
    "\n",
    "#Год выхода игр 'year_of_release' и оценки критиков 'critic_score' переведем из вещественного типа в целочисленный\n",
    "#data['year_of_release'] = data['year_of_release'].astype('int')\n",
    "#data['critic_score'] = data['critic_score'].astype('int')\n",
    "\n",
    "#и приведем к вещественному типу 'object'\n",
    "#data['user_score'] = data['user_score'].astype('float')\n",
    "\n",
    "#удалим из самого датафрейма строки с явными дубликатами, оставив только первые вхождения: будем считать, что верные идентификаторы встречаются первыми\n",
    "#data = data.drop_duplicates(subset=['name','platform'], keep='first')"
   ]
  },
  {
   "cell_type": "code",
   "execution_count": 259,
   "id": "d8d4462f",
   "metadata": {},
   "outputs": [
    {
     "data": {
      "text/html": [
       "<div>\n",
       "<style scoped>\n",
       "    .dataframe tbody tr th:only-of-type {\n",
       "        vertical-align: middle;\n",
       "    }\n",
       "\n",
       "    .dataframe tbody tr th {\n",
       "        vertical-align: top;\n",
       "    }\n",
       "\n",
       "    .dataframe thead th {\n",
       "        text-align: right;\n",
       "    }\n",
       "</style>\n",
       "<table border=\"1\" class=\"dataframe\">\n",
       "  <thead>\n",
       "    <tr style=\"text-align: right;\">\n",
       "      <th></th>\n",
       "      <th>purchase_id</th>\n",
       "      <th>item_id</th>\n",
       "      <th>quantity</th>\n",
       "      <th>purchase_date</th>\n",
       "      <th>customer_id</th>\n",
       "      <th>shop_id</th>\n",
       "      <th>loyalty_program</th>\n",
       "    </tr>\n",
       "  </thead>\n",
       "  <tbody>\n",
       "    <tr>\n",
       "      <th>0</th>\n",
       "      <td>538280</td>\n",
       "      <td>21873</td>\n",
       "      <td>11</td>\n",
       "      <td>2016-12-10</td>\n",
       "      <td>18427</td>\n",
       "      <td>Shop 0</td>\n",
       "      <td>0.0</td>\n",
       "    </tr>\n",
       "    <tr>\n",
       "      <th>1</th>\n",
       "      <td>538862</td>\n",
       "      <td>22195</td>\n",
       "      <td>0</td>\n",
       "      <td>2016-12-14</td>\n",
       "      <td>22389</td>\n",
       "      <td>Shop 0</td>\n",
       "      <td>1.0</td>\n",
       "    </tr>\n",
       "    <tr>\n",
       "      <th>2</th>\n",
       "      <td>538855</td>\n",
       "      <td>21239</td>\n",
       "      <td>7</td>\n",
       "      <td>2016-12-14</td>\n",
       "      <td>22182</td>\n",
       "      <td>Shop 0</td>\n",
       "      <td>1.0</td>\n",
       "    </tr>\n",
       "    <tr>\n",
       "      <th>3</th>\n",
       "      <td>543543</td>\n",
       "      <td>22271</td>\n",
       "      <td>0</td>\n",
       "      <td>2017-02-09</td>\n",
       "      <td>23522</td>\n",
       "      <td>Shop 0</td>\n",
       "      <td>1.0</td>\n",
       "    </tr>\n",
       "    <tr>\n",
       "      <th>4</th>\n",
       "      <td>543812</td>\n",
       "      <td>79321</td>\n",
       "      <td>0</td>\n",
       "      <td>2017-02-13</td>\n",
       "      <td>23151</td>\n",
       "      <td>Shop 0</td>\n",
       "      <td>1.0</td>\n",
       "    </tr>\n",
       "    <tr>\n",
       "      <th>...</th>\n",
       "      <td>...</td>\n",
       "      <td>...</td>\n",
       "      <td>...</td>\n",
       "      <td>...</td>\n",
       "      <td>...</td>\n",
       "      <td>...</td>\n",
       "      <td>...</td>\n",
       "    </tr>\n",
       "    <tr>\n",
       "      <th>105330</th>\n",
       "      <td>538566</td>\n",
       "      <td>21826</td>\n",
       "      <td>1</td>\n",
       "      <td>2016-12-13</td>\n",
       "      <td>0</td>\n",
       "      <td>Shop 0</td>\n",
       "      <td>0.0</td>\n",
       "    </tr>\n",
       "    <tr>\n",
       "      <th>105331</th>\n",
       "      <td>540247</td>\n",
       "      <td>21742</td>\n",
       "      <td>0</td>\n",
       "      <td>2017-01-05</td>\n",
       "      <td>21143</td>\n",
       "      <td>Shop 0</td>\n",
       "      <td>0.0</td>\n",
       "    </tr>\n",
       "    <tr>\n",
       "      <th>105332</th>\n",
       "      <td>538068</td>\n",
       "      <td>85048</td>\n",
       "      <td>1</td>\n",
       "      <td>2016-12-09</td>\n",
       "      <td>23657</td>\n",
       "      <td>Shop 0</td>\n",
       "      <td>1.0</td>\n",
       "    </tr>\n",
       "    <tr>\n",
       "      <th>105333</th>\n",
       "      <td>538207</td>\n",
       "      <td>22818</td>\n",
       "      <td>11</td>\n",
       "      <td>2016-12-10</td>\n",
       "      <td>18427</td>\n",
       "      <td>Shop 0</td>\n",
       "      <td>0.0</td>\n",
       "    </tr>\n",
       "    <tr>\n",
       "      <th>105334</th>\n",
       "      <td>543977</td>\n",
       "      <td>22384</td>\n",
       "      <td>9</td>\n",
       "      <td>2017-02-14</td>\n",
       "      <td>21294</td>\n",
       "      <td>Shop 0</td>\n",
       "      <td>0.0</td>\n",
       "    </tr>\n",
       "  </tbody>\n",
       "</table>\n",
       "<p>105335 rows × 7 columns</p>\n",
       "</div>"
      ],
      "text/plain": [
       "       purchase_id item_id  quantity purchase_date  customer_id shop_id  \\\n",
       "0           538280   21873        11    2016-12-10        18427  Shop 0   \n",
       "1           538862   22195         0    2016-12-14        22389  Shop 0   \n",
       "2           538855   21239         7    2016-12-14        22182  Shop 0   \n",
       "3           543543   22271         0    2017-02-09        23522  Shop 0   \n",
       "4           543812   79321         0    2017-02-13        23151  Shop 0   \n",
       "...            ...     ...       ...           ...          ...     ...   \n",
       "105330      538566   21826         1    2016-12-13            0  Shop 0   \n",
       "105331      540247   21742         0    2017-01-05        21143  Shop 0   \n",
       "105332      538068   85048         1    2016-12-09        23657  Shop 0   \n",
       "105333      538207   22818        11    2016-12-10        18427  Shop 0   \n",
       "105334      543977   22384         9    2017-02-14        21294  Shop 0   \n",
       "\n",
       "        loyalty_program  \n",
       "0                   0.0  \n",
       "1                   1.0  \n",
       "2                   1.0  \n",
       "3                   1.0  \n",
       "4                   1.0  \n",
       "...                 ...  \n",
       "105330              0.0  \n",
       "105331              0.0  \n",
       "105332              1.0  \n",
       "105333              0.0  \n",
       "105334              0.0  \n",
       "\n",
       "[105335 rows x 7 columns]"
      ]
     },
     "execution_count": 259,
     "metadata": {},
     "output_type": "execute_result"
    }
   ],
   "source": [
    "retail"
   ]
  },
  {
   "cell_type": "code",
   "execution_count": 260,
   "id": "3b67031e",
   "metadata": {},
   "outputs": [
    {
     "data": {
      "text/html": [
       "<div>\n",
       "<style scoped>\n",
       "    .dataframe tbody tr th:only-of-type {\n",
       "        vertical-align: middle;\n",
       "    }\n",
       "\n",
       "    .dataframe tbody tr th {\n",
       "        vertical-align: top;\n",
       "    }\n",
       "\n",
       "    .dataframe thead th {\n",
       "        text-align: right;\n",
       "    }\n",
       "</style>\n",
       "<table border=\"1\" class=\"dataframe\">\n",
       "  <thead>\n",
       "    <tr style=\"text-align: right;\">\n",
       "      <th></th>\n",
       "      <th>purchase_id</th>\n",
       "      <th>item_id</th>\n",
       "      <th>quantity</th>\n",
       "      <th>purchase_date</th>\n",
       "      <th>customer_id</th>\n",
       "      <th>shop_id</th>\n",
       "      <th>loyalty_program</th>\n",
       "    </tr>\n",
       "  </thead>\n",
       "  <tbody>\n",
       "    <tr>\n",
       "      <th>0</th>\n",
       "      <td>538280</td>\n",
       "      <td>21873</td>\n",
       "      <td>11</td>\n",
       "      <td>2016-12-10</td>\n",
       "      <td>18427</td>\n",
       "      <td>Shop 0</td>\n",
       "      <td>0.0</td>\n",
       "    </tr>\n",
       "    <tr>\n",
       "      <th>7584</th>\n",
       "      <td>541104</td>\n",
       "      <td>21873</td>\n",
       "      <td>0</td>\n",
       "      <td>2017-01-13</td>\n",
       "      <td>0</td>\n",
       "      <td>Shop 0</td>\n",
       "      <td>0.0</td>\n",
       "    </tr>\n",
       "    <tr>\n",
       "      <th>8576</th>\n",
       "      <td>540418</td>\n",
       "      <td>21873</td>\n",
       "      <td>1</td>\n",
       "      <td>2017-01-07</td>\n",
       "      <td>0</td>\n",
       "      <td>Shop 0</td>\n",
       "      <td>0.0</td>\n",
       "    </tr>\n",
       "    <tr>\n",
       "      <th>13679</th>\n",
       "      <td>541516</td>\n",
       "      <td>21873</td>\n",
       "      <td>2</td>\n",
       "      <td>2017-01-18</td>\n",
       "      <td>0</td>\n",
       "      <td>Shop 0</td>\n",
       "      <td>0.0</td>\n",
       "    </tr>\n",
       "    <tr>\n",
       "      <th>15316</th>\n",
       "      <td>541566</td>\n",
       "      <td>21873</td>\n",
       "      <td>35</td>\n",
       "      <td>2017-01-19</td>\n",
       "      <td>23401</td>\n",
       "      <td>Shop 0</td>\n",
       "      <td>1.0</td>\n",
       "    </tr>\n",
       "  </tbody>\n",
       "</table>\n",
       "</div>"
      ],
      "text/plain": [
       "      purchase_id item_id  quantity purchase_date  customer_id shop_id  \\\n",
       "0          538280   21873        11    2016-12-10        18427  Shop 0   \n",
       "7584       541104   21873         0    2017-01-13            0  Shop 0   \n",
       "8576       540418   21873         1    2017-01-07            0  Shop 0   \n",
       "13679      541516   21873         2    2017-01-18            0  Shop 0   \n",
       "15316      541566   21873        35    2017-01-19        23401  Shop 0   \n",
       "\n",
       "       loyalty_program  \n",
       "0                  0.0  \n",
       "7584               0.0  \n",
       "8576               0.0  \n",
       "13679              0.0  \n",
       "15316              1.0  "
      ]
     },
     "execution_count": 260,
     "metadata": {},
     "output_type": "execute_result"
    }
   ],
   "source": [
    "retail.query('item_id == \"21873\"').head()"
   ]
  },
  {
   "cell_type": "code",
   "execution_count": 261,
   "id": "35fe07e3",
   "metadata": {},
   "outputs": [
    {
     "data": {
      "text/plain": [
       "1034"
      ]
     },
     "execution_count": 261,
     "metadata": {},
     "output_type": "execute_result"
    }
   ],
   "source": [
    "#проверим на явные дубликаты\n",
    "retail.duplicated().sum()\n"
   ]
  },
  {
   "cell_type": "code",
   "execution_count": 262,
   "id": "6bb15d38",
   "metadata": {},
   "outputs": [
    {
     "data": {
      "text/plain": [
       "36675768"
      ]
     },
     "execution_count": 262,
     "metadata": {},
     "output_type": "execute_result"
    }
   ],
   "source": [
    "retail['customer_id'].unique().sum()"
   ]
  },
  {
   "cell_type": "code",
   "execution_count": 263,
   "id": "5ce0d652",
   "metadata": {},
   "outputs": [
    {
     "data": {
      "text/html": [
       "<div>\n",
       "<style scoped>\n",
       "    .dataframe tbody tr th:only-of-type {\n",
       "        vertical-align: middle;\n",
       "    }\n",
       "\n",
       "    .dataframe tbody tr th {\n",
       "        vertical-align: top;\n",
       "    }\n",
       "\n",
       "    .dataframe thead th {\n",
       "        text-align: right;\n",
       "    }\n",
       "</style>\n",
       "<table border=\"1\" class=\"dataframe\">\n",
       "  <thead>\n",
       "    <tr style=\"text-align: right;\">\n",
       "      <th></th>\n",
       "      <th>purchase_id</th>\n",
       "    </tr>\n",
       "    <tr>\n",
       "      <th>shop_id</th>\n",
       "      <th></th>\n",
       "    </tr>\n",
       "  </thead>\n",
       "  <tbody>\n",
       "    <tr>\n",
       "      <th>Shop 0</th>\n",
       "      <td>97393</td>\n",
       "    </tr>\n",
       "    <tr>\n",
       "      <th>Shop 4</th>\n",
       "      <td>1741</td>\n",
       "    </tr>\n",
       "    <tr>\n",
       "      <th>Shop 1</th>\n",
       "      <td>1540</td>\n",
       "    </tr>\n",
       "    <tr>\n",
       "      <th>Shop 6</th>\n",
       "      <td>1032</td>\n",
       "    </tr>\n",
       "    <tr>\n",
       "      <th>Shop 8</th>\n",
       "      <td>560</td>\n",
       "    </tr>\n",
       "  </tbody>\n",
       "</table>\n",
       "</div>"
      ],
      "text/plain": [
       "         purchase_id\n",
       "shop_id             \n",
       "Shop 0         97393\n",
       "Shop 4          1741\n",
       "Shop 1          1540\n",
       "Shop 6          1032\n",
       "Shop 8           560"
      ]
     },
     "execution_count": 263,
     "metadata": {},
     "output_type": "execute_result"
    }
   ],
   "source": [
    "#\n",
    "retail.groupby('shop_id').agg({'purchase_id':'count'}).sort_values(by='purchase_id', ascending=False).head()\n"
   ]
  },
  {
   "cell_type": "code",
   "execution_count": 264,
   "id": "48f8dae7",
   "metadata": {},
   "outputs": [
    {
     "data": {
      "text/html": [
       "<div>\n",
       "<style scoped>\n",
       "    .dataframe tbody tr th:only-of-type {\n",
       "        vertical-align: middle;\n",
       "    }\n",
       "\n",
       "    .dataframe tbody tr th {\n",
       "        vertical-align: top;\n",
       "    }\n",
       "\n",
       "    .dataframe thead th {\n",
       "        text-align: right;\n",
       "    }\n",
       "</style>\n",
       "<table border=\"1\" class=\"dataframe\">\n",
       "  <thead>\n",
       "    <tr style=\"text-align: right;\">\n",
       "      <th></th>\n",
       "      <th>customer_id</th>\n",
       "    </tr>\n",
       "    <tr>\n",
       "      <th>shop_id</th>\n",
       "      <th></th>\n",
       "    </tr>\n",
       "  </thead>\n",
       "  <tbody>\n",
       "    <tr>\n",
       "      <th>Shop 0</th>\n",
       "      <td>1573</td>\n",
       "    </tr>\n",
       "    <tr>\n",
       "      <th>Shop 4</th>\n",
       "      <td>43</td>\n",
       "    </tr>\n",
       "    <tr>\n",
       "      <th>Shop 1</th>\n",
       "      <td>38</td>\n",
       "    </tr>\n",
       "    <tr>\n",
       "      <th>Shop 8</th>\n",
       "      <td>12</td>\n",
       "    </tr>\n",
       "    <tr>\n",
       "      <th>Shop 12</th>\n",
       "      <td>10</td>\n",
       "    </tr>\n",
       "  </tbody>\n",
       "</table>\n",
       "</div>"
      ],
      "text/plain": [
       "         customer_id\n",
       "shop_id             \n",
       "Shop 0          1573\n",
       "Shop 4            43\n",
       "Shop 1            38\n",
       "Shop 8            12\n",
       "Shop 12           10"
      ]
     },
     "execution_count": 264,
     "metadata": {},
     "output_type": "execute_result"
    }
   ],
   "source": [
    "#\n",
    "retail.groupby('shop_id').agg({'customer_id':'nunique'}).sort_values(by='customer_id', ascending=False).head()"
   ]
  },
  {
   "cell_type": "code",
   "execution_count": 265,
   "id": "2f24da3b",
   "metadata": {},
   "outputs": [],
   "source": [
    "#переименуем название столбца\n",
    "product = product.rename(columns={'productID': 'item_id'})"
   ]
  },
  {
   "cell_type": "code",
   "execution_count": 266,
   "id": "f03e397f",
   "metadata": {},
   "outputs": [
    {
     "data": {
      "text/html": [
       "<div>\n",
       "<style scoped>\n",
       "    .dataframe tbody tr th:only-of-type {\n",
       "        vertical-align: middle;\n",
       "    }\n",
       "\n",
       "    .dataframe tbody tr th {\n",
       "        vertical-align: top;\n",
       "    }\n",
       "\n",
       "    .dataframe thead th {\n",
       "        text-align: right;\n",
       "    }\n",
       "</style>\n",
       "<table border=\"1\" class=\"dataframe\">\n",
       "  <thead>\n",
       "    <tr style=\"text-align: right;\">\n",
       "      <th></th>\n",
       "      <th>item_id</th>\n",
       "      <th>price_per_one</th>\n",
       "    </tr>\n",
       "  </thead>\n",
       "  <tbody>\n",
       "    <tr>\n",
       "      <th>0</th>\n",
       "      <td>85123A</td>\n",
       "      <td>2.55</td>\n",
       "    </tr>\n",
       "    <tr>\n",
       "      <th>1</th>\n",
       "      <td>71053</td>\n",
       "      <td>3.39</td>\n",
       "    </tr>\n",
       "    <tr>\n",
       "      <th>2</th>\n",
       "      <td>84406B</td>\n",
       "      <td>2.75</td>\n",
       "    </tr>\n",
       "    <tr>\n",
       "      <th>3</th>\n",
       "      <td>84029G</td>\n",
       "      <td>3.39</td>\n",
       "    </tr>\n",
       "    <tr>\n",
       "      <th>4</th>\n",
       "      <td>84029E</td>\n",
       "      <td>3.39</td>\n",
       "    </tr>\n",
       "    <tr>\n",
       "      <th>...</th>\n",
       "      <td>...</td>\n",
       "      <td>...</td>\n",
       "    </tr>\n",
       "    <tr>\n",
       "      <th>9964</th>\n",
       "      <td>84306</td>\n",
       "      <td>8.29</td>\n",
       "    </tr>\n",
       "    <tr>\n",
       "      <th>9965</th>\n",
       "      <td>90001A</td>\n",
       "      <td>4.15</td>\n",
       "    </tr>\n",
       "    <tr>\n",
       "      <th>9966</th>\n",
       "      <td>90118</td>\n",
       "      <td>2.46</td>\n",
       "    </tr>\n",
       "    <tr>\n",
       "      <th>9967</th>\n",
       "      <td>DOT</td>\n",
       "      <td>172.62</td>\n",
       "    </tr>\n",
       "    <tr>\n",
       "      <th>9968</th>\n",
       "      <td>20738</td>\n",
       "      <td>0.00</td>\n",
       "    </tr>\n",
       "  </tbody>\n",
       "</table>\n",
       "<p>9969 rows × 2 columns</p>\n",
       "</div>"
      ],
      "text/plain": [
       "     item_id  price_per_one\n",
       "0     85123A           2.55\n",
       "1      71053           3.39\n",
       "2     84406B           2.75\n",
       "3     84029G           3.39\n",
       "4     84029E           3.39\n",
       "...      ...            ...\n",
       "9964   84306           8.29\n",
       "9965  90001A           4.15\n",
       "9966   90118           2.46\n",
       "9967     DOT         172.62\n",
       "9968   20738           0.00\n",
       "\n",
       "[9969 rows x 2 columns]"
      ]
     },
     "execution_count": 266,
     "metadata": {},
     "output_type": "execute_result"
    }
   ],
   "source": [
    "product"
   ]
  },
  {
   "cell_type": "code",
   "execution_count": 267,
   "id": "ddc874f5",
   "metadata": {},
   "outputs": [
    {
     "data": {
      "text/html": [
       "<div>\n",
       "<style scoped>\n",
       "    .dataframe tbody tr th:only-of-type {\n",
       "        vertical-align: middle;\n",
       "    }\n",
       "\n",
       "    .dataframe tbody tr th {\n",
       "        vertical-align: top;\n",
       "    }\n",
       "\n",
       "    .dataframe thead th {\n",
       "        text-align: right;\n",
       "    }\n",
       "</style>\n",
       "<table border=\"1\" class=\"dataframe\">\n",
       "  <thead>\n",
       "    <tr style=\"text-align: right;\">\n",
       "      <th></th>\n",
       "      <th>item_id</th>\n",
       "      <th>price_per_one</th>\n",
       "    </tr>\n",
       "  </thead>\n",
       "  <tbody>\n",
       "    <tr>\n",
       "      <th>762</th>\n",
       "      <td>21873</td>\n",
       "      <td>1.25</td>\n",
       "    </tr>\n",
       "    <tr>\n",
       "      <th>3488</th>\n",
       "      <td>21873</td>\n",
       "      <td>3.36</td>\n",
       "    </tr>\n",
       "    <tr>\n",
       "      <th>4899</th>\n",
       "      <td>21873</td>\n",
       "      <td>0.42</td>\n",
       "    </tr>\n",
       "    <tr>\n",
       "      <th>5909</th>\n",
       "      <td>21873</td>\n",
       "      <td>1.66</td>\n",
       "    </tr>\n",
       "    <tr>\n",
       "      <th>7200</th>\n",
       "      <td>21873</td>\n",
       "      <td>1.63</td>\n",
       "    </tr>\n",
       "    <tr>\n",
       "      <th>8936</th>\n",
       "      <td>21873</td>\n",
       "      <td>3.29</td>\n",
       "    </tr>\n",
       "    <tr>\n",
       "      <th>9779</th>\n",
       "      <td>21873</td>\n",
       "      <td>1.06</td>\n",
       "    </tr>\n",
       "  </tbody>\n",
       "</table>\n",
       "</div>"
      ],
      "text/plain": [
       "     item_id  price_per_one\n",
       "762    21873           1.25\n",
       "3488   21873           3.36\n",
       "4899   21873           0.42\n",
       "5909   21873           1.66\n",
       "7200   21873           1.63\n",
       "8936   21873           3.29\n",
       "9779   21873           1.06"
      ]
     },
     "execution_count": 267,
     "metadata": {},
     "output_type": "execute_result"
    }
   ],
   "source": [
    "product.query('item_id == \"21873\"')"
   ]
  },
  {
   "attachments": {},
   "cell_type": "markdown",
   "id": "946c4a29",
   "metadata": {},
   "source": [
    "### Исследуем пропущенные значения"
   ]
  },
  {
   "attachments": {},
   "cell_type": "markdown",
   "id": "f85eb4cc",
   "metadata": {},
   "source": [
    "# Исследовательский анализ данных"
   ]
  }
 ],
 "metadata": {
  "kernelspec": {
   "display_name": "Python 3 (ipykernel)",
   "language": "python",
   "name": "python3"
  },
  "language_info": {
   "codemirror_mode": {
    "name": "ipython",
    "version": 3
   },
   "file_extension": ".py",
   "mimetype": "text/x-python",
   "name": "python",
   "nbconvert_exporter": "python",
   "pygments_lexer": "ipython3",
   "version": "3.9.13"
  }
 },
 "nbformat": 4,
 "nbformat_minor": 5
}
