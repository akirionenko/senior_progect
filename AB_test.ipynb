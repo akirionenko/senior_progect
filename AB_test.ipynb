{
 "cells": [
  {
   "attachments": {},
   "cell_type": "markdown",
   "id": "5189a073",
   "metadata": {},
   "source": [
    "# А/Б тест."
   ]
  },
  {
   "attachments": {},
   "cell_type": "markdown",
   "id": "4d7135c2",
   "metadata": {},
   "source": [
    "### Цель исследования\n",
    "провести оценку результатов A/B-теста - изменений, связанных с внедрением улучшенной рекомендательной системы.\n",
    "\n",
    "Оценить происходит ли улучшение следующих метрик:\n",
    "\n",
    "конверсии в просмотр карточек товаров — событие product_page,\\\n",
    "просмотры корзины — product_cart,\\\n",
    "покупки — purchase."
   ]
  },
  {
   "attachments": {},
   "cell_type": "markdown",
   "id": "975b0ea1",
   "metadata": {},
   "source": [
    "### Порядок исследования\n",
    "перед нами 4 датасета:\n",
    "\n",
    "ab_project_marketing_events.csv - календарь маркетинговых событий на 2020 год, в котором отражена информация о всех маркетинговых мероприятиях;\\\n",
    "final_ab_new_users.csv - информация о пользователях, зарегистрировавшиеся с 7 по 21 декабря 2020 года;\\\n",
    "final_ab_events.csv - действия новых пользователей в период с 7 декабря 2020 по 4 января 2021 года;\\\n",
    "final_ab_participants.csv - таблица участников тестов.\n",
    "\n",
    "О качестве данных ничего не известно, на первоначальном этапе требуется изучить датасет и выполнить предобработку данных,\\\n",
    "выполнив проверку на соответствие наименований столбцов, наличие дубликатов, пропусков, корректность типов данных,\\\n",
    "уникальность значений, убедиться в полноте данных.\n",
    "\n",
    "После выполнения предобработки необходимо оценить корректность проведения теста и обратить вниание на:\n",
    "- соответствие данных требованиям технического задания. Проверить корректность всех пунктов технического задания.\n",
    "- время проведения теста. Убедиться, что оно не совпадает с маркетинговыми и другими активностями.\n",
    "- аудиторию теста. Удостовериться, что нет пересечений с конкурирующим тестом и нет пользователей, участвующих в двух группах теста одновременно.\\\n",
    "Проверить равномерность распределения по тестовым группам и правильность их формирования.\n",
    "\n",
    "\n",
    "Провести исследовательский анализ данных и ответить на следующие вопросы:\n",
    "- Количество событий на пользователя одинаково распределены в выборках?\n",
    "- Как число событий в выборках распределено по дням?\n",
    "- Как меняется конверсия в воронке в выборках на разных этапах?\n",
    "- Какие особенности данных нужно учесть, прежде чем приступать к A/B-тестированию?\n",
    "\n",
    "Оценить результаты A/B-тестирования и ответить на вопросы:\n",
    "- Что можно сказать про результаты A/В-тестирования?\n",
    "- Проверить статистическую разницу долей z-критерием.\n",
    "\n",
    "И описать выводы по этапу исследовательского анализа данных и по проведённой оценке результатов A/B-тестирования.\\\n",
    "Сформулировать общее заключение о корректности проведения теста."
   ]
  },
  {
   "attachments": {},
   "cell_type": "markdown",
   "id": "842a4cc0",
   "metadata": {},
   "source": [
    "### Техническое задание\n",
    "Название теста: recommender_system_test;\\\n",
    "группы: А — контрольная, B — новая платёжная воронка;дата запуска: 2020-12-07;\\\n",
    "дата остановки набора новых пользователей: 2020-12-21;\\\n",
    "дата остановки: 2021-01-04;\\\n",
    "аудитория: 15% новых пользователей из региона EU;\\\n",
    "назначение теста: тестирование изменений, связанных с внедрением улучшенной рекомендательной системы;\\\n",
    "ожидаемое количество участников теста: 6000.\\\n",
    "ожидаемый эффект: за 14 дней с момента регистрации пользователи покажут улучшение каждой метрики не менее, чем на 10%:\\\n",
    "конверсии в просмотр карточек товаров — событие product_page,\\\n",
    "просмотры корзины — product_cart,\n",
    "покупки — purchase."
   ]
  },
  {
   "attachments": {},
   "cell_type": "markdown",
   "id": "81708dd6",
   "metadata": {},
   "source": [
    "### Описание данных\n",
    "\n",
    "ab_project_marketing_events.csv — календарь маркетинговых событий на 2020 год.\n",
    "\n",
    "Структура файла:\n",
    "\n",
    "name — название маркетингового события;\\\n",
    "regions — регионы, в которых будет проводиться рекламная кампания;\\\n",
    "start_dt — дата начала кампании;\\\n",
    "finish_dt — дата завершения кампании.\n",
    "\n",
    "\n",
    "final_ab_new_users.csv — пользователи, зарегистрировавшиеся с 7 по 21 декабря 2020 года.\n",
    "\n",
    "Структура файла:\n",
    "\n",
    "user_id — идентификатор пользователя;\\\n",
    "first_date — дата регистрации;\\\n",
    "region — регион пользователя;\n",
    "device — устройство, с которого происходила регистрация.\n",
    "\n",
    "\n",
    "final_ab_events.csv — действия новых пользователей в период с 7 декабря 2020 по 4 января 2021 года.\n",
    "\n",
    "Структура файла:\n",
    "\n",
    "user_id — идентификатор пользователя;\\\n",
    "event_dt — дата и время покупки;\\\n",
    "event_name — тип события;\\\n",
    "details — дополнительные данные о событии.\\\n",
    "Например, для покупок, purchase, в этом поле хранится стоимость покупки в долларах.\n",
    "\n",
    "\n",
    "final_ab_participants.csv — таблица участников тестов.\n",
    "\n",
    "Структура файла:\n",
    "\n",
    "user_id — идентификатор пользователя;\\\n",
    "ab_test — название теста;\\\n",
    "group — группа пользователя."
   ]
  },
  {
   "attachments": {},
   "cell_type": "markdown",
   "id": "cc8bf047",
   "metadata": {},
   "source": [
    "## Загрузка и предобработка данных."
   ]
  },
  {
   "cell_type": "code",
   "execution_count": 176,
   "id": "ba1c23eb",
   "metadata": {},
   "outputs": [],
   "source": [
    "#загрузим библиотеки\n",
    "import pandas as pd\n",
    "import numpy as np\n",
    "from numpy import mean\n",
    "import warnings\n",
    "import math as mth\n",
    "import datetime as dt\n",
    "import seaborn as sns\n",
    "sns.set_style(\"dark\")\n",
    "import scipy.stats as st\n",
    "import plotly.express as px\n",
    "import matplotlib.pyplot as plt\n",
    "from plotly import graph_objects as go\n",
    "from datetime import datetime, timedelta\n",
    "warnings.simplefilter(\"ignore\") \n",
    "pd.set_option('display.float_format', '{:,.2f}'.format)"
   ]
  },
  {
   "cell_type": "code",
   "execution_count": 177,
   "id": "d8ed5277",
   "metadata": {},
   "outputs": [],
   "source": [
    "#загрузим данные\n",
    "try:\n",
    "   marketing_events, new_users, act_users, participants = (\n",
    "    pd.read_csv(\"C:\\\\Users\\\\kirio\\\\OneDrive\\\\Рабочий стол\\\\ЯПрактикум\\\\14.1_АВ_тест\\\\файлы\\\\ab_project_marketing_events.csv\", sep=','), #маркетинговые мероприятия\n",
    "    pd.read_csv(\"C:\\\\Users\\\\kirio\\\\OneDrive\\\\Рабочий стол\\\\ЯПрактикум\\\\14.1_АВ_тест\\\\файлы\\\\final_ab_new_users.csv\", sep=','), #новые пользователи\n",
    "    pd.read_csv(\"C:\\\\Users\\\\kirio\\\\OneDrive\\\\Рабочий стол\\\\ЯПрактикум\\\\14.1_АВ_тест\\\\файлы\\\\final_ab_events.csv\", sep=','),#действия пользователей\n",
    "    pd.read_csv(\"C:\\\\Users\\\\kirio\\OneDrive\\\\Рабочий стол\\\\ЯПрактикум\\\\14.1_АВ_тест\\\\файлы\\\\final_ab_participants.csv\", sep=',')#участники теста\n",
    ")\n",
    "except:\n",
    "   marketing_events, new_users, act_users, participants = (\n",
    "    pd.read_csv('https://code.s3.yandex.net/datasets/ab_project_marketing_events.csv', sep=','), #маркетинговые мероприятия\n",
    "    pd.read_csv('https://code.s3.yandex.net/datasets/final_ab_new_users.csv', sep=','), #новые пользователи\n",
    "    pd.read_csv('https://code.s3.yandex.net/datasets/final_ab_events.csv', sep=','),#действия пользователей\n",
    "    pd.read_csv('https://code.s3.yandex.net/datasets/final_ab_participants.csv', sep=',')#участники теста\n",
    ")"
   ]
  },
  {
   "attachments": {},
   "cell_type": "markdown",
   "id": "c9cced77",
   "metadata": {},
   "source": [
    "### Изучение датасетов по очереди"
   ]
  },
  {
   "cell_type": "code",
   "execution_count": 178,
   "id": "54b2897d",
   "metadata": {},
   "outputs": [],
   "source": [
    "# создадим функцию get_info для вывода информации о датасетах\n",
    "def get_info (data):\n",
    "    data.info(memory_usage='deep')\n",
    "    display(data.head())\n",
    "    display(data.describe())\n",
    "    print('\\033[1m' + 'Количество дубликатов' + '\\033[1m',data.duplicated().sum())"
   ]
  },
  {
   "cell_type": "code",
   "execution_count": 179,
   "id": "6ee18df9",
   "metadata": {},
   "outputs": [
    {
     "name": "stdout",
     "output_type": "stream",
     "text": [
      "<class 'pandas.core.frame.DataFrame'>\n",
      "RangeIndex: 14 entries, 0 to 13\n",
      "Data columns (total 4 columns):\n",
      " #   Column     Non-Null Count  Dtype \n",
      "---  ------     --------------  ----- \n",
      " 0   name       14 non-null     object\n",
      " 1   regions    14 non-null     object\n",
      " 2   start_dt   14 non-null     object\n",
      " 3   finish_dt  14 non-null     object\n",
      "dtypes: object(4)\n",
      "memory usage: 4.0 KB\n"
     ]
    },
    {
     "data": {
      "text/html": [
       "<div>\n",
       "<style scoped>\n",
       "    .dataframe tbody tr th:only-of-type {\n",
       "        vertical-align: middle;\n",
       "    }\n",
       "\n",
       "    .dataframe tbody tr th {\n",
       "        vertical-align: top;\n",
       "    }\n",
       "\n",
       "    .dataframe thead th {\n",
       "        text-align: right;\n",
       "    }\n",
       "</style>\n",
       "<table border=\"1\" class=\"dataframe\">\n",
       "  <thead>\n",
       "    <tr style=\"text-align: right;\">\n",
       "      <th></th>\n",
       "      <th>name</th>\n",
       "      <th>regions</th>\n",
       "      <th>start_dt</th>\n",
       "      <th>finish_dt</th>\n",
       "    </tr>\n",
       "  </thead>\n",
       "  <tbody>\n",
       "    <tr>\n",
       "      <th>0</th>\n",
       "      <td>Christmas&amp;New Year Promo</td>\n",
       "      <td>EU, N.America</td>\n",
       "      <td>2020-12-25</td>\n",
       "      <td>2021-01-03</td>\n",
       "    </tr>\n",
       "    <tr>\n",
       "      <th>1</th>\n",
       "      <td>St. Valentine's Day Giveaway</td>\n",
       "      <td>EU, CIS, APAC, N.America</td>\n",
       "      <td>2020-02-14</td>\n",
       "      <td>2020-02-16</td>\n",
       "    </tr>\n",
       "    <tr>\n",
       "      <th>2</th>\n",
       "      <td>St. Patric's Day Promo</td>\n",
       "      <td>EU, N.America</td>\n",
       "      <td>2020-03-17</td>\n",
       "      <td>2020-03-19</td>\n",
       "    </tr>\n",
       "    <tr>\n",
       "      <th>3</th>\n",
       "      <td>Easter Promo</td>\n",
       "      <td>EU, CIS, APAC, N.America</td>\n",
       "      <td>2020-04-12</td>\n",
       "      <td>2020-04-19</td>\n",
       "    </tr>\n",
       "    <tr>\n",
       "      <th>4</th>\n",
       "      <td>4th of July Promo</td>\n",
       "      <td>N.America</td>\n",
       "      <td>2020-07-04</td>\n",
       "      <td>2020-07-11</td>\n",
       "    </tr>\n",
       "  </tbody>\n",
       "</table>\n",
       "</div>"
      ],
      "text/plain": [
       "                           name                   regions    start_dt  \\\n",
       "0      Christmas&New Year Promo             EU, N.America  2020-12-25   \n",
       "1  St. Valentine's Day Giveaway  EU, CIS, APAC, N.America  2020-02-14   \n",
       "2        St. Patric's Day Promo             EU, N.America  2020-03-17   \n",
       "3                  Easter Promo  EU, CIS, APAC, N.America  2020-04-12   \n",
       "4             4th of July Promo                 N.America  2020-07-04   \n",
       "\n",
       "    finish_dt  \n",
       "0  2021-01-03  \n",
       "1  2020-02-16  \n",
       "2  2020-03-19  \n",
       "3  2020-04-19  \n",
       "4  2020-07-11  "
      ]
     },
     "metadata": {},
     "output_type": "display_data"
    },
    {
     "data": {
      "text/html": [
       "<div>\n",
       "<style scoped>\n",
       "    .dataframe tbody tr th:only-of-type {\n",
       "        vertical-align: middle;\n",
       "    }\n",
       "\n",
       "    .dataframe tbody tr th {\n",
       "        vertical-align: top;\n",
       "    }\n",
       "\n",
       "    .dataframe thead th {\n",
       "        text-align: right;\n",
       "    }\n",
       "</style>\n",
       "<table border=\"1\" class=\"dataframe\">\n",
       "  <thead>\n",
       "    <tr style=\"text-align: right;\">\n",
       "      <th></th>\n",
       "      <th>name</th>\n",
       "      <th>regions</th>\n",
       "      <th>start_dt</th>\n",
       "      <th>finish_dt</th>\n",
       "    </tr>\n",
       "  </thead>\n",
       "  <tbody>\n",
       "    <tr>\n",
       "      <th>count</th>\n",
       "      <td>14</td>\n",
       "      <td>14</td>\n",
       "      <td>14</td>\n",
       "      <td>14</td>\n",
       "    </tr>\n",
       "    <tr>\n",
       "      <th>unique</th>\n",
       "      <td>14</td>\n",
       "      <td>6</td>\n",
       "      <td>14</td>\n",
       "      <td>14</td>\n",
       "    </tr>\n",
       "    <tr>\n",
       "      <th>top</th>\n",
       "      <td>Single's Day Gift Promo</td>\n",
       "      <td>APAC</td>\n",
       "      <td>2020-06-25</td>\n",
       "      <td>2020-07-11</td>\n",
       "    </tr>\n",
       "    <tr>\n",
       "      <th>freq</th>\n",
       "      <td>1</td>\n",
       "      <td>4</td>\n",
       "      <td>1</td>\n",
       "      <td>1</td>\n",
       "    </tr>\n",
       "  </tbody>\n",
       "</table>\n",
       "</div>"
      ],
      "text/plain": [
       "                           name regions    start_dt   finish_dt\n",
       "count                        14      14          14          14\n",
       "unique                       14       6          14          14\n",
       "top     Single's Day Gift Promo    APAC  2020-06-25  2020-07-11\n",
       "freq                          1       4           1           1"
      ]
     },
     "metadata": {},
     "output_type": "display_data"
    },
    {
     "name": "stdout",
     "output_type": "stream",
     "text": [
      "\u001b[1mКоличество дубликатов\u001b[1m 0\n"
     ]
    }
   ],
   "source": [
    "get_info(marketing_events)"
   ]
  },
  {
   "cell_type": "code",
   "execution_count": 180,
   "id": "9d01ca0a",
   "metadata": {},
   "outputs": [],
   "source": [
    "#изменим тип данных на формат даты\n",
    "marketing_events['start_dt']=pd.to_datetime(marketing_events['start_dt'])\n",
    "marketing_events['finish_dt']=pd.to_datetime(marketing_events['finish_dt'])"
   ]
  },
  {
   "cell_type": "code",
   "execution_count": 182,
   "id": "e305dda0",
   "metadata": {},
   "outputs": [
    {
     "name": "stdout",
     "output_type": "stream",
     "text": [
      "<class 'pandas.core.frame.DataFrame'>\n",
      "RangeIndex: 61733 entries, 0 to 61732\n",
      "Data columns (total 4 columns):\n",
      " #   Column      Non-Null Count  Dtype \n",
      "---  ------      --------------  ----- \n",
      " 0   user_id     61733 non-null  object\n",
      " 1   first_date  61733 non-null  object\n",
      " 2   region      61733 non-null  object\n",
      " 3   device      61733 non-null  object\n",
      "dtypes: object(4)\n",
      "memory usage: 15.4 MB\n"
     ]
    },
    {
     "data": {
      "text/html": [
       "<div>\n",
       "<style scoped>\n",
       "    .dataframe tbody tr th:only-of-type {\n",
       "        vertical-align: middle;\n",
       "    }\n",
       "\n",
       "    .dataframe tbody tr th {\n",
       "        vertical-align: top;\n",
       "    }\n",
       "\n",
       "    .dataframe thead th {\n",
       "        text-align: right;\n",
       "    }\n",
       "</style>\n",
       "<table border=\"1\" class=\"dataframe\">\n",
       "  <thead>\n",
       "    <tr style=\"text-align: right;\">\n",
       "      <th></th>\n",
       "      <th>user_id</th>\n",
       "      <th>first_date</th>\n",
       "      <th>region</th>\n",
       "      <th>device</th>\n",
       "    </tr>\n",
       "  </thead>\n",
       "  <tbody>\n",
       "    <tr>\n",
       "      <th>0</th>\n",
       "      <td>D72A72121175D8BE</td>\n",
       "      <td>2020-12-07</td>\n",
       "      <td>EU</td>\n",
       "      <td>PC</td>\n",
       "    </tr>\n",
       "    <tr>\n",
       "      <th>1</th>\n",
       "      <td>F1C668619DFE6E65</td>\n",
       "      <td>2020-12-07</td>\n",
       "      <td>N.America</td>\n",
       "      <td>Android</td>\n",
       "    </tr>\n",
       "    <tr>\n",
       "      <th>2</th>\n",
       "      <td>2E1BF1D4C37EA01F</td>\n",
       "      <td>2020-12-07</td>\n",
       "      <td>EU</td>\n",
       "      <td>PC</td>\n",
       "    </tr>\n",
       "    <tr>\n",
       "      <th>3</th>\n",
       "      <td>50734A22C0C63768</td>\n",
       "      <td>2020-12-07</td>\n",
       "      <td>EU</td>\n",
       "      <td>iPhone</td>\n",
       "    </tr>\n",
       "    <tr>\n",
       "      <th>4</th>\n",
       "      <td>E1BDDCE0DAFA2679</td>\n",
       "      <td>2020-12-07</td>\n",
       "      <td>N.America</td>\n",
       "      <td>iPhone</td>\n",
       "    </tr>\n",
       "  </tbody>\n",
       "</table>\n",
       "</div>"
      ],
      "text/plain": [
       "            user_id  first_date     region   device\n",
       "0  D72A72121175D8BE  2020-12-07         EU       PC\n",
       "1  F1C668619DFE6E65  2020-12-07  N.America  Android\n",
       "2  2E1BF1D4C37EA01F  2020-12-07         EU       PC\n",
       "3  50734A22C0C63768  2020-12-07         EU   iPhone\n",
       "4  E1BDDCE0DAFA2679  2020-12-07  N.America   iPhone"
      ]
     },
     "metadata": {},
     "output_type": "display_data"
    },
    {
     "data": {
      "text/html": [
       "<div>\n",
       "<style scoped>\n",
       "    .dataframe tbody tr th:only-of-type {\n",
       "        vertical-align: middle;\n",
       "    }\n",
       "\n",
       "    .dataframe tbody tr th {\n",
       "        vertical-align: top;\n",
       "    }\n",
       "\n",
       "    .dataframe thead th {\n",
       "        text-align: right;\n",
       "    }\n",
       "</style>\n",
       "<table border=\"1\" class=\"dataframe\">\n",
       "  <thead>\n",
       "    <tr style=\"text-align: right;\">\n",
       "      <th></th>\n",
       "      <th>user_id</th>\n",
       "      <th>first_date</th>\n",
       "      <th>region</th>\n",
       "      <th>device</th>\n",
       "    </tr>\n",
       "  </thead>\n",
       "  <tbody>\n",
       "    <tr>\n",
       "      <th>count</th>\n",
       "      <td>61733</td>\n",
       "      <td>61733</td>\n",
       "      <td>61733</td>\n",
       "      <td>61733</td>\n",
       "    </tr>\n",
       "    <tr>\n",
       "      <th>unique</th>\n",
       "      <td>61733</td>\n",
       "      <td>17</td>\n",
       "      <td>4</td>\n",
       "      <td>4</td>\n",
       "    </tr>\n",
       "    <tr>\n",
       "      <th>top</th>\n",
       "      <td>3EE718562551ECDD</td>\n",
       "      <td>2020-12-21</td>\n",
       "      <td>EU</td>\n",
       "      <td>Android</td>\n",
       "    </tr>\n",
       "    <tr>\n",
       "      <th>freq</th>\n",
       "      <td>1</td>\n",
       "      <td>6290</td>\n",
       "      <td>46270</td>\n",
       "      <td>27520</td>\n",
       "    </tr>\n",
       "  </tbody>\n",
       "</table>\n",
       "</div>"
      ],
      "text/plain": [
       "                 user_id  first_date region   device\n",
       "count              61733       61733  61733    61733\n",
       "unique             61733          17      4        4\n",
       "top     3EE718562551ECDD  2020-12-21     EU  Android\n",
       "freq                   1        6290  46270    27520"
      ]
     },
     "metadata": {},
     "output_type": "display_data"
    },
    {
     "name": "stdout",
     "output_type": "stream",
     "text": [
      "\u001b[1mКоличество дубликатов\u001b[1m 0\n"
     ]
    }
   ],
   "source": [
    "get_info(new_users)"
   ]
  },
  {
   "cell_type": "code",
   "execution_count": 183,
   "id": "f55cfd67",
   "metadata": {},
   "outputs": [],
   "source": [
    "# изменим тип данных на формат даты\n",
    "new_users['first_date']=pd.to_datetime(new_users['first_date'])"
   ]
  },
  {
   "cell_type": "code",
   "execution_count": 184,
   "id": "a86c331b",
   "metadata": {},
   "outputs": [
    {
     "data": {
      "image/png": "[encoded data removed]",
      "text/plain": [
       "<Figure size 1000x500 with 2 Axes>"
      ]
     },
     "metadata": {},
     "output_type": "display_data"
    }
   ],
   "source": [
    "#регионы и девайсы пользователей\n",
    "fig, axes = plt.subplots(1, 2, figsize=(10,5))\n",
    "\n",
    "new_users['region'].value_counts().plot(kind='pie',ax=axes[0])\n",
    "axes[0].set_title('Регионы пользователей')\n",
    "\n",
    "new_users['device'].value_counts().plot(kind='pie',ax=axes[1])\n",
    "axes[1].set_title('Девайсы пользователей')\n",
    "\n",
    "plt.show()"
   ]
  },
  {
   "cell_type": "code",
   "execution_count": 185,
   "id": "4c471854",
   "metadata": {},
   "outputs": [
    {
     "name": "stdout",
     "output_type": "stream",
     "text": [
      "<class 'pandas.core.frame.DataFrame'>\n",
      "RangeIndex: 440317 entries, 0 to 440316\n",
      "Data columns (total 4 columns):\n",
      " #   Column      Non-Null Count   Dtype  \n",
      "---  ------      --------------   -----  \n",
      " 0   user_id     440317 non-null  object \n",
      " 1   event_dt    440317 non-null  object \n",
      " 2   event_name  440317 non-null  object \n",
      " 3   details     62740 non-null   float64\n",
      "dtypes: float64(1), object(3)\n",
      "memory usage: 93.4 MB\n"
     ]
    },
    {
     "data": {
      "text/html": [
       "<div>\n",
       "<style scoped>\n",
       "    .dataframe tbody tr th:only-of-type {\n",
       "        vertical-align: middle;\n",
       "    }\n",
       "\n",
       "    .dataframe tbody tr th {\n",
       "        vertical-align: top;\n",
       "    }\n",
       "\n",
       "    .dataframe thead th {\n",
       "        text-align: right;\n",
       "    }\n",
       "</style>\n",
       "<table border=\"1\" class=\"dataframe\">\n",
       "  <thead>\n",
       "    <tr style=\"text-align: right;\">\n",
       "      <th></th>\n",
       "      <th>user_id</th>\n",
       "      <th>event_dt</th>\n",
       "      <th>event_name</th>\n",
       "      <th>details</th>\n",
       "    </tr>\n",
       "  </thead>\n",
       "  <tbody>\n",
       "    <tr>\n",
       "      <th>0</th>\n",
       "      <td>E1BDDCE0DAFA2679</td>\n",
       "      <td>2020-12-07 20:22:03</td>\n",
       "      <td>purchase</td>\n",
       "      <td>99.99</td>\n",
       "    </tr>\n",
       "    <tr>\n",
       "      <th>1</th>\n",
       "      <td>7B6452F081F49504</td>\n",
       "      <td>2020-12-07 09:22:53</td>\n",
       "      <td>purchase</td>\n",
       "      <td>9.99</td>\n",
       "    </tr>\n",
       "    <tr>\n",
       "      <th>2</th>\n",
       "      <td>9CD9F34546DF254C</td>\n",
       "      <td>2020-12-07 12:59:29</td>\n",
       "      <td>purchase</td>\n",
       "      <td>4.99</td>\n",
       "    </tr>\n",
       "    <tr>\n",
       "      <th>3</th>\n",
       "      <td>96F27A054B191457</td>\n",
       "      <td>2020-12-07 04:02:40</td>\n",
       "      <td>purchase</td>\n",
       "      <td>4.99</td>\n",
       "    </tr>\n",
       "    <tr>\n",
       "      <th>4</th>\n",
       "      <td>1FD7660FDF94CA1F</td>\n",
       "      <td>2020-12-07 10:15:09</td>\n",
       "      <td>purchase</td>\n",
       "      <td>4.99</td>\n",
       "    </tr>\n",
       "  </tbody>\n",
       "</table>\n",
       "</div>"
      ],
      "text/plain": [
       "            user_id             event_dt event_name  details\n",
       "0  E1BDDCE0DAFA2679  2020-12-07 20:22:03   purchase    99.99\n",
       "1  7B6452F081F49504  2020-12-07 09:22:53   purchase     9.99\n",
       "2  9CD9F34546DF254C  2020-12-07 12:59:29   purchase     4.99\n",
       "3  96F27A054B191457  2020-12-07 04:02:40   purchase     4.99\n",
       "4  1FD7660FDF94CA1F  2020-12-07 10:15:09   purchase     4.99"
      ]
     },
     "metadata": {},
     "output_type": "display_data"
    },
    {
     "data": {
      "text/html": [
       "<div>\n",
       "<style scoped>\n",
       "    .dataframe tbody tr th:only-of-type {\n",
       "        vertical-align: middle;\n",
       "    }\n",
       "\n",
       "    .dataframe tbody tr th {\n",
       "        vertical-align: top;\n",
       "    }\n",
       "\n",
       "    .dataframe thead th {\n",
       "        text-align: right;\n",
       "    }\n",
       "</style>\n",
       "<table border=\"1\" class=\"dataframe\">\n",
       "  <thead>\n",
       "    <tr style=\"text-align: right;\">\n",
       "      <th></th>\n",
       "      <th>details</th>\n",
       "    </tr>\n",
       "  </thead>\n",
       "  <tbody>\n",
       "    <tr>\n",
       "      <th>count</th>\n",
       "      <td>62,740.00</td>\n",
       "    </tr>\n",
       "    <tr>\n",
       "      <th>mean</th>\n",
       "      <td>23.88</td>\n",
       "    </tr>\n",
       "    <tr>\n",
       "      <th>std</th>\n",
       "      <td>72.18</td>\n",
       "    </tr>\n",
       "    <tr>\n",
       "      <th>min</th>\n",
       "      <td>4.99</td>\n",
       "    </tr>\n",
       "    <tr>\n",
       "      <th>25%</th>\n",
       "      <td>4.99</td>\n",
       "    </tr>\n",
       "    <tr>\n",
       "      <th>50%</th>\n",
       "      <td>4.99</td>\n",
       "    </tr>\n",
       "    <tr>\n",
       "      <th>75%</th>\n",
       "      <td>9.99</td>\n",
       "    </tr>\n",
       "    <tr>\n",
       "      <th>max</th>\n",
       "      <td>499.99</td>\n",
       "    </tr>\n",
       "  </tbody>\n",
       "</table>\n",
       "</div>"
      ],
      "text/plain": [
       "        details\n",
       "count 62,740.00\n",
       "mean      23.88\n",
       "std       72.18\n",
       "min        4.99\n",
       "25%        4.99\n",
       "50%        4.99\n",
       "75%        9.99\n",
       "max      499.99"
      ]
     },
     "metadata": {},
     "output_type": "display_data"
    },
    {
     "name": "stdout",
     "output_type": "stream",
     "text": [
      "\u001b[1mКоличество дубликатов\u001b[1m 0\n"
     ]
    }
   ],
   "source": [
    "get_info(act_users)"
   ]
  },
  {
   "attachments": {},
   "cell_type": "markdown",
   "metadata": {},
   "source": [
    "В таблице с действиями пользователей есть пропущенные значения в details. Дубликатов нет.\n",
    "\n",
    "Изменим тип данных на формат даты.\n",
    "\n",
    "Изучим пропущенные значения. Предположим details заполнены только для покупок."
   ]
  },
  {
   "cell_type": "code",
   "execution_count": 186,
   "id": "c5af931c",
   "metadata": {},
   "outputs": [
    {
     "data": {
      "text/html": [
       "<div>\n",
       "<style scoped>\n",
       "    .dataframe tbody tr th:only-of-type {\n",
       "        vertical-align: middle;\n",
       "    }\n",
       "\n",
       "    .dataframe tbody tr th {\n",
       "        vertical-align: top;\n",
       "    }\n",
       "\n",
       "    .dataframe thead th {\n",
       "        text-align: right;\n",
       "    }\n",
       "</style>\n",
       "<table border=\"1\" class=\"dataframe\">\n",
       "  <thead>\n",
       "    <tr style=\"text-align: right;\">\n",
       "      <th></th>\n",
       "      <th>details</th>\n",
       "    </tr>\n",
       "    <tr>\n",
       "      <th>event_name</th>\n",
       "      <th></th>\n",
       "    </tr>\n",
       "  </thead>\n",
       "  <tbody>\n",
       "    <tr>\n",
       "      <th>login</th>\n",
       "      <td>0</td>\n",
       "    </tr>\n",
       "    <tr>\n",
       "      <th>product_cart</th>\n",
       "      <td>0</td>\n",
       "    </tr>\n",
       "    <tr>\n",
       "      <th>product_page</th>\n",
       "      <td>0</td>\n",
       "    </tr>\n",
       "    <tr>\n",
       "      <th>purchase</th>\n",
       "      <td>62740</td>\n",
       "    </tr>\n",
       "  </tbody>\n",
       "</table>\n",
       "</div>"
      ],
      "text/plain": [
       "              details\n",
       "event_name           \n",
       "login               0\n",
       "product_cart        0\n",
       "product_page        0\n",
       "purchase        62740"
      ]
     },
     "execution_count": 186,
     "metadata": {},
     "output_type": "execute_result"
    }
   ],
   "source": [
    "#сгруппируем по названию  события и поверим\n",
    "act_users.pivot_table(index='event_name', values='details', aggfunc='count')"
   ]
  },
  {
   "attachments": {},
   "cell_type": "markdown",
   "id": "ab7edc77",
   "metadata": {},
   "source": [
    "В столбце details отражена стоимость товара для  purchase, по остальным этапам воронки  пропущенные значения можно заменить на 0\n"
   ]
  },
  {
   "cell_type": "code",
   "execution_count": 187,
   "id": "8d3f5025",
   "metadata": {},
   "outputs": [],
   "source": [
    "act_users['details']=act_users['details'].fillna(0)"
   ]
  },
  {
   "cell_type": "code",
   "execution_count": 188,
   "id": "5263ee7a",
   "metadata": {},
   "outputs": [],
   "source": [
    "#изменим тип\n",
    "act_users['event_dt']=pd.to_datetime(act_users['event_dt'])"
   ]
  },
  {
   "cell_type": "code",
   "execution_count": 189,
   "id": "9556fbcf",
   "metadata": {},
   "outputs": [
    {
     "name": "stdout",
     "output_type": "stream",
     "text": [
      "<class 'pandas.core.frame.DataFrame'>\n",
      "RangeIndex: 18268 entries, 0 to 18267\n",
      "Data columns (total 3 columns):\n",
      " #   Column   Non-Null Count  Dtype \n",
      "---  ------   --------------  ----- \n",
      " 0   user_id  18268 non-null  object\n",
      " 1   group    18268 non-null  object\n",
      " 2   ab_test  18268 non-null  object\n",
      "dtypes: object(3)\n",
      "memory usage: 3.6 MB\n"
     ]
    },
    {
     "data": {
      "text/html": [
       "<div>\n",
       "<style scoped>\n",
       "    .dataframe tbody tr th:only-of-type {\n",
       "        vertical-align: middle;\n",
       "    }\n",
       "\n",
       "    .dataframe tbody tr th {\n",
       "        vertical-align: top;\n",
       "    }\n",
       "\n",
       "    .dataframe thead th {\n",
       "        text-align: right;\n",
       "    }\n",
       "</style>\n",
       "<table border=\"1\" class=\"dataframe\">\n",
       "  <thead>\n",
       "    <tr style=\"text-align: right;\">\n",
       "      <th></th>\n",
       "      <th>user_id</th>\n",
       "      <th>group</th>\n",
       "      <th>ab_test</th>\n",
       "    </tr>\n",
       "  </thead>\n",
       "  <tbody>\n",
       "    <tr>\n",
       "      <th>0</th>\n",
       "      <td>D1ABA3E2887B6A73</td>\n",
       "      <td>A</td>\n",
       "      <td>recommender_system_test</td>\n",
       "    </tr>\n",
       "    <tr>\n",
       "      <th>1</th>\n",
       "      <td>A7A3664BD6242119</td>\n",
       "      <td>A</td>\n",
       "      <td>recommender_system_test</td>\n",
       "    </tr>\n",
       "    <tr>\n",
       "      <th>2</th>\n",
       "      <td>DABC14FDDFADD29E</td>\n",
       "      <td>A</td>\n",
       "      <td>recommender_system_test</td>\n",
       "    </tr>\n",
       "    <tr>\n",
       "      <th>3</th>\n",
       "      <td>04988C5DF189632E</td>\n",
       "      <td>A</td>\n",
       "      <td>recommender_system_test</td>\n",
       "    </tr>\n",
       "    <tr>\n",
       "      <th>4</th>\n",
       "      <td>482F14783456D21B</td>\n",
       "      <td>B</td>\n",
       "      <td>recommender_system_test</td>\n",
       "    </tr>\n",
       "  </tbody>\n",
       "</table>\n",
       "</div>"
      ],
      "text/plain": [
       "            user_id group                  ab_test\n",
       "0  D1ABA3E2887B6A73     A  recommender_system_test\n",
       "1  A7A3664BD6242119     A  recommender_system_test\n",
       "2  DABC14FDDFADD29E     A  recommender_system_test\n",
       "3  04988C5DF189632E     A  recommender_system_test\n",
       "4  482F14783456D21B     B  recommender_system_test"
      ]
     },
     "metadata": {},
     "output_type": "display_data"
    },
    {
     "data": {
      "text/html": [
       "<div>\n",
       "<style scoped>\n",
       "    .dataframe tbody tr th:only-of-type {\n",
       "        vertical-align: middle;\n",
       "    }\n",
       "\n",
       "    .dataframe tbody tr th {\n",
       "        vertical-align: top;\n",
       "    }\n",
       "\n",
       "    .dataframe thead th {\n",
       "        text-align: right;\n",
       "    }\n",
       "</style>\n",
       "<table border=\"1\" class=\"dataframe\">\n",
       "  <thead>\n",
       "    <tr style=\"text-align: right;\">\n",
       "      <th></th>\n",
       "      <th>user_id</th>\n",
       "      <th>group</th>\n",
       "      <th>ab_test</th>\n",
       "    </tr>\n",
       "  </thead>\n",
       "  <tbody>\n",
       "    <tr>\n",
       "      <th>count</th>\n",
       "      <td>18268</td>\n",
       "      <td>18268</td>\n",
       "      <td>18268</td>\n",
       "    </tr>\n",
       "    <tr>\n",
       "      <th>unique</th>\n",
       "      <td>16666</td>\n",
       "      <td>2</td>\n",
       "      <td>2</td>\n",
       "    </tr>\n",
       "    <tr>\n",
       "      <th>top</th>\n",
       "      <td>D0533ECF2A67B35C</td>\n",
       "      <td>A</td>\n",
       "      <td>interface_eu_test</td>\n",
       "    </tr>\n",
       "    <tr>\n",
       "      <th>freq</th>\n",
       "      <td>2</td>\n",
       "      <td>9655</td>\n",
       "      <td>11567</td>\n",
       "    </tr>\n",
       "  </tbody>\n",
       "</table>\n",
       "</div>"
      ],
      "text/plain": [
       "                 user_id  group            ab_test\n",
       "count              18268  18268              18268\n",
       "unique             16666      2                  2\n",
       "top     D0533ECF2A67B35C      A  interface_eu_test\n",
       "freq                   2   9655              11567"
      ]
     },
     "metadata": {},
     "output_type": "display_data"
    },
    {
     "name": "stdout",
     "output_type": "stream",
     "text": [
      "\u001b[1mКоличество дубликатов\u001b[1m 0\n"
     ]
    }
   ],
   "source": [
    "get_info(participants)"
   ]
  },
  {
   "attachments": {},
   "cell_type": "markdown",
   "id": "290bf8e2",
   "metadata": {},
   "source": [
    "Пропущенных значений нет. Формат данных задан верно.\\\n",
    "Проверим значания в колонке ab_test."
   ]
  },
  {
   "cell_type": "code",
   "execution_count": 190,
   "id": "2e2475c4",
   "metadata": {},
   "outputs": [
    {
     "data": {
      "text/plain": [
       "interface_eu_test          11567\n",
       "recommender_system_test     6701\n",
       "Name: ab_test, dtype: int64"
      ]
     },
     "execution_count": 190,
     "metadata": {},
     "output_type": "execute_result"
    }
   ],
   "source": [
    "participants['ab_test'].value_counts()"
   ]
  },
  {
   "attachments": {},
   "cell_type": "markdown",
   "id": "8b55963a",
   "metadata": {},
   "source": [
    "### Вывод:"
   ]
  },
  {
   "attachments": {},
   "cell_type": "markdown",
   "id": "5bb417e9",
   "metadata": {},
   "source": [
    "Выполнена предобработка данных, изменены типы данных на формат даты. Дубликаты не обнаружены.\n",
    "\n",
    "Пользователей проживают в следующих регионах:EU, N.America, CIS, APAC      \n",
    "\n",
    "Девайсы: Android, PC , iPhone, Mac\n",
    "\n",
    "В таблице act_users обнаружены пропущенные значения по колонке details. Пропуски были по всем этапам воронки продаж, кроме purchase.\\\n",
    "Это связано с тем, что в поле details фиксируется стоимость покупки на этапе оплаты товара. Все пропуски были заменены на 0.\n",
    "\n",
    "Воронка событий состоит из следующих ступеней:\n",
    "\n",
    "login (авторизация пользователя);\n",
    "product_page (страница с выбором продуктов);\n",
    "product_cart (корзина продуктов);\n",
    "purchase (покупка).\n",
    "\n",
    "В таблице participants отражена информация о принадлежности пользователя к группе теста.\\\n",
    "\n",
    "Тестирование проводится по 2 группам:\n",
    "\n",
    "interface_eu_test           - 11567\\\n",
    "recommender_system_test     - 6701\n"
   ]
  },
  {
   "attachments": {},
   "cell_type": "markdown",
   "id": "e7e70de1",
   "metadata": {},
   "source": [
    "### Объединие таблиц"
   ]
  },
  {
   "cell_type": "code",
   "execution_count": 191,
   "id": "72d7a52f",
   "metadata": {},
   "outputs": [
    {
     "name": "stdout",
     "output_type": "stream",
     "text": [
      "<class 'pandas.core.frame.DataFrame'>\n",
      "Int64Index: 446211 entries, 0 to 446210\n",
      "Data columns (total 9 columns):\n",
      " #   Column      Non-Null Count   Dtype         \n",
      "---  ------      --------------   -----         \n",
      " 0   user_id     446211 non-null  object        \n",
      " 1   event_dt    446211 non-null  datetime64[ns]\n",
      " 2   event_name  446211 non-null  object        \n",
      " 3   details     446211 non-null  float64       \n",
      " 4   first_date  446211 non-null  datetime64[ns]\n",
      " 5   region      446211 non-null  object        \n",
      " 6   device      446211 non-null  object        \n",
      " 7   group       106625 non-null  object        \n",
      " 8   ab_test     106625 non-null  object        \n",
      "dtypes: datetime64[ns](2), float64(1), object(6)\n",
      "memory usage: 34.0+ MB\n"
     ]
    }
   ],
   "source": [
    "#Объединим информацию в таблицу data из 3 таблиц: action, new_users, participants\n",
    "data = pd.merge(act_users, new_users, on='user_id', how='left')\n",
    "data = pd.merge(data, participants, on='user_id', how='left')\n",
    "data.info()"
   ]
  },
  {
   "attachments": {},
   "cell_type": "markdown",
   "id": "9c0f0829",
   "metadata": {},
   "source": [
    "## Соответствие техническому заданию (ТЗ)"
   ]
  },
  {
   "cell_type": "code",
   "execution_count": 192,
   "id": "068f667e",
   "metadata": {},
   "outputs": [
    {
     "name": "stdout",
     "output_type": "stream",
     "text": [
      "Минимальная дата события: 2020-12-07 00:00:33\n",
      "Максимальная дата события: 2020-12-30 23:36:33\n"
     ]
    }
   ],
   "source": [
    "#проверим даты событий.\n",
    "print(\"Минимальная дата события: {}\".format(data['event_dt'].min()))\n",
    "print(\"Максимальная дата события: {}\".format(data['event_dt'].max()))"
   ]
  },
  {
   "attachments": {},
   "cell_type": "markdown",
   "id": "4b1fbd18",
   "metadata": {},
   "source": [
    "Максимальная дата события не соответствует ТЗ, за дату остановки тестирования следует принять: 2020-12-30"
   ]
  },
  {
   "attachments": {},
   "cell_type": "markdown",
   "id": "457e8bfb",
   "metadata": {},
   "source": [
    "### Распределение пользователей"
   ]
  },
  {
   "cell_type": "code",
   "execution_count": 193,
   "id": "d29758a8",
   "metadata": {},
   "outputs": [
    {
     "data": {
      "text/html": [
       "<div>\n",
       "<style scoped>\n",
       "    .dataframe tbody tr th:only-of-type {\n",
       "        vertical-align: middle;\n",
       "    }\n",
       "\n",
       "    .dataframe tbody tr th {\n",
       "        vertical-align: top;\n",
       "    }\n",
       "\n",
       "    .dataframe thead th {\n",
       "        text-align: right;\n",
       "    }\n",
       "</style>\n",
       "<table border=\"1\" class=\"dataframe\">\n",
       "  <thead>\n",
       "    <tr style=\"text-align: right;\">\n",
       "      <th></th>\n",
       "      <th>user_id</th>\n",
       "      <th>ab_test</th>\n",
       "      <th>group</th>\n",
       "    </tr>\n",
       "  </thead>\n",
       "  <tbody>\n",
       "    <tr>\n",
       "      <th>0</th>\n",
       "      <td>001064FEAAB631A1</td>\n",
       "      <td>2</td>\n",
       "      <td>1</td>\n",
       "    </tr>\n",
       "    <tr>\n",
       "      <th>1</th>\n",
       "      <td>00341D8401F0F665</td>\n",
       "      <td>2</td>\n",
       "      <td>1</td>\n",
       "    </tr>\n",
       "    <tr>\n",
       "      <th>2</th>\n",
       "      <td>0082295A41A867B5</td>\n",
       "      <td>2</td>\n",
       "      <td>2</td>\n",
       "    </tr>\n",
       "    <tr>\n",
       "      <th>3</th>\n",
       "      <td>00E68F103C66C1F7</td>\n",
       "      <td>2</td>\n",
       "      <td>2</td>\n",
       "    </tr>\n",
       "    <tr>\n",
       "      <th>4</th>\n",
       "      <td>00EFA157F7B6E1C4</td>\n",
       "      <td>2</td>\n",
       "      <td>1</td>\n",
       "    </tr>\n",
       "    <tr>\n",
       "      <th>...</th>\n",
       "      <td>...</td>\n",
       "      <td>...</td>\n",
       "      <td>...</td>\n",
       "    </tr>\n",
       "    <tr>\n",
       "      <th>882</th>\n",
       "      <td>FEA0C585A53E7027</td>\n",
       "      <td>2</td>\n",
       "      <td>2</td>\n",
       "    </tr>\n",
       "    <tr>\n",
       "      <th>883</th>\n",
       "      <td>FEC0BCA6C323872F</td>\n",
       "      <td>2</td>\n",
       "      <td>2</td>\n",
       "    </tr>\n",
       "    <tr>\n",
       "      <th>884</th>\n",
       "      <td>FF2174A1AA0EAD20</td>\n",
       "      <td>2</td>\n",
       "      <td>1</td>\n",
       "    </tr>\n",
       "    <tr>\n",
       "      <th>885</th>\n",
       "      <td>FF44696E39039D29</td>\n",
       "      <td>2</td>\n",
       "      <td>1</td>\n",
       "    </tr>\n",
       "    <tr>\n",
       "      <th>886</th>\n",
       "      <td>FFF28D02B1EACBE1</td>\n",
       "      <td>2</td>\n",
       "      <td>2</td>\n",
       "    </tr>\n",
       "  </tbody>\n",
       "</table>\n",
       "<p>887 rows × 3 columns</p>\n",
       "</div>"
      ],
      "text/plain": [
       "              user_id  ab_test  group\n",
       "0    001064FEAAB631A1        2      1\n",
       "1    00341D8401F0F665        2      1\n",
       "2    0082295A41A867B5        2      2\n",
       "3    00E68F103C66C1F7        2      2\n",
       "4    00EFA157F7B6E1C4        2      1\n",
       "..                ...      ...    ...\n",
       "882  FEA0C585A53E7027        2      2\n",
       "883  FEC0BCA6C323872F        2      2\n",
       "884  FF2174A1AA0EAD20        2      1\n",
       "885  FF44696E39039D29        2      1\n",
       "886  FFF28D02B1EACBE1        2      2\n",
       "\n",
       "[887 rows x 3 columns]"
      ]
     },
     "metadata": {},
     "output_type": "display_data"
    }
   ],
   "source": [
    "#создадим таблицу slip с пользователями, которые попали в 2 теста или в 2 группы\n",
    "slip = data.pivot_table(index=['user_id'], values=['group','ab_test'], aggfunc='nunique')\\\n",
    "    .query('ab_test>1 or group>1')\\\n",
    "    .reset_index()\n",
    "display(slip ) \n",
    "slip = slip['user_id']"
   ]
  },
  {
   "cell_type": "code",
   "execution_count": 194,
   "id": "23c874a2",
   "metadata": {},
   "outputs": [
    {
     "data": {
      "text/html": [
       "<div>\n",
       "<style scoped>\n",
       "    .dataframe tbody tr th:only-of-type {\n",
       "        vertical-align: middle;\n",
       "    }\n",
       "\n",
       "    .dataframe tbody tr th {\n",
       "        vertical-align: top;\n",
       "    }\n",
       "\n",
       "    .dataframe thead th {\n",
       "        text-align: right;\n",
       "    }\n",
       "</style>\n",
       "<table border=\"1\" class=\"dataframe\">\n",
       "  <thead>\n",
       "    <tr style=\"text-align: right;\">\n",
       "      <th></th>\n",
       "      <th>user_id</th>\n",
       "      <th>event_dt</th>\n",
       "      <th>event_name</th>\n",
       "      <th>details</th>\n",
       "      <th>first_date</th>\n",
       "      <th>region</th>\n",
       "      <th>device</th>\n",
       "      <th>group</th>\n",
       "      <th>ab_test</th>\n",
       "    </tr>\n",
       "  </thead>\n",
       "  <tbody>\n",
       "    <tr>\n",
       "      <th>24036</th>\n",
       "      <td>0082295A41A867B5</td>\n",
       "      <td>2020-12-16 07:06:32</td>\n",
       "      <td>purchase</td>\n",
       "      <td>4.99</td>\n",
       "      <td>2020-12-16</td>\n",
       "      <td>EU</td>\n",
       "      <td>iPhone</td>\n",
       "      <td>A</td>\n",
       "      <td>recommender_system_test</td>\n",
       "    </tr>\n",
       "    <tr>\n",
       "      <th>24037</th>\n",
       "      <td>0082295A41A867B5</td>\n",
       "      <td>2020-12-16 07:06:32</td>\n",
       "      <td>purchase</td>\n",
       "      <td>4.99</td>\n",
       "      <td>2020-12-16</td>\n",
       "      <td>EU</td>\n",
       "      <td>iPhone</td>\n",
       "      <td>B</td>\n",
       "      <td>interface_eu_test</td>\n",
       "    </tr>\n",
       "    <tr>\n",
       "      <th>26389</th>\n",
       "      <td>0082295A41A867B5</td>\n",
       "      <td>2020-12-17 16:04:53</td>\n",
       "      <td>purchase</td>\n",
       "      <td>4.99</td>\n",
       "      <td>2020-12-16</td>\n",
       "      <td>EU</td>\n",
       "      <td>iPhone</td>\n",
       "      <td>A</td>\n",
       "      <td>recommender_system_test</td>\n",
       "    </tr>\n",
       "    <tr>\n",
       "      <th>26390</th>\n",
       "      <td>0082295A41A867B5</td>\n",
       "      <td>2020-12-17 16:04:53</td>\n",
       "      <td>purchase</td>\n",
       "      <td>4.99</td>\n",
       "      <td>2020-12-16</td>\n",
       "      <td>EU</td>\n",
       "      <td>iPhone</td>\n",
       "      <td>B</td>\n",
       "      <td>interface_eu_test</td>\n",
       "    </tr>\n",
       "    <tr>\n",
       "      <th>29203</th>\n",
       "      <td>0082295A41A867B5</td>\n",
       "      <td>2020-12-18 02:28:55</td>\n",
       "      <td>purchase</td>\n",
       "      <td>4.99</td>\n",
       "      <td>2020-12-16</td>\n",
       "      <td>EU</td>\n",
       "      <td>iPhone</td>\n",
       "      <td>A</td>\n",
       "      <td>recommender_system_test</td>\n",
       "    </tr>\n",
       "  </tbody>\n",
       "</table>\n",
       "</div>"
      ],
      "text/plain": [
       "                user_id            event_dt event_name  details first_date  \\\n",
       "24036  0082295A41A867B5 2020-12-16 07:06:32   purchase     4.99 2020-12-16   \n",
       "24037  0082295A41A867B5 2020-12-16 07:06:32   purchase     4.99 2020-12-16   \n",
       "26389  0082295A41A867B5 2020-12-17 16:04:53   purchase     4.99 2020-12-16   \n",
       "26390  0082295A41A867B5 2020-12-17 16:04:53   purchase     4.99 2020-12-16   \n",
       "29203  0082295A41A867B5 2020-12-18 02:28:55   purchase     4.99 2020-12-16   \n",
       "\n",
       "      region  device group                  ab_test  \n",
       "24036     EU  iPhone     A  recommender_system_test  \n",
       "24037     EU  iPhone     B        interface_eu_test  \n",
       "26389     EU  iPhone     A  recommender_system_test  \n",
       "26390     EU  iPhone     B        interface_eu_test  \n",
       "29203     EU  iPhone     A  recommender_system_test  "
      ]
     },
     "execution_count": 194,
     "metadata": {},
     "output_type": "execute_result"
    }
   ],
   "source": [
    "#Выведем информацию по пользователю, участвующего в 2х тестах и группах\n",
    "data.query('user_id==\"0082295A41A867B5\"').head()"
   ]
  },
  {
   "attachments": {},
   "cell_type": "markdown",
   "id": "76cf6a3f",
   "metadata": {},
   "source": [
    "887 пользователей попали в 2 группы тестирования, есть риск искажения данных,\\\n",
    "так как нельзя однозначно интерпретировать какое изменения повлияло на поведение пользователя."
   ]
  },
  {
   "cell_type": "code",
   "execution_count": 195,
   "id": "e63a0dc2",
   "metadata": {},
   "outputs": [
    {
     "name": "stdout",
     "output_type": "stream",
     "text": [
      "Отфильтровано: 19.68% данных.\n"
     ]
    }
   ],
   "source": [
    "#Удалим пользователей, которые попали в 2 группы тестирования и interface_eu_test\n",
    "data_cut = data.query('user_id not in@slip & ab_test !=\"interface_eu_test\"')\n",
    "#удалено:\n",
    "print(\n",
    "    \"Отфильтровано: {:.2%} данных.\"\n",
    "    .format(round((len(data)-len(data_cut))/len(data),4))\n",
    ")"
   ]
  },
  {
   "cell_type": "code",
   "execution_count": 196,
   "id": "fd0e5bf9",
   "metadata": {},
   "outputs": [
    {
     "name": "stdout",
     "output_type": "stream",
     "text": [
      "<class 'pandas.core.frame.DataFrame'>\n",
      "Int64Index: 358390 entries, 0 to 446210\n",
      "Data columns (total 9 columns):\n",
      " #   Column      Non-Null Count   Dtype         \n",
      "---  ------      --------------   -----         \n",
      " 0   user_id     358390 non-null  object        \n",
      " 1   event_dt    358390 non-null  datetime64[ns]\n",
      " 2   event_name  358390 non-null  object        \n",
      " 3   details     358390 non-null  float64       \n",
      " 4   first_date  358390 non-null  datetime64[ns]\n",
      " 5   region      358390 non-null  object        \n",
      " 6   device      358390 non-null  object        \n",
      " 7   group       18804 non-null   object        \n",
      " 8   ab_test     18804 non-null   object        \n",
      "dtypes: datetime64[ns](2), float64(1), object(6)\n",
      "memory usage: 27.3+ MB\n"
     ]
    }
   ],
   "source": [
    "#Проверим пользователей, по которым не указана информация о группе к которым они относятся.\n",
    "data_cut.info()"
   ]
  },
  {
   "cell_type": "code",
   "execution_count": 197,
   "id": "351824b9",
   "metadata": {},
   "outputs": [
    {
     "name": "stdout",
     "output_type": "stream",
     "text": [
      "Отфильтровано, без группы тестирования: 94.75% данных.\n"
     ]
    }
   ],
   "source": [
    "#создадим список с пользователями у которых не указана группа.\n",
    "error=data_cut.query('group.isna()==True')['user_id']\n",
    "#делаем срез, выведем % удаления\n",
    "data_cut_1 = data_cut.query('user_id not in@error')\n",
    "print(\n",
    "    \"Отфильтровано, без группы тестирования: {:.2%} данных.\"\n",
    "    .format(round((len(data_cut)-len(data_cut_1))/len(data_cut),4))\n",
    ")"
   ]
  },
  {
   "cell_type": "code",
   "execution_count": 198,
   "id": "bbbc1055",
   "metadata": {},
   "outputs": [
    {
     "name": "stdout",
     "output_type": "stream",
     "text": [
      "Минимальная дата события: 2020-12-07 00:00:00\n",
      "Максимальная дата события: 2020-12-21 00:00:00\n"
     ]
    }
   ],
   "source": [
    "#минимальная и максимальная дата появления нового пользователя\n",
    "print(\"Минимальная дата события: {}\".format(data_cut_1['first_date'].min()))\n",
    "print(\"Максимальная дата события: {}\".format(data_cut_1['first_date'].max()))"
   ]
  },
  {
   "attachments": {},
   "cell_type": "markdown",
   "id": "eb0f5d36",
   "metadata": {},
   "source": [
    "По очищенным данным минимальная и максимальная даты событий соответствуют условиям ТЗ (2020-12-07 - 2020-12-21)"
   ]
  },
  {
   "attachments": {},
   "cell_type": "markdown",
   "id": "90f2b4cf",
   "metadata": {},
   "source": [
    "### Пересечение с маркетинговыми мероприятиями"
   ]
  },
  {
   "cell_type": "code",
   "execution_count": 199,
   "id": "439171f4",
   "metadata": {},
   "outputs": [
    {
     "data": {
      "text/html": [
       "<div>\n",
       "<style scoped>\n",
       "    .dataframe tbody tr th:only-of-type {\n",
       "        vertical-align: middle;\n",
       "    }\n",
       "\n",
       "    .dataframe tbody tr th {\n",
       "        vertical-align: top;\n",
       "    }\n",
       "\n",
       "    .dataframe thead th {\n",
       "        text-align: right;\n",
       "    }\n",
       "</style>\n",
       "<table border=\"1\" class=\"dataframe\">\n",
       "  <thead>\n",
       "    <tr style=\"text-align: right;\">\n",
       "      <th></th>\n",
       "      <th>name</th>\n",
       "      <th>regions</th>\n",
       "      <th>start_dt</th>\n",
       "      <th>finish_dt</th>\n",
       "    </tr>\n",
       "  </thead>\n",
       "  <tbody>\n",
       "    <tr>\n",
       "      <th>0</th>\n",
       "      <td>Christmas&amp;New Year Promo</td>\n",
       "      <td>EU, N.America</td>\n",
       "      <td>2020-12-25</td>\n",
       "      <td>2021-01-03</td>\n",
       "    </tr>\n",
       "    <tr>\n",
       "      <th>10</th>\n",
       "      <td>CIS New Year Gift Lottery</td>\n",
       "      <td>CIS</td>\n",
       "      <td>2020-12-30</td>\n",
       "      <td>2021-01-07</td>\n",
       "    </tr>\n",
       "  </tbody>\n",
       "</table>\n",
       "</div>"
      ],
      "text/plain": [
       "                         name        regions   start_dt  finish_dt\n",
       "0    Christmas&New Year Promo  EU, N.America 2020-12-25 2021-01-03\n",
       "10  CIS New Year Gift Lottery            CIS 2020-12-30 2021-01-07"
      ]
     },
     "metadata": {},
     "output_type": "display_data"
    }
   ],
   "source": [
    "display(marketing_events.query('start_dt>\"2020-12-06\" and start_dt<\"2020-12-31\"'))"
   ]
  },
  {
   "attachments": {},
   "cell_type": "markdown",
   "id": "233e3fda",
   "metadata": {},
   "source": [
    "Есть пересечение с проведением мероприятия \"Christmas&New Year Promo\", скорректируем дату проведения тестирования до 2020-12-24."
   ]
  },
  {
   "cell_type": "code",
   "execution_count": 200,
   "id": "3b65310c",
   "metadata": {},
   "outputs": [
    {
     "name": "stdout",
     "output_type": "stream",
     "text": [
      "Отфильтровано: 13.32% данных.\n"
     ]
    }
   ],
   "source": [
    "data_cut_2 = data_cut_1.query('event_dt<\"2020-12-25\"')\n",
    "\n",
    "print(\n",
    "    'Отфильтровано: {:.2%} данных.'\n",
    "    .format(round((len(data_cut_1)-len(data_cut_2))/len(data_cut_1),4))\n",
    ")"
   ]
  },
  {
   "attachments": {},
   "cell_type": "markdown",
   "id": "d4e8f321",
   "metadata": {},
   "source": [
    "### Регион EU, 15% пользователей"
   ]
  },
  {
   "cell_type": "code",
   "execution_count": 201,
   "id": "230fa80d",
   "metadata": {},
   "outputs": [
    {
     "data": {
      "text/html": [
       "<div>\n",
       "<style scoped>\n",
       "    .dataframe tbody tr th:only-of-type {\n",
       "        vertical-align: middle;\n",
       "    }\n",
       "\n",
       "    .dataframe tbody tr th {\n",
       "        vertical-align: top;\n",
       "    }\n",
       "\n",
       "    .dataframe thead th {\n",
       "        text-align: right;\n",
       "    }\n",
       "</style>\n",
       "<table border=\"1\" class=\"dataframe\">\n",
       "  <thead>\n",
       "    <tr style=\"text-align: right;\">\n",
       "      <th></th>\n",
       "      <th>region</th>\n",
       "      <th>user_id</th>\n",
       "      <th>part</th>\n",
       "    </tr>\n",
       "  </thead>\n",
       "  <tbody>\n",
       "    <tr>\n",
       "      <th>0</th>\n",
       "      <td>EU</td>\n",
       "      <td>46270</td>\n",
       "      <td>6,940.50</td>\n",
       "    </tr>\n",
       "  </tbody>\n",
       "</table>\n",
       "</div>"
      ],
      "text/plain": [
       "  region  user_id     part\n",
       "0     EU    46270 6,940.50"
      ]
     },
     "metadata": {},
     "output_type": "display_data"
    }
   ],
   "source": [
    "#Создадим таблицу EU \n",
    "EU=(\n",
    "    new_users\n",
    "    .query('region==\"EU\"')\n",
    "    .pivot_table(index=['region'], values='user_id', aggfunc='nunique')\n",
    "    .reset_index()\n",
    ")\n",
    "#15% от общего количества\n",
    "EU['part'] = EU['user_id']*15/100\n",
    "display(EU)"
   ]
  },
  {
   "attachments": {},
   "cell_type": "markdown",
   "id": "bc3005ce",
   "metadata": {},
   "source": [
    "Согласно ТЗ в тестировании \"recommender_system_test\" должно участвовать 6,940.50 пользователя из Европы. Проверим это условие."
   ]
  },
  {
   "cell_type": "code",
   "execution_count": 202,
   "id": "4b7fcd10",
   "metadata": {},
   "outputs": [
    {
     "name": "stdout",
     "output_type": "stream",
     "text": [
      "Общее количество участников: 2,788.\n",
      "\n",
      "Общее количество участников из Европы: 2,594.\n",
      "\n",
      "Общее количество участников группы А: 2,082.\n",
      "\n",
      "Общее количество участников группы B: 706.\n"
     ]
    }
   ],
   "source": [
    "#создадим таблицу, в которой отобразим информацию по тестированию recommender_system_test.\n",
    "data_group_by_test_recommender=(\n",
    "    data_cut_2\n",
    "    .pivot_table(index=['region','group'],values='user_id',aggfunc='nunique')\n",
    "    .reset_index()\n",
    ")\n",
    "\n",
    "print(\n",
    "    'Общее количество участников: {:,}.'\n",
    "    .format(data_group_by_test_recommender['user_id'].sum())\n",
    ")\n",
    "print()\n",
    "print(\n",
    "    'Общее количество участников из Европы: {:,}.'\n",
    "    .format(data_group_by_test_recommender.query('region==\"EU\"')['user_id'].sum())\n",
    ")\n",
    "print()\n",
    "print(\n",
    "    'Общее количество участников группы А: {:,}.'\n",
    "    .format(data_group_by_test_recommender.query('group==\"A\"')['user_id'].sum())\n",
    ")\n",
    "print()\n",
    "print(\n",
    "    'Общее количество участников группы B: {:,}.'\n",
    "    .format(data_group_by_test_recommender.query('group==\"B\"')['user_id'].sum())\n",
    ")"
   ]
  },
  {
   "cell_type": "code",
   "execution_count": 203,
   "id": "b39d3f99",
   "metadata": {},
   "outputs": [
    {
     "data": {
      "text/html": [
       "<div>\n",
       "<style scoped>\n",
       "    .dataframe tbody tr th:only-of-type {\n",
       "        vertical-align: middle;\n",
       "    }\n",
       "\n",
       "    .dataframe tbody tr th {\n",
       "        vertical-align: top;\n",
       "    }\n",
       "\n",
       "    .dataframe thead th {\n",
       "        text-align: right;\n",
       "    }\n",
       "</style>\n",
       "<table border=\"1\" class=\"dataframe\">\n",
       "  <thead>\n",
       "    <tr style=\"text-align: right;\">\n",
       "      <th></th>\n",
       "      <th>region</th>\n",
       "      <th>group</th>\n",
       "      <th>user_id</th>\n",
       "    </tr>\n",
       "  </thead>\n",
       "  <tbody>\n",
       "    <tr>\n",
       "      <th>0</th>\n",
       "      <td>APAC</td>\n",
       "      <td>A</td>\n",
       "      <td>28</td>\n",
       "    </tr>\n",
       "    <tr>\n",
       "      <th>1</th>\n",
       "      <td>APAC</td>\n",
       "      <td>B</td>\n",
       "      <td>17</td>\n",
       "    </tr>\n",
       "    <tr>\n",
       "      <th>2</th>\n",
       "      <td>CIS</td>\n",
       "      <td>A</td>\n",
       "      <td>19</td>\n",
       "    </tr>\n",
       "    <tr>\n",
       "      <th>3</th>\n",
       "      <td>CIS</td>\n",
       "      <td>B</td>\n",
       "      <td>11</td>\n",
       "    </tr>\n",
       "    <tr>\n",
       "      <th>4</th>\n",
       "      <td>EU</td>\n",
       "      <td>A</td>\n",
       "      <td>1939</td>\n",
       "    </tr>\n",
       "    <tr>\n",
       "      <th>5</th>\n",
       "      <td>EU</td>\n",
       "      <td>B</td>\n",
       "      <td>655</td>\n",
       "    </tr>\n",
       "    <tr>\n",
       "      <th>6</th>\n",
       "      <td>N.America</td>\n",
       "      <td>A</td>\n",
       "      <td>96</td>\n",
       "    </tr>\n",
       "    <tr>\n",
       "      <th>7</th>\n",
       "      <td>N.America</td>\n",
       "      <td>B</td>\n",
       "      <td>23</td>\n",
       "    </tr>\n",
       "  </tbody>\n",
       "</table>\n",
       "</div>"
      ],
      "text/plain": [
       "      region group  user_id\n",
       "0       APAC     A       28\n",
       "1       APAC     B       17\n",
       "2        CIS     A       19\n",
       "3        CIS     B       11\n",
       "4         EU     A     1939\n",
       "5         EU     B      655\n",
       "6  N.America     A       96\n",
       "7  N.America     B       23"
      ]
     },
     "execution_count": 203,
     "metadata": {},
     "output_type": "execute_result"
    }
   ],
   "source": [
    "data_group_by_test_recommender"
   ]
  },
  {
   "attachments": {},
   "cell_type": "markdown",
   "id": "ba81388c",
   "metadata": {},
   "source": [
    "В тестировании recommender_system_test участвует вссего 2,788 пользователей,\\\n",
    "что не соответствует ожидаемому количеству участников в 6000 человек и 15% новых пользователей из EU."
   ]
  },
  {
   "cell_type": "code",
   "execution_count": 205,
   "id": "10eec8e8",
   "metadata": {},
   "outputs": [
    {
     "name": "stdout",
     "output_type": "stream",
     "text": [
      "В результате проверки на соответствие ТЗ отфильтровано\": 96.35% данных.\n"
     ]
    }
   ],
   "source": [
    "print(\n",
    "    'В результате проверки на соответствие ТЗ отфильтровано\": {:.2%} данных.'\n",
    "    .format(round((len(data)-len(data_cut_2))/len(data),4))\n",
    ")"
   ]
  },
  {
   "attachments": {},
   "cell_type": "markdown",
   "id": "c0fdddc8",
   "metadata": {},
   "source": [
    "### Вывод:\n",
    "\n",
    "По условиям ТЗ установлены следующие даты тестирования:\n",
    "\n",
    "дата запуска: 2020-12-07;\\\n",
    "дата остановки набора новых пользователей: 2020-12-21;\\\n",
    "дата остановки: 2021-01-04;\n",
    "\n",
    "В выгруженном датасете, после выполенения предобработки был опеределен период данных с 2020-12-07 по 2020-12-30,\\\n",
    "что не соответствует дате остановки, указанной в ТЗ.\n",
    "\n",
    "При проверке дат проведения маркетинговых мероприятий была выявлено пересечение мероприятия \"Christmas&New Year Promo\",\\\n",
    "дата остановки тестирования изменена на: 2020-12-24.\n",
    "\n",
    "Часть пользователей попали в конкурирующие группы тестирования (А и В) и в 2 теста.\\\n",
    "Информация по данным пользователям была удалена из датасета.\n",
    "\n",
    "В датасете отражена информация о 2 тестированиях: recommender_system_test и interface_eu_test.\\\n",
    "Информация о 2м тестировании удалена в соответствии с ТЗ.\n",
    "\n",
    "Ччастично соблюдены условия:\n",
    "\n",
    "Аудитория: 15% (6,940.50) новых пользователей из региона EU (общее число пользователей на 2 группы равно 12,001 );\\\n",
    "Ожидаемое количество участников теста: 6000 (общее количество пользователей по 2 группам - 12,195)."
   ]
  },
  {
   "attachments": {},
   "cell_type": "markdown",
   "id": "ef6095ee",
   "metadata": {},
   "source": [
    "## Исследовательский анализ данных (EDA)."
   ]
  }
 ],
 "metadata": {
  "kernelspec": {
   "display_name": "Python 3 (ipykernel)",
   "language": "python",
   "name": "python3"
  },
  "language_info": {
   "codemirror_mode": {
    "name": "ipython",
    "version": 3
   },
   "file_extension": ".py",
   "mimetype": "text/x-python",
   "name": "python",
   "nbconvert_exporter": "python",
   "pygments_lexer": "ipython3",
   "version": "3.9.13"
  }
 },
 "nbformat": 4,
 "nbformat_minor": 5
}
